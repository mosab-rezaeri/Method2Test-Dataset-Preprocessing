{
 "cells": [
  {
   "cell_type": "markdown",
   "metadata": {},
   "source": [
    "## Preprocessing on the Method2test Datasets:\n",
    "\n",
    "#### 1. preparing the dataset for abstraction by src2abs.\n",
    "#### 2. running src2abs on the dataset for abstraction\n",
    "#### 3. removing long samples for training the model\n"
   ]
  },
  {
   "cell_type": "code",
   "execution_count": 1,
   "metadata": {},
   "outputs": [
    {
     "name": "stdout",
     "output_type": "stream",
     "text": [
      "length input is  :  462093\n",
      "length output is :  462093\n"
     ]
    }
   ],
   "source": [
    "# reading the datasets: input (Methods) and output (Test Cases) text files\n",
    "\n",
    "with open(\"input.methods.txt\", \"r\", encoding='utf-8') as f_read_in:\n",
    "    input_methods = f_read_in.readlines()\n",
    "    \n",
    "with open(\"output.tests.txt\", \"r\", encoding='utf-8') as f_output_tests:\n",
    "    output_tests = f_output_tests.readlines()\n",
    "    \n",
    "\n",
    "print('length input is  : ', len(input_methods))\n",
    "print('length output is : ', len(output_tests))"
   ]
  },
  {
   "cell_type": "code",
   "execution_count": 2,
   "metadata": {},
   "outputs": [
    {
     "name": "stdout",
     "output_type": "stream",
     "text": [
      "length input is  :  5000\n",
      "length output is :  5000\n"
     ]
    }
   ],
   "source": [
    "# decreasing the number of samples for checking the code:\n",
    "\n",
    "input_methods = input_methods [:5000]\n",
    "output_tests = output_tests [:5000]\n",
    "\n",
    "print('length input is  : ', len(input_methods))\n",
    "print('length output is : ', len(output_tests))"
   ]
  },
  {
   "cell_type": "markdown",
   "metadata": {},
   "source": [
    "## 1. preparing the dataset for src2abs\n"
   ]
  },
  {
   "cell_type": "code",
   "execution_count": 3,
   "metadata": {},
   "outputs": [],
   "source": [
    "# removing annotations:\n",
    "# (Since src2abs can't abstract the code with annotations (@...) we have to find them and remove them.)\n",
    "\n",
    "import re\n",
    "\n",
    "for i in range(len(input_methods)):\n",
    "    # removing simple annotations (like @Test, @Deprecated, ...):\n",
    "    input_methods[i] = re.sub(r'@\\w+ ', '', input_methods[i]) \n",
    "    \n",
    "    # removing other annotations (like @SuppressWarnings(\"unchecked\"), @Path(\"paths\"), ...):\n",
    "    annotations = re.findall('@\\w+\\(',input_methods[i])\n",
    "    for a in annotations:\n",
    "        a_end_1 = input_methods[i].find(a)\n",
    "        a_end_2 = input_methods[i].find(')', a_end_1)\n",
    "        input_methods[i] = input_methods[i].replace(input_methods[i][a_end_1:a_end_2+1], '')\n",
    "    \n",
    "    # removing syntax error (everything between last ';' and last '}'):\n",
    "    end_1 = input_methods[i].rfind(r';')\n",
    "    if (end_1) > -1:\n",
    "        end_2 = input_methods[i][end_1:].find(r'}')\n",
    "        if (end_2) > -1:\n",
    "            end_2 = end_2 + end_1\n",
    "            input_methods[i] = input_methods[i][:end_1] + \"; \" + input_methods[i][end_2:]\n",
    "    \n",
    "    \n",
    "    \n",
    "for i in range(len(output_tests)):\n",
    "    # removing simple annotations (like @Test, @Deprecated, ...):\n",
    "    output_tests[i] = re.sub(r'@\\w+ ', '', output_tests[i])\n",
    "    \n",
    "    # removing other annotations (like @SuppressWarnings(\"unchecked\"), @Path(\"paths\"), ...):\n",
    "    annotations = re.findall('@\\w+\\(',output_tests[i])\n",
    "    for a in annotations:\n",
    "        a_end_1 = output_tests[i].find(a)\n",
    "        a_end_2 = output_tests[i].find(')', a_end_1)\n",
    "        output_tests[i] = output_tests[i].replace(output_tests[i][a_end_1:a_end_2+1], '')\n",
    "    \n",
    "    # removing syntax error (everything between last ';' and last '}'):    \n",
    "    end_1 = output_tests[i].rfind(r';')\n",
    "    if (end_1) > -1:\n",
    "        end_2 = output_tests[i][end_1:].find(r'}')\n",
    "        if (end_2) > -1:\n",
    "            end_2 = end_2 + end_1\n",
    "            output_tests[i] = output_tests[i][:end_1] + \"; \" + output_tests[i][end_2:]"
   ]
  },
  {
   "cell_type": "code",
   "execution_count": 4,
   "metadata": {},
   "outputs": [],
   "source": [
    "# we will find public or private or protected that appears sooner and will remove everything before them:\n",
    "\n",
    "num_samples = len(input_methods)\n",
    "\n",
    "nothing_index_input = []\n",
    "for i in range(num_samples):\n",
    "    index = []\n",
    "    index.append(input_methods[i].find('public'))\n",
    "    index.append(input_methods[i].find('private'))\n",
    "    index.append(input_methods[i].find('protected'))\n",
    "    \n",
    "    if (index[0] == -1) and (index[1] == -1) and (index[2] == -1):   \n",
    "        nothing_index_input.append(i)       \n",
    "    else:    \n",
    "        min_index = min([x for x in index if x > -1])\n",
    "        input_methods[i] = input_methods[i][min_index:]\n",
    "\n",
    "        \n",
    "nothing_index_output = []\n",
    "for i in range(num_samples):  \n",
    "    index = []\n",
    "    index.append(output_tests[i].find('public'))\n",
    "    index.append(output_tests[i].find('private'))\n",
    "    index.append(output_tests[i].find('protected'))\n",
    "    \n",
    "    if (index[0] == -1) and (index[1] == -1) and (index[2] == -1):   \n",
    "        nothing_index_output.append(i)\n",
    "    else:    \n",
    "        min_index = min([x for x in index if x > -1])\n",
    "        output_tests[i] = output_tests[i][min_index:]\n"
   ]
  },
  {
   "cell_type": "code",
   "execution_count": 6,
   "metadata": {},
   "outputs": [],
   "source": [
    "#print ('Number of the samples that do not contain public or private or protected (', len(nothing_index_input), '):')\n",
    "#print (nothing_index_input, '\\n')\n",
    "\n",
    "#for i in nothing_index_input:\n",
    "#    print(input_methods[i][:-1])\n",
    "\n",
    "#print ('Number of the samples that do not contain public or private or protected (', len(nothing_index_output), '):')\n",
    "#print (nothing_index_output, '\\n')\n",
    "\n",
    "#for i in nothing_index_output:\n",
    "#    print(output_tests[i][:-1])"
   ]
  },
  {
   "cell_type": "code",
   "execution_count": 7,
   "metadata": {},
   "outputs": [],
   "source": [
    "# saving the preprocessed inputs and outputs in new text files:\n",
    "\n",
    "with open(\"input.methods.preprocessed.txt\", \"w\", encoding='utf-8') as f_input_preprocessed:\n",
    "    for s in input_methods:\n",
    "        f_input_preprocessed.write(s)\n",
    "\n",
    "f_input_preprocessed.close()\n",
    "\n",
    "\n",
    "with open(\"output.tests.preprocessed.txt\", \"w\", encoding='utf-8') as f_output_preprocessed:\n",
    "    for s in output_tests:\n",
    "        f_output_preprocessed.write(s)\n",
    "\n",
    "f_output_preprocessed.close()"
   ]
  },
  {
   "cell_type": "markdown",
   "metadata": {},
   "source": [
    "## 2. runinng src2abs on dataset for abstraction"
   ]
  },
  {
   "cell_type": "code",
   "execution_count": null,
   "metadata": {},
   "outputs": [],
   "source": [
    "# downloading the src2abs to Abstracting the methods and test cases:\n",
    "\n",
    "! git clone https://github.com/micheletufano/src2abs.git"
   ]
  },
  {
   "cell_type": "markdown",
   "metadata": {},
   "source": [
    "#### Attention Please:\n",
    "There are several syntax errors that haven't solved by previous steps.\n",
    "So we need to save the index of all buggy samples in a file to remove them from the dataset.\n",
    "To aim this goal we need to change the src2abs source code.\n",
    "\n",
    "##### 1- find and open the AbstractorManager.java file.\n",
    "\n",
    "##### 2- add the below imports:\n",
    "\n",
    "import java.io.BufferedWriter;\n",
    "\n",
    "import java.io.BufferedReader;\n",
    "\n",
    "import java.nio.file.Path;\n",
    "\n",
    "import java.io.FileWriter;\n",
    "\n",
    "import java.io.FileReader;\n",
    "\n",
    "import java.io.IOException;\n",
    "\n",
    "##### 3- search for both (\"Parsing ERROR!\")\n",
    "\n",
    "##### 4- add the below code in the catch place before first \"Parsing ERROR!\" (src2abs for single):\n",
    "    ////////-- My Code: --///////////////////////////// \n",
    "        //String log_single = e.toString().split(\"\\\\r?\\\\n\")[0];\n",
    "        try {\n",
    "            //BufferedReader reader_single = new BufferedReader(new FileReader(inputCodePath));\n",
    "            //String buggy_sample_single = reader_single.readLine();\n",
    "            //reader_single.close();\n",
    "\n",
    "            BufferedWriter writer_single = new BufferedWriter(new FileWriter(\"parsError_single.txt\", true));\n",
    "            //writer_single.write(buggy_sample_single + \"\\n\");\n",
    "            writer_single.write(\"Buggy Sample\");\n",
    "            writer_single.close();\n",
    "        } catch (IOException ee_single) {\n",
    "            System.out.println(\"exception occoured\" + ee_single);\n",
    "        }\n",
    "    ///////////////////////////////////////////////////\n",
    "            \n",
    "##### 5- add the below code in the catch place before second \"Parsing ERROR!\" (src2abs for pair):\n",
    "           \n",
    "    ////////-- My Code: --///////////////////////////// \n",
    "        //String log_pair = e.toString().split(\"\\\\r?\\\\n\")[0];\n",
    "        try {\n",
    "            //BufferedReader reader_pair = new BufferedReader(new FileReader(inputCodePath1));\n",
    "            //String buggy_sample_pair = reader_pair.readLine();\n",
    "            //reader_pair.close();\n",
    "\n",
    "            BufferedWriter writer_pair = new BufferedWriter(new FileWriter(\"parsError_pair.txt\", true));\n",
    "            //writer_pair.write(buggy_sample_pair + \"\\n\");\n",
    "            writer_pair.write(\"Buggy Sample\");\n",
    "            writer_pair.close();\n",
    "        } catch (IOException ee_pair) {\n",
    "            System.out.println(\"exception occoured\" + ee_pair);\n",
    "        }\n",
    "    ///////////////////////////////////////////////////\n",
    "        "
   ]
  },
  {
   "cell_type": "code",
   "execution_count": null,
   "metadata": {},
   "outputs": [],
   "source": [
    "cd src2abs\n",
    "\n",
    "! mvn clean\n",
    "! mvn install:install-file -Dfile=\"lib/javalexer.jar\" -DgroupId=\"edu.wm.cs\" -DartifactId=\"javalexer\" -Dversion=\"1\" -Dpackaging=\"jar\"\n",
    "! mvn package"
   ]
  },
  {
   "cell_type": "markdown",
   "metadata": {},
   "source": [
    "#### Here you can run src2abs on a file contain just one sample (for checking):\n"
   ]
  },
  {
   "cell_type": "code",
   "execution_count": null,
   "metadata": {},
   "outputs": [],
   "source": [
    "# removing the previous generated file by src2abs:\n",
    "\n",
    "import os\n",
    "from pathlib import Path\n",
    "\n",
    "if Path(\"input_methods_abstracted.txt\").is_file():          \n",
    "    os.remove(\"input_methods_abstracted.txt\")\n",
    "    \n",
    "if Path(\"output_tests_abstracted.txt\").is_file():          \n",
    "    os.remove(\"output_tests_abstracted.txt\")     \n",
    "\n",
    "if Path(\"input_methods_abstracted.txt.map\").is_file():          \n",
    "    os.remove(\"input_methods_abstracted.txt.map\")\n",
    "\n",
    "    \n",
    "# Run Single mode of src2abs:\n",
    "#! java -jar target/src2abs-0.1-jar-with-dependencies.jar single method ./outputTEST.txt ./input_methods_abstracted.txt ./idioms/idioms-review.csv\n",
    "\n",
    "# Run Method mode of src2abs:\n",
    "! java -jar ./target/src2abs-0.1-jar-with-dependencies.jar pair method ./input.methods.testing.txt ./output.tests.testing.txt ./input_methods_abstracted.txt ./output_tests_abstracted.txt ./idioms/idioms-review.csv"
   ]
  },
  {
   "cell_type": "code",
   "execution_count": null,
   "metadata": {},
   "outputs": [],
   "source": [
    "# Display the result:\n",
    "\n",
    "# Enabling the horizontal scrollbar:\n",
    "from IPython.core.display import HTML\n",
    "display(HTML(\"<style>pre { white-space: pre !important; }</style>\"))\n",
    "\n",
    "\n",
    "# Prints results:\n",
    "with open(\"input.methods.testing.txt\", \"r\", encoding='utf-8') as f:\n",
    "    print(\"Input Method:\")\n",
    "    print(f.readlines()[0][:-1], \"\\n\")\n",
    "\n",
    "with open(\"input_methods_abstracted.txt\", \"r\", encoding='utf-8') as f:\n",
    "    print(\"Abstracted:\")\n",
    "    print(f.readlines()[0], \"\\n\\n\")\n",
    "\n",
    "\n",
    "with open(\"output.tests.testing.txt\", \"r\", encoding='utf-8') as f:\n",
    "    print(\"Output Test:\")\n",
    "    print(f.readlines()[0][:-1], \"\\n\")\n",
    "\n",
    "with open(\"output_tests_abstracted.txt\", \"r\", encoding='utf-8') as f:\n",
    "    print(\"Abstracted:\")\n",
    "    print(f.readlines()[0])\n",
    "\n",
    "print(\"\\n--------------------------------------------------------------------------------------------------------------\\n\")\n",
    "\n",
    "# Print results in map file:\n",
    "\n",
    "with open(\"input_methods_abstracted.txt.map\", \"r\", encoding='utf-8') as f:\n",
    "    print(\"Map:\\n\")\n",
    "    for i, line in enumerate(f.readlines()):\n",
    "        print(i,\"=>\",line)"
   ]
  },
  {
   "cell_type": "markdown",
   "metadata": {},
   "source": [
    "### Runing src2abs on the dataset:"
   ]
  },
  {
   "cell_type": "code",
   "execution_count": null,
   "metadata": {},
   "outputs": [],
   "source": [
    "import os\n",
    "from pathlib import Path\n",
    "# Enabling the horizontal scrollbar:\n",
    "from IPython.core.display import HTML\n",
    "display(HTML(\"<style>pre { white-space: pre !important; }</style>\"))\n",
    "\n",
    "\n",
    "# Read preprocessed input(methods) and output(tests) files:\n",
    "with open(\"input.methods.preprocessed.txt\", \"r\", encoding='utf-8') as f_read_in:\n",
    "    all_input = f_read_in.readlines()\n",
    "with open(\"output.tests.preprocessed.txt\", \"r\", encoding='utf-8') as f_read_out:\n",
    "    all_output = f_read_out.readlines()    \n",
    "\n",
    "# decreasing the number of samples to test the functionality:\n",
    "all_input  = all_input[:1300]    \n",
    "all_output = all_output[:1300]\n",
    "\n",
    "# Since, the reslut of src2abs for all samples are store in just one line, We have to calulate \n",
    "# the length of the abstracted version of each file to extract them from the resut file.\n",
    "\n",
    "# So First we have to run src2abs seperately on each sample and calculate the number of words\n",
    "# in result. Then after runing src2abs on the file which contains all sample, we will extract\n",
    "# each the result of each sample based on its length. \n",
    "\n",
    "#why we have to run again src2abs on whole sample? because of the map file. \n",
    "\n",
    "len_inputs  = []    # the length of each sample in input file\n",
    "len_outputs = []    # the length of each sample in output file\n",
    "buggy_samples = []  # the indexes of samples with Parsing Error.\n",
    " \n",
    "number_all_input = len(all_input)\n",
    "\n",
    "for i in range(number_all_input):\n",
    "    \n",
    "    # we extract each sample one by one to run src2abs on it separately to calculate their length:\n",
    "    with open(\"temp_in.txt\", \"w\", encoding='utf-8') as f_write_in: \n",
    "        f_write_in.write(all_input[i])\n",
    "    f_write_in.close()\n",
    "    with open(\"temp_out.txt\", \"w\", encoding='utf-8') as f_write_out:\n",
    "        f_write_out.write(all_output[i])\n",
    "    f_write_out.close()    \n",
    "    \n",
    "    # removing the previous generated file by src2abs:\n",
    "    if Path(\"temp_input_methods_abstracted.txt\").is_file():          \n",
    "        os.remove(\"temp_input_methods_abstracted.txt\")\n",
    "\n",
    "    if Path(\"temp_output_tests_abstracted.txt\").is_file():          \n",
    "        os.remove(\"temp_output_tests_abstracted.txt\")     \n",
    "\n",
    "    if Path(\"temp_input_methods_abstracted.txt.map\").is_file():          \n",
    "        os.remove(\"temp_input_methods_abstracted.txt.map\")    \n",
    "    \n",
    "    # run src2abs:\n",
    "    print ('\\nSample ', i, ':') # for debuging\n",
    "    ! java -jar ./target/src2abs-0.1-jar-with-dependencies.jar pair method ./temp_in.txt ./temp_out.txt ./temp_input_methods_abstracted.txt ./temp_output_tests_abstracted.txt ./idioms/idioms-review.csv\n",
    "    \n",
    "    # counts number of words:\n",
    "    # we didn't use of len method, since here most of the file has small number in map file like VAR_1 (len = 4) but in next step it can be VAR_78 (len = 6)\n",
    "    with open(\"temp_input_methods_abstracted.txt\", \"r\", encoding='utf-8') as f_read_in_abs:\n",
    "        temp_input = f_read_in_abs.readlines()[0]\n",
    "        len_inputs.append(len(temp_input.split()))\n",
    "    f_read_in_abs.close()\n",
    "    \n",
    "    with open(\"temp_output_tests_abstracted.txt\", \"r\", encoding='utf-8') as f_read_out_abs:\n",
    "        temp_output = f_read_out_abs.readlines()[0]\n",
    "        len_outputs.append(len(temp_output.split()))\n",
    "    f_read_out_abs.close()\n",
    "    \n",
    "      \n",
    "    # if the sample faced Parsing Error store the index:   \n",
    "    f_pars_eroro = open('parsError_pair.txt', 'r')\n",
    "    str_pars_eroro = f_pars_eroro.read();\n",
    "    f_pars_eroro.close()\n",
    "    \n",
    "    if (str_pars_eroro.find(\"Buggy Sample\") != -1):\n",
    "        buggy_samples.append(i) \n",
    "\n",
    "    open('parsError_pair.txt', 'w').close()\n",
    "     \n",
    "    "
   ]
  },
  {
   "cell_type": "code",
   "execution_count": null,
   "metadata": {},
   "outputs": [],
   "source": [
    "# Results:\n",
    "\n",
    "# smaples with Parsing Error:\n",
    "print(\"Number of Parsing Error:\\n\", len(buggy_samples))\n",
    "print(\"Example:\\n\", buggy_samples[0])\n",
    "print(\"------------------------------------------------------------------------\")\n",
    "\n",
    "# length of each sample in input file:\n",
    "print(\"Number of lengths calculated for the input samples:\\n\", len(len_inputs))\n",
    "print(\"Example:\\n\", len_inputs[0])\n",
    "print(\"------------------------------------------------------------------------\")\n",
    "\n",
    "# length of each sample in output file:\n",
    "print(\"Number of lengths calculated for the output samples:\\n\", len(len_outputs))\n",
    "print(\"Example:\\n\", len_outputs[0]) \n",
    "print(\"------------------------------------------------------------------------\")\n",
    "\n",
    "# all input samples:\n",
    "print(\"Number of input samples:\\n\", len(all_input))\n",
    "print(\"Example:\\n\", all_input[0]) \n",
    "print(\"------------------------------------------------------------------------\")\n",
    "\n",
    "# all output samples:\n",
    "print(\"Number of output samples:\\n\", len(all_output))\n",
    "print(\"Example:\\n\", all_output[0]) "
   ]
  },
  {
   "cell_type": "code",
   "execution_count": 13,
   "metadata": {},
   "outputs": [],
   "source": [
    "# removing samples with Parsing ERROR! from the dataset:\n",
    "\n",
    "for i in reversed(buggy_samples):\n",
    "    del len_inputs[i]\n",
    "    del len_outputs[i]\n",
    "    del all_input[i]\n",
    "    del all_output[i]"
   ]
  },
  {
   "cell_type": "code",
   "execution_count": 14,
   "metadata": {},
   "outputs": [],
   "source": [
    "# saving the preprocessed inputs and outputs without the Parsing Error:\n",
    "\n",
    "with open(\"input.methods.preprocessed.txt\", \"w\", encoding='utf-8') as f_input_preprocessed_p_e:\n",
    "    for s in all_input:\n",
    "        f_input_preprocessed_p_e.write(s)\n",
    "\n",
    "f_input_preprocessed_p_e.close()\n",
    "\n",
    "\n",
    "with open(\"output.tests.preprocessed.txt\", \"w\", encoding='utf-8') as f_output_preprocessed_p_e:\n",
    "    for s in all_output:\n",
    "        f_output_preprocessed_p_e.write(s)\n",
    "\n",
    "f_output_preprocessed_p_e.close()"
   ]
  },
  {
   "cell_type": "code",
   "execution_count": 15,
   "metadata": {},
   "outputs": [
    {
     "name": "stdout",
     "output_type": "stream",
     "text": [
      "Source Code Abstracted successfully!\n",
      "Abstracted Code: ./input_methods_abstracted.txt and ./output_tests_abstracted.txt\n",
      "Mapping: ./input_methods_abstracted.txt.map\n"
     ]
    }
   ],
   "source": [
    "# runing src2abs on whole samples:\n",
    "\n",
    "# removing the previous generated file by src2abs:\n",
    "if Path(\"input_methods_abstracted.txt\").is_file():          \n",
    "    os.remove(\"input_methods_abstracted.txt\")\n",
    "\n",
    "if Path(\"output_tests_abstracted.txt\").is_file():          \n",
    "    os.remove(\"output_tests_abstracted.txt\")     \n",
    "\n",
    "if Path(\"output_tests_abstracted.txt.map\").is_file():          \n",
    "    os.remove(\"output_tests_abstracted.txt.map\")    \n",
    "    \n",
    "\n",
    "! java -jar ./target/src2abs-0.1-jar-with-dependencies.jar pair method ./input.methods.preprocessed.txt ./output.tests.preprocessed.txt ./input_methods_abstracted.txt ./output_tests_abstracted.txt ./idioms/idioms-review.csv"
   ]
  },
  {
   "cell_type": "code",
   "execution_count": 16,
   "metadata": {},
   "outputs": [],
   "source": [
    "# read the result of the src2abs on whole samples:\n",
    "\n",
    "with open(\"input_methods_abstracted.txt\", \"r\", encoding='utf-8') as f_read_in_final:\n",
    "    all_input_final = f_read_in_final.readlines()[0]\n",
    "    \n",
    "with open(\"output_tests_abstracted.txt\", \"r\", encoding='utf-8') as f_read_out_final:\n",
    "    all_output_final = f_read_out_final.readlines()[0] "
   ]
  },
  {
   "cell_type": "code",
   "execution_count": 18,
   "metadata": {},
   "outputs": [],
   "source": [
    "# extracting the result of each sample from the generated result for all samples:\n",
    "\n",
    "splited_input = all_input_final.split()\n",
    "splited_output = all_output_final.split()\n",
    "\n",
    "\n",
    "# generating new text file contain the abstracted version of the samples: (each sample in one line)\n",
    "with open(\"input_abs_final.txt\", \"w\", encoding='utf-8') as f_input_abs_final:\n",
    "    counter = 0\n",
    "    for i in range(len(len_inputs)):\n",
    "        f_input_abs_final.write(' '.join(splited_input[counter:(counter+len_inputs[i])]) + '\\n')\n",
    "        counter = counter+len_inputs[i]    \n",
    "f_input_abs_final.close()        \n",
    "        \n",
    "with open(\"output_abs_final.txt\", \"w\", encoding='utf-8') as f_output_abs_final:\n",
    "    counter = 0\n",
    "    for i in range(len(len_outputs)):\n",
    "        f_output_abs_final.write(' '.join(splited_output[counter:(counter+len_outputs[i])]) + '\\n')\n",
    "        counter = counter+len_outputs[i]\n",
    "f_output_abs_final.close()"
   ]
  },
  {
   "cell_type": "code",
   "execution_count": 19,
   "metadata": {},
   "outputs": [],
   "source": [
    "# read the saved file of inputs and outputs:\n",
    "\n",
    "with open(\"input_abs_final.txt\", \"r\", encoding='utf-8') as f_show_in_final:\n",
    "    show_all_input_final = f_show_in_final.readlines()\n",
    "    \n",
    "with open(\"output_abs_final.txt\", \"r\", encoding='utf-8') as f_show_out_final:\n",
    "    show_all_output_final = f_show_out_final.readlines()"
   ]
  },
  {
   "cell_type": "code",
   "execution_count": null,
   "metadata": {},
   "outputs": [],
   "source": [
    "show_all_input_final[:10]"
   ]
  },
  {
   "cell_type": "code",
   "execution_count": null,
   "metadata": {},
   "outputs": [],
   "source": [
    "show_all_output_final[:10]"
   ]
  },
  {
   "cell_type": "markdown",
   "metadata": {},
   "source": [
    "## 3. selecting the samples for training the model"
   ]
  },
  {
   "cell_type": "code",
   "execution_count": 25,
   "metadata": {},
   "outputs": [
    {
     "name": "stderr",
     "output_type": "stream",
     "text": [
      "[nltk_data] Downloading package punkt to\n",
      "[nltk_data]     C:\\Users\\Totoro\\AppData\\Roaming\\nltk_data...\n",
      "[nltk_data]   Package punkt is already up-to-date!\n"
     ]
    },
    {
     "data": {
      "text/html": [
       "<style>pre { white-space: pre !important; }</style>"
      ],
      "text/plain": [
       "<IPython.core.display.HTML object>"
      ]
     },
     "metadata": {},
     "output_type": "display_data"
    }
   ],
   "source": [
    "import os, sys\n",
    "from keras.models import Model\n",
    "from keras.layers import Input, LSTM, GRU, Dense, Embedding\n",
    "from keras.preprocessing.text import Tokenizer\n",
    "from keras.preprocessing.sequence import pad_sequences\n",
    "#from tensorflow.keras.utils import to_categorical\n",
    "from keras.utils import to_categorical\n",
    "import numpy as np\n",
    "import matplotlib.pyplot as plt\n",
    "import nltk\n",
    "nltk.download('punkt')\n",
    "\n",
    "# Enabling the horizontal scrollbar:\n",
    "from IPython.core.display import HTML\n",
    "display(HTML(\"<style>pre { white-space: pre !important; }</style>\"))"
   ]
  },
  {
   "cell_type": "code",
   "execution_count": 26,
   "metadata": {},
   "outputs": [],
   "source": [
    "# reading data:\n",
    "\n",
    "input_sentences = []\n",
    "output_sentences = []\n",
    "output_sentences_inputs = []\n",
    "\n",
    "with open('input_abs_final.txt', 'r', encoding='utf-8') as f:\n",
    "    input_sentences = f.read().split('\\n')\n",
    "del input_sentences[-1]  # last element is ''\n",
    "\n",
    "\n",
    "with open('output_abs_final.txt', 'r', encoding='utf-8') as f:\n",
    "    target_texts = f.read().split('\\n')\n",
    "del target_texts[-1]  # last element is ''\n"
   ]
  },
  {
   "cell_type": "code",
   "execution_count": 27,
   "metadata": {},
   "outputs": [
    {
     "name": "stdout",
     "output_type": "stream",
     "text": [
      "num samples input: 1236\n",
      "num samples output: 1236\n",
      "num samples output input: 1236\n"
     ]
    }
   ],
   "source": [
    "# adding the start and the end words for training the model:\n",
    "\n",
    "for s in target_texts:\n",
    "    \n",
    "    output_sentence = s + ' eeooss'\n",
    "    output_sentence_input = 'ssooss ' + s\n",
    "\n",
    "    output_sentences.append(output_sentence)\n",
    "    output_sentences_inputs.append(output_sentence_input)\n",
    "\n",
    "print(\"num samples input:\", len(input_sentences))\n",
    "print(\"num samples output:\", len(output_sentences))\n",
    "print(\"num samples output input:\", len(output_sentences_inputs))"
   ]
  },
  {
   "cell_type": "code",
   "execution_count": null,
   "metadata": {},
   "outputs": [],
   "source": [
    "# display a sample of the data:\n",
    "\n",
    "print('input_sentences         = ', input_sentences[0])\n",
    "print('output_sentences        = ', output_sentences[0])\n",
    "print('output_sentences_inputs = ', output_sentences_inputs[0])"
   ]
  },
  {
   "cell_type": "code",
   "execution_count": 29,
   "metadata": {},
   "outputs": [
    {
     "name": "stdout",
     "output_type": "stream",
     "text": [
      "Total unique words in the input: 13457\n",
      "Length of longest sentence in input: 1669\n",
      "Total unique words in the output: 13856\n",
      "Length of longest sentence in the output: 928\n"
     ]
    }
   ],
   "source": [
    "# tokenizing the samples to calculating the number of the words:\n",
    "\n",
    "word2idx_inputs = {}\n",
    "counter = 0\n",
    "for sentence in input_sentences:\n",
    "    words = nltk.word_tokenize(sentence)\n",
    "    for word in words:\n",
    "        if word not in word2idx_inputs:\n",
    "            counter = counter + 1\n",
    "            word2idx_inputs[word] = counter\n",
    "\n",
    "input_integer_seq = []\n",
    "for i, sentence in enumerate(input_sentences):\n",
    "    words = nltk.word_tokenize(sentence)\n",
    "    input_integer = [word2idx_inputs[word] for word in words]\n",
    "    input_integer_seq.append(input_integer)    \n",
    "\n",
    "print('Total unique words in the input: %s' % len(word2idx_inputs))\n",
    "\n",
    "max_input_len = max(len(sen) for sen in input_integer_seq)\n",
    "print(\"Length of longest sentence in input: %g\" % max_input_len)\n",
    "\n",
    "word2idx_outputs = {}\n",
    "counter = 0\n",
    "for sentence in output_sentences + output_sentences_inputs:\n",
    "    words = nltk.word_tokenize(sentence)\n",
    "    for word in words:\n",
    "        if word not in word2idx_outputs:\n",
    "            counter = counter + 1\n",
    "            word2idx_outputs[word] = counter\n",
    "\n",
    "#word2idx_outputs[\"<sos>\"] = counter + 1\n",
    "#word2idx_outputs[\"<eos>\"] = counter + 2\n",
    "\n",
    "#  s + ' <eos>' -> (eeooss)\n",
    "output_integer_seq = []\n",
    "for i, sentence in enumerate(output_sentences):\n",
    "    words = nltk.word_tokenize(sentence)\n",
    "    output_integer = [word2idx_outputs[word] for word in words]\n",
    "    output_integer_seq.append(output_integer) \n",
    "\n",
    "# '<sos> ' + s -> (ssooss)\n",
    "output_input_integer_seq = []\n",
    "for i, sentence in enumerate(output_sentences_inputs):\n",
    "    words = nltk.word_tokenize(sentence)\n",
    "    output_input_integer = [word2idx_outputs[word] for word in words]\n",
    "    output_input_integer_seq.append(output_input_integer)     \n",
    "\n",
    "print('Total unique words in the output: %s' % len(word2idx_outputs))\n",
    "\n",
    "num_words_output = len(word2idx_outputs) + 1\n",
    "max_out_len = max(len(sen) for sen in output_integer_seq)\n",
    "print(\"Length of longest sentence in the output: %g\" % max_out_len)"
   ]
  },
  {
   "cell_type": "code",
   "execution_count": null,
   "metadata": {},
   "outputs": [],
   "source": [
    "# checking the reasults:\n",
    "\n",
    "print(input_integer_seq[10])\n",
    "print(\"-----------------------------------------------------------\")\n",
    "print(input_sentences[10])\n",
    "print(\"-----------------------------------------------------------\")\n",
    "print(word2idx_inputs)"
   ]
  },
  {
   "cell_type": "markdown",
   "metadata": {},
   "source": [
    "### Ploting the reasults: "
   ]
  },
  {
   "cell_type": "code",
   "execution_count": 31,
   "metadata": {},
   "outputs": [
    {
     "data": {
      "text/html": [
       "\n",
       "<div id=\"altair-viz-3354d33714e74f1da9f46a0a04f3d400\"></div>\n",
       "<script type=\"text/javascript\">\n",
       "  (function(spec, embedOpt){\n",
       "    let outputDiv = document.currentScript.previousElementSibling;\n",
       "    if (outputDiv.id !== \"altair-viz-3354d33714e74f1da9f46a0a04f3d400\") {\n",
       "      outputDiv = document.getElementById(\"altair-viz-3354d33714e74f1da9f46a0a04f3d400\");\n",
       "    }\n",
       "    const paths = {\n",
       "      \"vega\": \"https://cdn.jsdelivr.net/npm//vega@5?noext\",\n",
       "      \"vega-lib\": \"https://cdn.jsdelivr.net/npm//vega-lib?noext\",\n",
       "      \"vega-lite\": \"https://cdn.jsdelivr.net/npm//vega-lite@4.8.1?noext\",\n",
       "      \"vega-embed\": \"https://cdn.jsdelivr.net/npm//vega-embed@6?noext\",\n",
       "    };\n",
       "\n",
       "    function loadScript(lib) {\n",
       "      return new Promise(function(resolve, reject) {\n",
       "        var s = document.createElement('script');\n",
       "        s.src = paths[lib];\n",
       "        s.async = true;\n",
       "        s.onload = () => resolve(paths[lib]);\n",
       "        s.onerror = () => reject(`Error loading script: ${paths[lib]}`);\n",
       "        document.getElementsByTagName(\"head\")[0].appendChild(s);\n",
       "      });\n",
       "    }\n",
       "\n",
       "    function showError(err) {\n",
       "      outputDiv.innerHTML = `<div class=\"error\" style=\"color:red;\">${err}</div>`;\n",
       "      throw err;\n",
       "    }\n",
       "\n",
       "    function displayChart(vegaEmbed) {\n",
       "      vegaEmbed(outputDiv, spec, embedOpt)\n",
       "        .catch(err => showError(`Javascript Error: ${err.message}<br>This usually means there's a typo in your chart specification. See the javascript console for the full traceback.`));\n",
       "    }\n",
       "\n",
       "    if(typeof define === \"function\" && define.amd) {\n",
       "      requirejs.config({paths});\n",
       "      require([\"vega-embed\"], displayChart, err => showError(`Error loading script: ${err.message}`));\n",
       "    } else if (typeof vegaEmbed === \"function\") {\n",
       "      displayChart(vegaEmbed);\n",
       "    } else {\n",
       "      loadScript(\"vega\")\n",
       "        .then(() => loadScript(\"vega-lite\"))\n",
       "        .then(() => loadScript(\"vega-embed\"))\n",
       "        .catch(showError)\n",
       "        .then(() => displayChart(vegaEmbed));\n",
       "    }\n",
       "  })({\"config\": {\"view\": {\"continuousWidth\": 400, \"continuousHeight\": 300}}, \"data\": {\"name\": \"data-b68d2e939271e6ce57bfd79fd937574f\"}, \"mark\": \"bar\", \"encoding\": {\"x\": {\"type\": \"quantitative\", \"bin\": {\"maxbins\": 200, \"step\": 35}, \"field\": \"Method\"}, \"y\": {\"type\": \"quantitative\", \"aggregate\": \"count\", \"stack\": null}}, \"height\": 300, \"width\": 700, \"$schema\": \"https://vega.github.io/schema/vega-lite/v4.8.1.json\", \"datasets\": {\"data-b68d2e939271e6ce57bfd79fd937574f\": [{\"Method\": 102, \"Test\": 115}, {\"Method\": 1481, \"Test\": 108}, {\"Method\": 60, \"Test\": 150}, {\"Method\": 36, \"Test\": 83}, {\"Method\": 91, \"Test\": 28}, {\"Method\": 590, \"Test\": 131}, {\"Method\": 10, \"Test\": 46}, {\"Method\": 39, \"Test\": 62}, {\"Method\": 61, \"Test\": 70}, {\"Method\": 229, \"Test\": 66}, {\"Method\": 130, \"Test\": 35}, {\"Method\": 244, \"Test\": 106}, {\"Method\": 619, \"Test\": 65}, {\"Method\": 16, \"Test\": 116}, {\"Method\": 1363, \"Test\": 121}, {\"Method\": 59, \"Test\": 84}, {\"Method\": 166, \"Test\": 112}, {\"Method\": 30, \"Test\": 36}, {\"Method\": 14, \"Test\": 22}, {\"Method\": 640, \"Test\": 93}, {\"Method\": 10, \"Test\": 40}, {\"Method\": 162, \"Test\": 21}, {\"Method\": 204, \"Test\": 96}, {\"Method\": 66, \"Test\": 65}, {\"Method\": 390, \"Test\": 95}, {\"Method\": 72, \"Test\": 46}, {\"Method\": 28, \"Test\": 81}, {\"Method\": 85, \"Test\": 47}, {\"Method\": 84, \"Test\": 62}, {\"Method\": 32, \"Test\": 93}, {\"Method\": 166, \"Test\": 46}, {\"Method\": 64, \"Test\": 37}, {\"Method\": 48, \"Test\": 15}, {\"Method\": 124, \"Test\": 100}, {\"Method\": 61, \"Test\": 50}, {\"Method\": 398, \"Test\": 43}, {\"Method\": 60, \"Test\": 8}, {\"Method\": 10, \"Test\": 58}, {\"Method\": 9, \"Test\": 48}, {\"Method\": 222, \"Test\": 116}, {\"Method\": 43, \"Test\": 29}, {\"Method\": 64, \"Test\": 85}, {\"Method\": 91, \"Test\": 137}, {\"Method\": 478, \"Test\": 84}, {\"Method\": 41, \"Test\": 150}, {\"Method\": 44, \"Test\": 86}, {\"Method\": 12, \"Test\": 23}, {\"Method\": 16, \"Test\": 52}, {\"Method\": 42, \"Test\": 32}, {\"Method\": 136, \"Test\": 35}, {\"Method\": 15, \"Test\": 42}, {\"Method\": 240, \"Test\": 81}, {\"Method\": 62, \"Test\": 44}, {\"Method\": 9, \"Test\": 29}, {\"Method\": 17, \"Test\": 33}, {\"Method\": 27, \"Test\": 33}, {\"Method\": 45, \"Test\": 71}, {\"Method\": 123, \"Test\": 125}, {\"Method\": 102, \"Test\": 187}, {\"Method\": 38, \"Test\": 507}, {\"Method\": 27, \"Test\": 43}, {\"Method\": 16, \"Test\": 18}, {\"Method\": 191, \"Test\": 102}, {\"Method\": 79, \"Test\": 136}, {\"Method\": 49, \"Test\": 128}, {\"Method\": 16, \"Test\": 42}, {\"Method\": 154, \"Test\": 60}, {\"Method\": 491, \"Test\": 486}, {\"Method\": 21, \"Test\": 29}, {\"Method\": 33, \"Test\": 35}, {\"Method\": 104, \"Test\": 62}, {\"Method\": 77, \"Test\": 162}, {\"Method\": 86, \"Test\": 162}, {\"Method\": 54, \"Test\": 33}, {\"Method\": 27, \"Test\": 178}, {\"Method\": 87, \"Test\": 129}, {\"Method\": 16, \"Test\": 46}, {\"Method\": 46, \"Test\": 217}, {\"Method\": 109, \"Test\": 100}, {\"Method\": 201, \"Test\": 641}, {\"Method\": 19, \"Test\": 63}, {\"Method\": 25, \"Test\": 35}, {\"Method\": 497, \"Test\": 32}, {\"Method\": 30, \"Test\": 35}, {\"Method\": 14, \"Test\": 95}, {\"Method\": 53, \"Test\": 97}, {\"Method\": 37, \"Test\": 61}, {\"Method\": 68, \"Test\": 112}, {\"Method\": 12, \"Test\": 22}, {\"Method\": 16, \"Test\": 102}, {\"Method\": 16, \"Test\": 45}, {\"Method\": 86, \"Test\": 23}, {\"Method\": 493, \"Test\": 131}, {\"Method\": 244, \"Test\": 134}, {\"Method\": 246, \"Test\": 261}, {\"Method\": 85, \"Test\": 281}, {\"Method\": 12, \"Test\": 20}, {\"Method\": 387, \"Test\": 248}, {\"Method\": 83, \"Test\": 92}, {\"Method\": 251, \"Test\": 121}, {\"Method\": 35, \"Test\": 31}, {\"Method\": 149, \"Test\": 62}, {\"Method\": 12, \"Test\": 28}, {\"Method\": 10, \"Test\": 37}, {\"Method\": 18, \"Test\": 315}, {\"Method\": 453, \"Test\": 17}, {\"Method\": 32, \"Test\": 29}, {\"Method\": 18, \"Test\": 45}, {\"Method\": 23, \"Test\": 19}, {\"Method\": 37, \"Test\": 19}, {\"Method\": 43, \"Test\": 20}, {\"Method\": 19, \"Test\": 43}, {\"Method\": 69, \"Test\": 13}, {\"Method\": 31, \"Test\": 20}, {\"Method\": 14, \"Test\": 38}, {\"Method\": 136, \"Test\": 368}, {\"Method\": 60, \"Test\": 42}, {\"Method\": 26, \"Test\": 38}, {\"Method\": 579, \"Test\": 877}, {\"Method\": 47, \"Test\": 60}, {\"Method\": 17, \"Test\": 37}, {\"Method\": 196, \"Test\": 373}, {\"Method\": 20, \"Test\": 101}, {\"Method\": 137, \"Test\": 57}, {\"Method\": 121, \"Test\": 79}, {\"Method\": 255, \"Test\": 46}, {\"Method\": 51, \"Test\": 22}, {\"Method\": 22, \"Test\": 127}, {\"Method\": 62, \"Test\": 133}, {\"Method\": 186, \"Test\": 63}, {\"Method\": 57, \"Test\": 44}, {\"Method\": 241, \"Test\": 763}, {\"Method\": 34, \"Test\": 23}, {\"Method\": 168, \"Test\": 69}, {\"Method\": 22, \"Test\": 49}, {\"Method\": 159, \"Test\": 101}, {\"Method\": 67, \"Test\": 283}, {\"Method\": 13, \"Test\": 16}, {\"Method\": 25, \"Test\": 45}, {\"Method\": 102, \"Test\": 40}, {\"Method\": 14, \"Test\": 54}, {\"Method\": 57, \"Test\": 43}, {\"Method\": 136, \"Test\": 118}, {\"Method\": 77, \"Test\": 136}, {\"Method\": 179, \"Test\": 47}, {\"Method\": 12, \"Test\": 36}, {\"Method\": 22, \"Test\": 36}, {\"Method\": 29, \"Test\": 42}, {\"Method\": 50, \"Test\": 72}, {\"Method\": 14, \"Test\": 32}, {\"Method\": 25, \"Test\": 95}, {\"Method\": 151, \"Test\": 199}, {\"Method\": 112, \"Test\": 81}, {\"Method\": 185, \"Test\": 106}, {\"Method\": 107, \"Test\": 65}, {\"Method\": 94, \"Test\": 132}, {\"Method\": 31, \"Test\": 76}, {\"Method\": 123, \"Test\": 32}, {\"Method\": 86, \"Test\": 72}, {\"Method\": 101, \"Test\": 44}, {\"Method\": 43, \"Test\": 15}, {\"Method\": 102, \"Test\": 46}, {\"Method\": 14, \"Test\": 31}, {\"Method\": 98, \"Test\": 70}, {\"Method\": 61, \"Test\": 96}, {\"Method\": 15, \"Test\": 44}, {\"Method\": 32, \"Test\": 77}, {\"Method\": 98, \"Test\": 45}, {\"Method\": 20, \"Test\": 38}, {\"Method\": 10, \"Test\": 19}, {\"Method\": 67, \"Test\": 149}, {\"Method\": 120, \"Test\": 38}, {\"Method\": 525, \"Test\": 100}, {\"Method\": 269, \"Test\": 56}, {\"Method\": 40, \"Test\": 39}, {\"Method\": 87, \"Test\": 452}, {\"Method\": 137, \"Test\": 172}, {\"Method\": 66, \"Test\": 150}, {\"Method\": 115, \"Test\": 52}, {\"Method\": 140, \"Test\": 20}, {\"Method\": 112, \"Test\": 99}, {\"Method\": 49, \"Test\": 281}, {\"Method\": 124, \"Test\": 35}, {\"Method\": 25, \"Test\": 51}, {\"Method\": 215, \"Test\": 189}, {\"Method\": 61, \"Test\": 51}, {\"Method\": 76, \"Test\": 56}, {\"Method\": 71, \"Test\": 264}, {\"Method\": 85, \"Test\": 710}, {\"Method\": 17, \"Test\": 59}, {\"Method\": 290, \"Test\": 128}, {\"Method\": 28, \"Test\": 81}, {\"Method\": 555, \"Test\": 123}, {\"Method\": 45, \"Test\": 179}, {\"Method\": 53, \"Test\": 141}, {\"Method\": 205, \"Test\": 743}, {\"Method\": 73, \"Test\": 68}, {\"Method\": 39, \"Test\": 45}, {\"Method\": 143, \"Test\": 31}, {\"Method\": 65, \"Test\": 50}, {\"Method\": 58, \"Test\": 101}, {\"Method\": 88, \"Test\": 110}, {\"Method\": 59, \"Test\": 60}, {\"Method\": 24, \"Test\": 47}, {\"Method\": 755, \"Test\": 40}, {\"Method\": 10, \"Test\": 154}, {\"Method\": 36, \"Test\": 25}, {\"Method\": 46, \"Test\": 27}, {\"Method\": 12, \"Test\": 33}, {\"Method\": 140, \"Test\": 137}, {\"Method\": 67, \"Test\": 35}, {\"Method\": 141, \"Test\": 84}, {\"Method\": 129, \"Test\": 110}, {\"Method\": 26, \"Test\": 27}, {\"Method\": 285, \"Test\": 68}, {\"Method\": 205, \"Test\": 120}, {\"Method\": 101, \"Test\": 64}, {\"Method\": 28, \"Test\": 33}, {\"Method\": 48, \"Test\": 114}, {\"Method\": 68, \"Test\": 34}, {\"Method\": 61, \"Test\": 17}, {\"Method\": 17, \"Test\": 166}, {\"Method\": 266, \"Test\": 52}, {\"Method\": 221, \"Test\": 144}, {\"Method\": 228, \"Test\": 54}, {\"Method\": 87, \"Test\": 329}, {\"Method\": 17, \"Test\": 31}, {\"Method\": 10, \"Test\": 60}, {\"Method\": 16, \"Test\": 44}, {\"Method\": 92, \"Test\": 142}, {\"Method\": 68, \"Test\": 123}, {\"Method\": 151, \"Test\": 31}, {\"Method\": 118, \"Test\": 199}, {\"Method\": 21, \"Test\": 52}, {\"Method\": 111, \"Test\": 64}, {\"Method\": 46, \"Test\": 80}, {\"Method\": 66, \"Test\": 50}, {\"Method\": 172, \"Test\": 135}, {\"Method\": 147, \"Test\": 129}, {\"Method\": 59, \"Test\": 69}, {\"Method\": 21, \"Test\": 27}, {\"Method\": 49, \"Test\": 58}, {\"Method\": 25, \"Test\": 107}, {\"Method\": 290, \"Test\": 102}, {\"Method\": 114, \"Test\": 366}, {\"Method\": 71, \"Test\": 33}, {\"Method\": 29, \"Test\": 72}, {\"Method\": 10, \"Test\": 22}, {\"Method\": 10, \"Test\": 17}, {\"Method\": 35, \"Test\": 86}, {\"Method\": 243, \"Test\": 42}, {\"Method\": 287, \"Test\": 82}, {\"Method\": 114, \"Test\": 82}, {\"Method\": 17, \"Test\": 44}, {\"Method\": 17, \"Test\": 43}, {\"Method\": 149, \"Test\": 97}, {\"Method\": 497, \"Test\": 97}, {\"Method\": 21, \"Test\": 89}, {\"Method\": 244, \"Test\": 56}, {\"Method\": 26, \"Test\": 83}, {\"Method\": 159, \"Test\": 37}, {\"Method\": 15, \"Test\": 39}, {\"Method\": 23, \"Test\": 65}, {\"Method\": 31, \"Test\": 94}, {\"Method\": 150, \"Test\": 238}, {\"Method\": 142, \"Test\": 162}, {\"Method\": 114, \"Test\": 149}, {\"Method\": 57, \"Test\": 81}, {\"Method\": 39, \"Test\": 69}, {\"Method\": 14, \"Test\": 100}, {\"Method\": 32, \"Test\": 106}, {\"Method\": 194, \"Test\": 15}, {\"Method\": 25, \"Test\": 40}, {\"Method\": 17, \"Test\": 32}, {\"Method\": 39, \"Test\": 31}, {\"Method\": 145, \"Test\": 105}, {\"Method\": 181, \"Test\": 172}, {\"Method\": 318, \"Test\": 149}, {\"Method\": 163, \"Test\": 17}, {\"Method\": 59, \"Test\": 28}, {\"Method\": 112, \"Test\": 157}, {\"Method\": 41, \"Test\": 101}, {\"Method\": 71, \"Test\": 44}, {\"Method\": 110, \"Test\": 49}, {\"Method\": 18, \"Test\": 26}, {\"Method\": 49, \"Test\": 60}, {\"Method\": 85, \"Test\": 71}, {\"Method\": 49, \"Test\": 56}, {\"Method\": 263, \"Test\": 307}, {\"Method\": 204, \"Test\": 77}, {\"Method\": 18, \"Test\": 8}, {\"Method\": 255, \"Test\": 137}, {\"Method\": 183, \"Test\": 137}, {\"Method\": 25, \"Test\": 40}, {\"Method\": 22, \"Test\": 49}, {\"Method\": 17, \"Test\": 71}, {\"Method\": 60, \"Test\": 58}, {\"Method\": 11, \"Test\": 551}, {\"Method\": 21, \"Test\": 38}, {\"Method\": 60, \"Test\": 125}, {\"Method\": 17, \"Test\": 65}, {\"Method\": 36, \"Test\": 73}, {\"Method\": 337, \"Test\": 165}, {\"Method\": 73, \"Test\": 32}, {\"Method\": 58, \"Test\": 77}, {\"Method\": 16, \"Test\": 42}, {\"Method\": 10, \"Test\": 476}, {\"Method\": 102, \"Test\": 148}, {\"Method\": 18, \"Test\": 38}, {\"Method\": 200, \"Test\": 113}, {\"Method\": 50, \"Test\": 49}, {\"Method\": 391, \"Test\": 170}, {\"Method\": 43, \"Test\": 66}, {\"Method\": 113, \"Test\": 104}, {\"Method\": 149, \"Test\": 67}, {\"Method\": 17, \"Test\": 28}, {\"Method\": 11, \"Test\": 35}, {\"Method\": 52, \"Test\": 84}, {\"Method\": 14, \"Test\": 41}, {\"Method\": 64, \"Test\": 152}, {\"Method\": 150, \"Test\": 67}, {\"Method\": 242, \"Test\": 92}, {\"Method\": 82, \"Test\": 80}, {\"Method\": 76, \"Test\": 55}, {\"Method\": 399, \"Test\": 235}, {\"Method\": 34, \"Test\": 32}, {\"Method\": 121, \"Test\": 55}, {\"Method\": 339, \"Test\": 22}, {\"Method\": 313, \"Test\": 30}, {\"Method\": 60, \"Test\": 65}, {\"Method\": 219, \"Test\": 115}, {\"Method\": 90, \"Test\": 56}, {\"Method\": 177, \"Test\": 35}, {\"Method\": 85, \"Test\": 129}, {\"Method\": 27, \"Test\": 28}, {\"Method\": 378, \"Test\": 181}, {\"Method\": 58, \"Test\": 184}, {\"Method\": 87, \"Test\": 47}, {\"Method\": 24, \"Test\": 128}, {\"Method\": 15, \"Test\": 83}, {\"Method\": 19, \"Test\": 21}, {\"Method\": 104, \"Test\": 32}, {\"Method\": 37, \"Test\": 112}, {\"Method\": 79, \"Test\": 29}, {\"Method\": 43, \"Test\": 22}, {\"Method\": 53, \"Test\": 118}, {\"Method\": 41, \"Test\": 71}, {\"Method\": 18, \"Test\": 31}, {\"Method\": 34, \"Test\": 45}, {\"Method\": 82, \"Test\": 77}, {\"Method\": 22, \"Test\": 26}, {\"Method\": 118, \"Test\": 61}, {\"Method\": 68, \"Test\": 10}, {\"Method\": 34, \"Test\": 33}, {\"Method\": 24, \"Test\": 28}, {\"Method\": 29, \"Test\": 22}, {\"Method\": 68, \"Test\": 42}, {\"Method\": 18, \"Test\": 84}, {\"Method\": 250, \"Test\": 122}, {\"Method\": 160, \"Test\": 80}, {\"Method\": 199, \"Test\": 22}, {\"Method\": 185, \"Test\": 69}, {\"Method\": 92, \"Test\": 28}, {\"Method\": 10, \"Test\": 32}, {\"Method\": 10, \"Test\": 19}, {\"Method\": 33, \"Test\": 22}, {\"Method\": 83, \"Test\": 84}, {\"Method\": 536, \"Test\": 23}, {\"Method\": 18, \"Test\": 19}, {\"Method\": 21, \"Test\": 38}, {\"Method\": 70, \"Test\": 25}, {\"Method\": 69, \"Test\": 69}, {\"Method\": 76, \"Test\": 60}, {\"Method\": 159, \"Test\": 171}, {\"Method\": 19, \"Test\": 22}, {\"Method\": 21, \"Test\": 86}, {\"Method\": 290, \"Test\": 247}, {\"Method\": 91, \"Test\": 80}, {\"Method\": 32, \"Test\": 85}, {\"Method\": 169, \"Test\": 233}, {\"Method\": 10, \"Test\": 27}, {\"Method\": 76, \"Test\": 60}, {\"Method\": 88, \"Test\": 37}, {\"Method\": 174, \"Test\": 27}, {\"Method\": 173, \"Test\": 275}, {\"Method\": 10, \"Test\": 25}, {\"Method\": 63, \"Test\": 276}, {\"Method\": 27, \"Test\": 202}, {\"Method\": 169, \"Test\": 76}, {\"Method\": 26, \"Test\": 171}, {\"Method\": 117, \"Test\": 26}, {\"Method\": 127, \"Test\": 34}, {\"Method\": 14, \"Test\": 34}, {\"Method\": 94, \"Test\": 72}, {\"Method\": 46, \"Test\": 39}, {\"Method\": 101, \"Test\": 97}, {\"Method\": 30, \"Test\": 76}, {\"Method\": 230, \"Test\": 108}, {\"Method\": 40, \"Test\": 34}, {\"Method\": 125, \"Test\": 67}, {\"Method\": 28, \"Test\": 191}, {\"Method\": 10, \"Test\": 52}, {\"Method\": 30, \"Test\": 41}, {\"Method\": 139, \"Test\": 241}, {\"Method\": 86, \"Test\": 29}, {\"Method\": 75, \"Test\": 34}, {\"Method\": 101, \"Test\": 143}, {\"Method\": 37, \"Test\": 101}, {\"Method\": 124, \"Test\": 70}, {\"Method\": 123, \"Test\": 46}, {\"Method\": 10, \"Test\": 8}, {\"Method\": 191, \"Test\": 162}, {\"Method\": 771, \"Test\": 294}, {\"Method\": 22, \"Test\": 40}, {\"Method\": 34, \"Test\": 41}, {\"Method\": 16, \"Test\": 100}, {\"Method\": 57, \"Test\": 22}, {\"Method\": 25, \"Test\": 70}, {\"Method\": 43, \"Test\": 34}, {\"Method\": 584, \"Test\": 556}, {\"Method\": 35, \"Test\": 37}, {\"Method\": 252, \"Test\": 97}, {\"Method\": 368, \"Test\": 72}, {\"Method\": 56, \"Test\": 147}, {\"Method\": 46, \"Test\": 126}, {\"Method\": 84, \"Test\": 139}, {\"Method\": 81, \"Test\": 72}, {\"Method\": 81, \"Test\": 195}, {\"Method\": 93, \"Test\": 76}, {\"Method\": 135, \"Test\": 43}, {\"Method\": 96, \"Test\": 81}, {\"Method\": 56, \"Test\": 75}, {\"Method\": 15, \"Test\": 125}, {\"Method\": 20, \"Test\": 216}, {\"Method\": 26, \"Test\": 47}, {\"Method\": 26, \"Test\": 64}, {\"Method\": 164, \"Test\": 138}, {\"Method\": 128, \"Test\": 72}, {\"Method\": 76, \"Test\": 22}, {\"Method\": 28, \"Test\": 90}, {\"Method\": 20, \"Test\": 152}, {\"Method\": 23, \"Test\": 42}, {\"Method\": 52, \"Test\": 335}, {\"Method\": 300, \"Test\": 124}, {\"Method\": 140, \"Test\": 64}, {\"Method\": 44, \"Test\": 168}, {\"Method\": 107, \"Test\": 67}, {\"Method\": 135, \"Test\": 50}, {\"Method\": 406, \"Test\": 144}, {\"Method\": 93, \"Test\": 52}, {\"Method\": 16, \"Test\": 28}, {\"Method\": 17, \"Test\": 32}, {\"Method\": 81, \"Test\": 164}, {\"Method\": 119, \"Test\": 221}, {\"Method\": 14, \"Test\": 88}, {\"Method\": 188, \"Test\": 36}, {\"Method\": 15, \"Test\": 26}, {\"Method\": 186, \"Test\": 171}, {\"Method\": 36, \"Test\": 52}, {\"Method\": 18, \"Test\": 47}, {\"Method\": 27, \"Test\": 115}, {\"Method\": 188, \"Test\": 49}, {\"Method\": 360, \"Test\": 149}, {\"Method\": 25, \"Test\": 261}, {\"Method\": 48, \"Test\": 27}, {\"Method\": 31, \"Test\": 58}, {\"Method\": 156, \"Test\": 30}, {\"Method\": 182, \"Test\": 179}, {\"Method\": 19, \"Test\": 93}, {\"Method\": 36, \"Test\": 19}, {\"Method\": 272, \"Test\": 67}, {\"Method\": 34, \"Test\": 25}, {\"Method\": 18, \"Test\": 51}, {\"Method\": 23, \"Test\": 706}, {\"Method\": 14, \"Test\": 41}, {\"Method\": 42, \"Test\": 39}, {\"Method\": 75, \"Test\": 186}, {\"Method\": 44, \"Test\": 148}, {\"Method\": 26, \"Test\": 104}, {\"Method\": 54, \"Test\": 116}, {\"Method\": 16, \"Test\": 31}, {\"Method\": 565, \"Test\": 54}, {\"Method\": 25, \"Test\": 67}, {\"Method\": 199, \"Test\": 64}, {\"Method\": 66, \"Test\": 76}, {\"Method\": 48, \"Test\": 146}, {\"Method\": 81, \"Test\": 159}, {\"Method\": 46, \"Test\": 30}, {\"Method\": 16, \"Test\": 25}, {\"Method\": 59, \"Test\": 120}, {\"Method\": 290, \"Test\": 42}, {\"Method\": 26, \"Test\": 22}, {\"Method\": 15, \"Test\": 26}, {\"Method\": 23, \"Test\": 31}, {\"Method\": 23, \"Test\": 60}, {\"Method\": 67, \"Test\": 31}, {\"Method\": 115, \"Test\": 247}, {\"Method\": 56, \"Test\": 108}, {\"Method\": 45, \"Test\": 85}, {\"Method\": 32, \"Test\": 125}, {\"Method\": 12, \"Test\": 36}, {\"Method\": 17, \"Test\": 33}, {\"Method\": 17, \"Test\": 60}, {\"Method\": 36, \"Test\": 51}, {\"Method\": 34, \"Test\": 61}, {\"Method\": 29, \"Test\": 28}, {\"Method\": 353, \"Test\": 263}, {\"Method\": 23, \"Test\": 99}, {\"Method\": 10, \"Test\": 118}, {\"Method\": 154, \"Test\": 247}, {\"Method\": 35, \"Test\": 195}, {\"Method\": 76, \"Test\": 46}, {\"Method\": 38, \"Test\": 72}, {\"Method\": 271, \"Test\": 40}, {\"Method\": 83, \"Test\": 145}, {\"Method\": 83, \"Test\": 65}, {\"Method\": 34, \"Test\": 24}, {\"Method\": 34, \"Test\": 46}, {\"Method\": 36, \"Test\": 101}, {\"Method\": 103, \"Test\": 61}, {\"Method\": 16, \"Test\": 15}, {\"Method\": 29, \"Test\": 118}, {\"Method\": 19, \"Test\": 227}, {\"Method\": 350, \"Test\": 13}, {\"Method\": 20, \"Test\": 39}, {\"Method\": 31, \"Test\": 71}, {\"Method\": 10, \"Test\": 24}, {\"Method\": 93, \"Test\": 179}, {\"Method\": 35, \"Test\": 22}, {\"Method\": 235, \"Test\": 19}, {\"Method\": 227, \"Test\": 43}, {\"Method\": 21, \"Test\": 42}, {\"Method\": 24, \"Test\": 60}, {\"Method\": 106, \"Test\": 83}, {\"Method\": 12, \"Test\": 124}, {\"Method\": 177, \"Test\": 135}, {\"Method\": 29, \"Test\": 33}, {\"Method\": 39, \"Test\": 73}, {\"Method\": 39, \"Test\": 71}, {\"Method\": 18, \"Test\": 33}, {\"Method\": 71, \"Test\": 32}, {\"Method\": 16, \"Test\": 28}, {\"Method\": 52, \"Test\": 547}, {\"Method\": 27, \"Test\": 17}, {\"Method\": 25, \"Test\": 300}, {\"Method\": 92, \"Test\": 78}, {\"Method\": 26, \"Test\": 437}, {\"Method\": 61, \"Test\": 166}, {\"Method\": 35, \"Test\": 297}, {\"Method\": 259, \"Test\": 51}, {\"Method\": 100, \"Test\": 116}, {\"Method\": 102, \"Test\": 131}, {\"Method\": 47, \"Test\": 20}, {\"Method\": 14, \"Test\": 21}, {\"Method\": 136, \"Test\": 90}, {\"Method\": 32, \"Test\": 59}, {\"Method\": 86, \"Test\": 59}, {\"Method\": 93, \"Test\": 33}, {\"Method\": 1076, \"Test\": 74}, {\"Method\": 38, \"Test\": 72}, {\"Method\": 53, \"Test\": 99}, {\"Method\": 19, \"Test\": 47}, {\"Method\": 52, \"Test\": 51}, {\"Method\": 59, \"Test\": 93}, {\"Method\": 121, \"Test\": 78}, {\"Method\": 340, \"Test\": 57}, {\"Method\": 15, \"Test\": 24}, {\"Method\": 135, \"Test\": 338}, {\"Method\": 31, \"Test\": 44}, {\"Method\": 220, \"Test\": 88}, {\"Method\": 41, \"Test\": 70}, {\"Method\": 36, \"Test\": 140}, {\"Method\": 30, \"Test\": 85}, {\"Method\": 25, \"Test\": 46}, {\"Method\": 27, \"Test\": 51}, {\"Method\": 107, \"Test\": 54}, {\"Method\": 34, \"Test\": 43}, {\"Method\": 129, \"Test\": 44}, {\"Method\": 43, \"Test\": 74}, {\"Method\": 67, \"Test\": 78}, {\"Method\": 46, \"Test\": 30}, {\"Method\": 41, \"Test\": 44}, {\"Method\": 112, \"Test\": 66}, {\"Method\": 246, \"Test\": 29}, {\"Method\": 198, \"Test\": 36}, {\"Method\": 72, \"Test\": 153}, {\"Method\": 151, \"Test\": 40}, {\"Method\": 102, \"Test\": 138}, {\"Method\": 38, \"Test\": 60}, {\"Method\": 110, \"Test\": 143}, {\"Method\": 19, \"Test\": 44}, {\"Method\": 15, \"Test\": 45}, {\"Method\": 114, \"Test\": 24}, {\"Method\": 10, \"Test\": 30}, {\"Method\": 110, \"Test\": 62}, {\"Method\": 28, \"Test\": 43}, {\"Method\": 10, \"Test\": 19}, {\"Method\": 47, \"Test\": 79}, {\"Method\": 31, \"Test\": 52}, {\"Method\": 156, \"Test\": 66}, {\"Method\": 39, \"Test\": 66}, {\"Method\": 26, \"Test\": 63}, {\"Method\": 31, \"Test\": 56}, {\"Method\": 18, \"Test\": 23}, {\"Method\": 118, \"Test\": 73}, {\"Method\": 18, \"Test\": 48}, {\"Method\": 29, \"Test\": 86}, {\"Method\": 185, \"Test\": 53}, {\"Method\": 22, \"Test\": 71}, {\"Method\": 35, \"Test\": 73}, {\"Method\": 311, \"Test\": 361}, {\"Method\": 217, \"Test\": 64}, {\"Method\": 71, \"Test\": 73}, {\"Method\": 18, \"Test\": 35}, {\"Method\": 270, \"Test\": 225}, {\"Method\": 16, \"Test\": 26}, {\"Method\": 119, \"Test\": 72}, {\"Method\": 47, \"Test\": 22}, {\"Method\": 54, \"Test\": 74}, {\"Method\": 98, \"Test\": 103}, {\"Method\": 38, \"Test\": 363}, {\"Method\": 37, \"Test\": 71}, {\"Method\": 16, \"Test\": 25}, {\"Method\": 118, \"Test\": 365}, {\"Method\": 51, \"Test\": 301}, {\"Method\": 210, \"Test\": 156}, {\"Method\": 22, \"Test\": 35}, {\"Method\": 22, \"Test\": 133}, {\"Method\": 176, \"Test\": 51}, {\"Method\": 60, \"Test\": 43}, {\"Method\": 21, \"Test\": 47}, {\"Method\": 61, \"Test\": 188}, {\"Method\": 68, \"Test\": 94}, {\"Method\": 17, \"Test\": 242}, {\"Method\": 10, \"Test\": 19}, {\"Method\": 46, \"Test\": 168}, {\"Method\": 136, \"Test\": 61}, {\"Method\": 37, \"Test\": 163}, {\"Method\": 153, \"Test\": 94}, {\"Method\": 112, \"Test\": 174}, {\"Method\": 31, \"Test\": 299}, {\"Method\": 22, \"Test\": 57}, {\"Method\": 99, \"Test\": 78}, {\"Method\": 169, \"Test\": 26}, {\"Method\": 40, \"Test\": 59}, {\"Method\": 32, \"Test\": 32}, {\"Method\": 19, \"Test\": 68}, {\"Method\": 1108, \"Test\": 181}, {\"Method\": 170, \"Test\": 193}, {\"Method\": 47, \"Test\": 130}, {\"Method\": 51, \"Test\": 41}, {\"Method\": 90, \"Test\": 244}, {\"Method\": 53, \"Test\": 74}, {\"Method\": 127, \"Test\": 32}, {\"Method\": 76, \"Test\": 232}, {\"Method\": 116, \"Test\": 27}, {\"Method\": 306, \"Test\": 314}, {\"Method\": 18, \"Test\": 22}, {\"Method\": 20, \"Test\": 92}, {\"Method\": 72, \"Test\": 33}, {\"Method\": 68, \"Test\": 66}, {\"Method\": 29, \"Test\": 71}, {\"Method\": 28, \"Test\": 39}, {\"Method\": 297, \"Test\": 147}, {\"Method\": 26, \"Test\": 207}, {\"Method\": 38, \"Test\": 58}, {\"Method\": 23, \"Test\": 67}, {\"Method\": 20, \"Test\": 69}, {\"Method\": 92, \"Test\": 210}, {\"Method\": 775, \"Test\": 259}, {\"Method\": 446, \"Test\": 115}, {\"Method\": 40, \"Test\": 92}, {\"Method\": 30, \"Test\": 529}, {\"Method\": 51, \"Test\": 90}, {\"Method\": 141, \"Test\": 53}, {\"Method\": 21, \"Test\": 44}, {\"Method\": 28, \"Test\": 26}, {\"Method\": 105, \"Test\": 51}, {\"Method\": 21, \"Test\": 40}, {\"Method\": 37, \"Test\": 188}, {\"Method\": 51, \"Test\": 51}, {\"Method\": 29, \"Test\": 114}, {\"Method\": 46, \"Test\": 70}, {\"Method\": 216, \"Test\": 100}, {\"Method\": 214, \"Test\": 73}, {\"Method\": 62, \"Test\": 98}, {\"Method\": 17, \"Test\": 26}, {\"Method\": 58, \"Test\": 37}, {\"Method\": 27, \"Test\": 19}, {\"Method\": 101, \"Test\": 36}, {\"Method\": 34, \"Test\": 33}, {\"Method\": 31, \"Test\": 97}, {\"Method\": 148, \"Test\": 142}, {\"Method\": 56, \"Test\": 54}, {\"Method\": 69, \"Test\": 45}, {\"Method\": 86, \"Test\": 181}, {\"Method\": 18, \"Test\": 8}, {\"Method\": 36, \"Test\": 141}, {\"Method\": 22, \"Test\": 48}, {\"Method\": 30, \"Test\": 93}, {\"Method\": 64, \"Test\": 61}, {\"Method\": 285, \"Test\": 295}, {\"Method\": 63, \"Test\": 18}, {\"Method\": 62, \"Test\": 155}, {\"Method\": 19, \"Test\": 30}, {\"Method\": 96, \"Test\": 15}, {\"Method\": 30, \"Test\": 62}, {\"Method\": 58, \"Test\": 66}, {\"Method\": 39, \"Test\": 69}, {\"Method\": 249, \"Test\": 55}, {\"Method\": 128, \"Test\": 23}, {\"Method\": 147, \"Test\": 252}, {\"Method\": 264, \"Test\": 345}, {\"Method\": 79, \"Test\": 82}, {\"Method\": 104, \"Test\": 109}, {\"Method\": 17, \"Test\": 44}, {\"Method\": 83, \"Test\": 39}, {\"Method\": 46, \"Test\": 204}, {\"Method\": 20, \"Test\": 62}, {\"Method\": 30, \"Test\": 46}, {\"Method\": 25, \"Test\": 68}, {\"Method\": 26, \"Test\": 17}, {\"Method\": 14, \"Test\": 72}, {\"Method\": 126, \"Test\": 97}, {\"Method\": 41, \"Test\": 317}, {\"Method\": 149, \"Test\": 105}, {\"Method\": 318, \"Test\": 48}, {\"Method\": 27, \"Test\": 17}, {\"Method\": 25, \"Test\": 60}, {\"Method\": 16, \"Test\": 102}, {\"Method\": 83, \"Test\": 45}, {\"Method\": 61, \"Test\": 150}, {\"Method\": 13, \"Test\": 32}, {\"Method\": 258, \"Test\": 116}, {\"Method\": 23, \"Test\": 43}, {\"Method\": 33, \"Test\": 105}, {\"Method\": 24, \"Test\": 24}, {\"Method\": 17, \"Test\": 93}, {\"Method\": 434, \"Test\": 141}, {\"Method\": 13, \"Test\": 129}, {\"Method\": 127, \"Test\": 108}, {\"Method\": 13, \"Test\": 145}, {\"Method\": 209, \"Test\": 88}, {\"Method\": 750, \"Test\": 97}, {\"Method\": 67, \"Test\": 126}, {\"Method\": 317, \"Test\": 215}, {\"Method\": 66, \"Test\": 20}, {\"Method\": 248, \"Test\": 10}, {\"Method\": 94, \"Test\": 56}, {\"Method\": 863, \"Test\": 88}, {\"Method\": 14, \"Test\": 24}, {\"Method\": 20, \"Test\": 52}, {\"Method\": 55, \"Test\": 51}, {\"Method\": 200, \"Test\": 59}, {\"Method\": 74, \"Test\": 66}, {\"Method\": 22, \"Test\": 88}, {\"Method\": 32, \"Test\": 94}, {\"Method\": 29, \"Test\": 77}, {\"Method\": 43, \"Test\": 60}, {\"Method\": 193, \"Test\": 129}, {\"Method\": 10, \"Test\": 31}, {\"Method\": 119, \"Test\": 255}, {\"Method\": 17, \"Test\": 66}, {\"Method\": 250, \"Test\": 104}, {\"Method\": 93, \"Test\": 98}, {\"Method\": 149, \"Test\": 119}, {\"Method\": 128, \"Test\": 208}, {\"Method\": 60, \"Test\": 74}, {\"Method\": 15, \"Test\": 100}, {\"Method\": 36, \"Test\": 16}, {\"Method\": 332, \"Test\": 165}, {\"Method\": 16, \"Test\": 19}, {\"Method\": 42, \"Test\": 103}, {\"Method\": 23, \"Test\": 114}, {\"Method\": 104, \"Test\": 146}, {\"Method\": 28, \"Test\": 24}, {\"Method\": 31, \"Test\": 65}, {\"Method\": 19, \"Test\": 94}, {\"Method\": 13, \"Test\": 24}, {\"Method\": 57, \"Test\": 14}, {\"Method\": 24, \"Test\": 53}, {\"Method\": 6, \"Test\": 26}, {\"Method\": 51, \"Test\": 32}, {\"Method\": 78, \"Test\": 67}, {\"Method\": 60, \"Test\": 67}, {\"Method\": 240, \"Test\": 59}, {\"Method\": 72, \"Test\": 28}, {\"Method\": 18, \"Test\": 33}, {\"Method\": 289, \"Test\": 68}, {\"Method\": 13, \"Test\": 27}, {\"Method\": 17, \"Test\": 33}, {\"Method\": 26, \"Test\": 85}, {\"Method\": 52, \"Test\": 54}, {\"Method\": 43, \"Test\": 35}, {\"Method\": 60, \"Test\": 64}, {\"Method\": 36, \"Test\": 55}, {\"Method\": 149, \"Test\": 135}, {\"Method\": 1166, \"Test\": 154}, {\"Method\": 104, \"Test\": 28}, {\"Method\": 123, \"Test\": 25}, {\"Method\": 58, \"Test\": 27}, {\"Method\": 28, \"Test\": 244}, {\"Method\": 28, \"Test\": 41}, {\"Method\": 54, \"Test\": 110}, {\"Method\": 54, \"Test\": 72}, {\"Method\": 64, \"Test\": 40}, {\"Method\": 28, \"Test\": 80}, {\"Method\": 91, \"Test\": 274}, {\"Method\": 25, \"Test\": 144}, {\"Method\": 53, \"Test\": 72}, {\"Method\": 93, \"Test\": 92}, {\"Method\": 249, \"Test\": 168}, {\"Method\": 199, \"Test\": 53}, {\"Method\": 111, \"Test\": 20}, {\"Method\": 104, \"Test\": 282}, {\"Method\": 48, \"Test\": 31}, {\"Method\": 144, \"Test\": 96}, {\"Method\": 24, \"Test\": 35}, {\"Method\": 176, \"Test\": 26}, {\"Method\": 17, \"Test\": 40}, {\"Method\": 85, \"Test\": 153}, {\"Method\": 246, \"Test\": 138}, {\"Method\": 96, \"Test\": 150}, {\"Method\": 331, \"Test\": 34}, {\"Method\": 81, \"Test\": 67}, {\"Method\": 13, \"Test\": 43}, {\"Method\": 37, \"Test\": 24}, {\"Method\": 27, \"Test\": 112}, {\"Method\": 104, \"Test\": 85}, {\"Method\": 10, \"Test\": 56}, {\"Method\": 125, \"Test\": 47}, {\"Method\": 119, \"Test\": 35}, {\"Method\": 256, \"Test\": 73}, {\"Method\": 13, \"Test\": 104}, {\"Method\": 64, \"Test\": 59}, {\"Method\": 15, \"Test\": 75}, {\"Method\": 1162, \"Test\": 104}, {\"Method\": 46, \"Test\": 197}, {\"Method\": 68, \"Test\": 27}, {\"Method\": 34, \"Test\": 150}, {\"Method\": 89, \"Test\": 96}, {\"Method\": 39, \"Test\": 122}, {\"Method\": 408, \"Test\": 73}, {\"Method\": 10, \"Test\": 36}, {\"Method\": 152, \"Test\": 204}, {\"Method\": 10, \"Test\": 49}, {\"Method\": 320, \"Test\": 71}, {\"Method\": 27, \"Test\": 76}, {\"Method\": 57, \"Test\": 116}, {\"Method\": 29, \"Test\": 296}, {\"Method\": 106, \"Test\": 72}, {\"Method\": 98, \"Test\": 390}, {\"Method\": 50, \"Test\": 89}, {\"Method\": 23, \"Test\": 41}, {\"Method\": 72, \"Test\": 109}, {\"Method\": 67, \"Test\": 120}, {\"Method\": 15, \"Test\": 30}, {\"Method\": 15, \"Test\": 58}, {\"Method\": 126, \"Test\": 71}, {\"Method\": 128, \"Test\": 176}, {\"Method\": 568, \"Test\": 110}, {\"Method\": 30, \"Test\": 37}, {\"Method\": 72, \"Test\": 30}, {\"Method\": 144, \"Test\": 57}, {\"Method\": 10, \"Test\": 62}, {\"Method\": 45, \"Test\": 245}, {\"Method\": 57, \"Test\": 47}, {\"Method\": 198, \"Test\": 121}, {\"Method\": 107, \"Test\": 31}, {\"Method\": 22, \"Test\": 95}, {\"Method\": 17, \"Test\": 38}, {\"Method\": 190, \"Test\": 39}, {\"Method\": 21, \"Test\": 99}, {\"Method\": 23, \"Test\": 220}, {\"Method\": 72, \"Test\": 69}, {\"Method\": 409, \"Test\": 808}, {\"Method\": 48, \"Test\": 104}, {\"Method\": 9, \"Test\": 30}, {\"Method\": 145, \"Test\": 37}, {\"Method\": 54, \"Test\": 62}, {\"Method\": 72, \"Test\": 81}, {\"Method\": 44, \"Test\": 72}, {\"Method\": 64, \"Test\": 47}, {\"Method\": 19, \"Test\": 30}, {\"Method\": 30, \"Test\": 15}, {\"Method\": 24, \"Test\": 38}, {\"Method\": 68, \"Test\": 69}, {\"Method\": 117, \"Test\": 44}, {\"Method\": 101, \"Test\": 180}, {\"Method\": 22, \"Test\": 52}, {\"Method\": 382, \"Test\": 66}, {\"Method\": 101, \"Test\": 236}, {\"Method\": 109, \"Test\": 94}, {\"Method\": 375, \"Test\": 30}, {\"Method\": 403, \"Test\": 111}, {\"Method\": 184, \"Test\": 177}, {\"Method\": 144, \"Test\": 928}, {\"Method\": 123, \"Test\": 34}, {\"Method\": 107, \"Test\": 56}, {\"Method\": 109, \"Test\": 56}, {\"Method\": 421, \"Test\": 62}, {\"Method\": 88, \"Test\": 87}, {\"Method\": 12, \"Test\": 26}, {\"Method\": 16, \"Test\": 59}, {\"Method\": 18, \"Test\": 98}, {\"Method\": 168, \"Test\": 79}, {\"Method\": 69, \"Test\": 33}, {\"Method\": 293, \"Test\": 25}, {\"Method\": 113, \"Test\": 49}, {\"Method\": 31, \"Test\": 85}, {\"Method\": 18, \"Test\": 39}, {\"Method\": 130, \"Test\": 56}, {\"Method\": 51, \"Test\": 75}, {\"Method\": 145, \"Test\": 339}, {\"Method\": 389, \"Test\": 394}, {\"Method\": 782, \"Test\": 285}, {\"Method\": 10, \"Test\": 120}, {\"Method\": 34, \"Test\": 63}, {\"Method\": 18, \"Test\": 34}, {\"Method\": 18, \"Test\": 59}, {\"Method\": 71, \"Test\": 96}, {\"Method\": 29, \"Test\": 194}, {\"Method\": 59, \"Test\": 55}, {\"Method\": 30, \"Test\": 56}, {\"Method\": 95, \"Test\": 180}, {\"Method\": 355, \"Test\": 146}, {\"Method\": 106, \"Test\": 93}, {\"Method\": 31, \"Test\": 23}, {\"Method\": 19, \"Test\": 158}, {\"Method\": 17, \"Test\": 61}, {\"Method\": 124, \"Test\": 45}, {\"Method\": 93, \"Test\": 78}, {\"Method\": 164, \"Test\": 151}, {\"Method\": 65, \"Test\": 82}, {\"Method\": 185, \"Test\": 28}, {\"Method\": 90, \"Test\": 40}, {\"Method\": 103, \"Test\": 167}, {\"Method\": 54, \"Test\": 67}, {\"Method\": 54, \"Test\": 66}, {\"Method\": 390, \"Test\": 41}, {\"Method\": 91, \"Test\": 48}, {\"Method\": 57, \"Test\": 132}, {\"Method\": 152, \"Test\": 59}, {\"Method\": 41, \"Test\": 80}, {\"Method\": 18, \"Test\": 19}, {\"Method\": 19, \"Test\": 72}, {\"Method\": 19, \"Test\": 28}, {\"Method\": 65, \"Test\": 49}, {\"Method\": 54, \"Test\": 758}, {\"Method\": 140, \"Test\": 61}, {\"Method\": 22, \"Test\": 42}, {\"Method\": 14, \"Test\": 211}, {\"Method\": 118, \"Test\": 37}, {\"Method\": 17, \"Test\": 20}, {\"Method\": 14, \"Test\": 45}, {\"Method\": 309, \"Test\": 24}, {\"Method\": 28, \"Test\": 103}, {\"Method\": 29, \"Test\": 58}, {\"Method\": 20, \"Test\": 113}, {\"Method\": 10, \"Test\": 26}, {\"Method\": 142, \"Test\": 287}, {\"Method\": 105, \"Test\": 135}, {\"Method\": 14, \"Test\": 53}, {\"Method\": 25, \"Test\": 77}, {\"Method\": 606, \"Test\": 150}, {\"Method\": 192, \"Test\": 40}, {\"Method\": 22, \"Test\": 154}, {\"Method\": 575, \"Test\": 75}, {\"Method\": 108, \"Test\": 78}, {\"Method\": 99, \"Test\": 130}, {\"Method\": 16, \"Test\": 18}, {\"Method\": 28, \"Test\": 42}, {\"Method\": 213, \"Test\": 510}, {\"Method\": 59, \"Test\": 147}, {\"Method\": 57, \"Test\": 57}, {\"Method\": 133, \"Test\": 56}, {\"Method\": 292, \"Test\": 282}, {\"Method\": 32, \"Test\": 46}, {\"Method\": 129, \"Test\": 82}, {\"Method\": 32, \"Test\": 103}, {\"Method\": 126, \"Test\": 355}, {\"Method\": 237, \"Test\": 115}, {\"Method\": 44, \"Test\": 34}, {\"Method\": 154, \"Test\": 120}, {\"Method\": 46, \"Test\": 57}, {\"Method\": 10, \"Test\": 54}, {\"Method\": 10, \"Test\": 95}, {\"Method\": 31, \"Test\": 79}, {\"Method\": 289, \"Test\": 79}, {\"Method\": 15, \"Test\": 29}, {\"Method\": 22, \"Test\": 76}, {\"Method\": 11, \"Test\": 165}, {\"Method\": 10, \"Test\": 32}, {\"Method\": 183, \"Test\": 58}, {\"Method\": 18, \"Test\": 91}, {\"Method\": 144, \"Test\": 24}, {\"Method\": 52, \"Test\": 66}, {\"Method\": 325, \"Test\": 73}, {\"Method\": 290, \"Test\": 91}, {\"Method\": 40, \"Test\": 52}, {\"Method\": 98, \"Test\": 433}, {\"Method\": 19, \"Test\": 44}, {\"Method\": 23, \"Test\": 45}, {\"Method\": 18, \"Test\": 32}, {\"Method\": 28, \"Test\": 77}, {\"Method\": 10, \"Test\": 75}, {\"Method\": 20, \"Test\": 115}, {\"Method\": 54, \"Test\": 172}, {\"Method\": 126, \"Test\": 124}, {\"Method\": 45, \"Test\": 55}, {\"Method\": 57, \"Test\": 74}, {\"Method\": 50, \"Test\": 195}, {\"Method\": 27, \"Test\": 106}, {\"Method\": 177, \"Test\": 127}, {\"Method\": 26, \"Test\": 36}, {\"Method\": 17, \"Test\": 34}, {\"Method\": 169, \"Test\": 134}, {\"Method\": 45, \"Test\": 65}, {\"Method\": 16, \"Test\": 20}, {\"Method\": 19, \"Test\": 63}, {\"Method\": 20, \"Test\": 52}, {\"Method\": 87, \"Test\": 50}, {\"Method\": 132, \"Test\": 21}, {\"Method\": 254, \"Test\": 169}, {\"Method\": 171, \"Test\": 205}, {\"Method\": 13, \"Test\": 24}, {\"Method\": 27, \"Test\": 19}, {\"Method\": 113, \"Test\": 48}, {\"Method\": 22, \"Test\": 59}, {\"Method\": 410, \"Test\": 69}, {\"Method\": 97, \"Test\": 67}, {\"Method\": 135, \"Test\": 74}, {\"Method\": 49, \"Test\": 114}, {\"Method\": 210, \"Test\": 96}, {\"Method\": 19, \"Test\": 126}, {\"Method\": 257, \"Test\": 115}, {\"Method\": 925, \"Test\": 729}, {\"Method\": 117, \"Test\": 78}, {\"Method\": 199, \"Test\": 38}, {\"Method\": 10, \"Test\": 19}, {\"Method\": 21, \"Test\": 506}, {\"Method\": 20, \"Test\": 27}, {\"Method\": 12, \"Test\": 35}, {\"Method\": 82, \"Test\": 46}, {\"Method\": 378, \"Test\": 19}, {\"Method\": 24, \"Test\": 115}, {\"Method\": 125, \"Test\": 116}, {\"Method\": 47, \"Test\": 23}, {\"Method\": 74, \"Test\": 19}, {\"Method\": 50, \"Test\": 53}, {\"Method\": 25, \"Test\": 58}, {\"Method\": 50, \"Test\": 54}, {\"Method\": 328, \"Test\": 78}, {\"Method\": 146, \"Test\": 56}, {\"Method\": 108, \"Test\": 116}, {\"Method\": 33, \"Test\": 491}, {\"Method\": 15, \"Test\": 45}, {\"Method\": 70, \"Test\": 40}, {\"Method\": 51, \"Test\": 80}, {\"Method\": 273, \"Test\": 162}, {\"Method\": 23, \"Test\": 80}, {\"Method\": 34, \"Test\": 17}, {\"Method\": 188, \"Test\": 70}, {\"Method\": 370, \"Test\": 203}, {\"Method\": 110, \"Test\": 138}, {\"Method\": 51, \"Test\": 23}, {\"Method\": 279, \"Test\": 193}, {\"Method\": 30, \"Test\": 42}, {\"Method\": 18, \"Test\": 114}, {\"Method\": 63, \"Test\": 68}, {\"Method\": 145, \"Test\": 23}, {\"Method\": 90, \"Test\": 28}, {\"Method\": 17, \"Test\": 64}, {\"Method\": 144, \"Test\": 59}, {\"Method\": 206, \"Test\": 332}, {\"Method\": 83, \"Test\": 98}, {\"Method\": 24, \"Test\": 54}, {\"Method\": 218, \"Test\": 77}, {\"Method\": 14, \"Test\": 62}, {\"Method\": 15, \"Test\": 31}, {\"Method\": 34, \"Test\": 50}, {\"Method\": 43, \"Test\": 53}, {\"Method\": 27, \"Test\": 45}, {\"Method\": 42, \"Test\": 226}, {\"Method\": 23, \"Test\": 139}, {\"Method\": 26, \"Test\": 68}, {\"Method\": 21, \"Test\": 24}, {\"Method\": 448, \"Test\": 66}, {\"Method\": 342, \"Test\": 26}, {\"Method\": 104, \"Test\": 443}, {\"Method\": 79, \"Test\": 71}, {\"Method\": 57, \"Test\": 136}, {\"Method\": 432, \"Test\": 156}, {\"Method\": 179, \"Test\": 134}, {\"Method\": 39, \"Test\": 53}, {\"Method\": 16, \"Test\": 67}, {\"Method\": 129, \"Test\": 247}, {\"Method\": 9, \"Test\": 41}, {\"Method\": 66, \"Test\": 105}, {\"Method\": 93, \"Test\": 54}, {\"Method\": 161, \"Test\": 41}, {\"Method\": 18, \"Test\": 68}, {\"Method\": 30, \"Test\": 46}, {\"Method\": 85, \"Test\": 316}, {\"Method\": 51, \"Test\": 68}, {\"Method\": 251, \"Test\": 54}, {\"Method\": 73, \"Test\": 167}, {\"Method\": 56, \"Test\": 88}, {\"Method\": 49, \"Test\": 46}, {\"Method\": 114, \"Test\": 28}, {\"Method\": 1230, \"Test\": 103}, {\"Method\": 43, \"Test\": 142}, {\"Method\": 17, \"Test\": 55}, {\"Method\": 15, \"Test\": 52}, {\"Method\": 28, \"Test\": 57}, {\"Method\": 132, \"Test\": 197}, {\"Method\": 68, \"Test\": 56}, {\"Method\": 81, \"Test\": 108}, {\"Method\": 38, \"Test\": 185}, {\"Method\": 85, \"Test\": 64}, {\"Method\": 40, \"Test\": 103}, {\"Method\": 28, \"Test\": 23}, {\"Method\": 1669, \"Test\": 196}, {\"Method\": 55, \"Test\": 53}, {\"Method\": 17, \"Test\": 44}, {\"Method\": 13, \"Test\": 25}, {\"Method\": 136, \"Test\": 65}, {\"Method\": 130, \"Test\": 228}, {\"Method\": 25, \"Test\": 83}, {\"Method\": 10, \"Test\": 31}, {\"Method\": 76, \"Test\": 204}, {\"Method\": 233, \"Test\": 80}, {\"Method\": 114, \"Test\": 32}, {\"Method\": 37, \"Test\": 46}, {\"Method\": 23, \"Test\": 28}, {\"Method\": 51, \"Test\": 214}, {\"Method\": 18, \"Test\": 8}, {\"Method\": 27, \"Test\": 50}, {\"Method\": 28, \"Test\": 27}, {\"Method\": 159, \"Test\": 199}, {\"Method\": 49, \"Test\": 100}, {\"Method\": 18, \"Test\": 74}, {\"Method\": 110, \"Test\": 57}, {\"Method\": 17, \"Test\": 55}, {\"Method\": 129, \"Test\": 530}, {\"Method\": 616, \"Test\": 86}, {\"Method\": 46, \"Test\": 129}, {\"Method\": 103, \"Test\": 136}, {\"Method\": 59, \"Test\": 179}, {\"Method\": 213, \"Test\": 304}, {\"Method\": 393, \"Test\": 79}, {\"Method\": 13, \"Test\": 164}, {\"Method\": 20, \"Test\": 35}, {\"Method\": 89, \"Test\": 169}, {\"Method\": 70, \"Test\": 96}, {\"Method\": 155, \"Test\": 235}, {\"Method\": 281, \"Test\": 78}, {\"Method\": 14, \"Test\": 52}, {\"Method\": 77, \"Test\": 107}, {\"Method\": 31, \"Test\": 31}, {\"Method\": 61, \"Test\": 50}, {\"Method\": 117, \"Test\": 110}, {\"Method\": 240, \"Test\": 30}, {\"Method\": 40, \"Test\": 61}, {\"Method\": 102, \"Test\": 39}, {\"Method\": 224, \"Test\": 108}, {\"Method\": 30, \"Test\": 202}, {\"Method\": 145, \"Test\": 189}, {\"Method\": 14, \"Test\": 26}, {\"Method\": 51, \"Test\": 88}, {\"Method\": 27, \"Test\": 204}, {\"Method\": 19, \"Test\": 40}, {\"Method\": 62, \"Test\": 15}, {\"Method\": 138, \"Test\": 38}, {\"Method\": 56, \"Test\": 112}, {\"Method\": 70, \"Test\": 53}, {\"Method\": 13, \"Test\": 14}, {\"Method\": 28, \"Test\": 45}, {\"Method\": 21, \"Test\": 45}, {\"Method\": 15, \"Test\": 30}, {\"Method\": 148, \"Test\": 107}, {\"Method\": 50, \"Test\": 40}, {\"Method\": 7, \"Test\": 48}, {\"Method\": 121, \"Test\": 97}, {\"Method\": 38, \"Test\": 28}, {\"Method\": 20, \"Test\": 122}, {\"Method\": 19, \"Test\": 34}, {\"Method\": 69, \"Test\": 120}, {\"Method\": 19, \"Test\": 58}, {\"Method\": 17, \"Test\": 25}, {\"Method\": 17, \"Test\": 282}, {\"Method\": 17, \"Test\": 114}, {\"Method\": 45, \"Test\": 157}, {\"Method\": 14, \"Test\": 23}, {\"Method\": 23, \"Test\": 35}, {\"Method\": 11, \"Test\": 42}, {\"Method\": 17, \"Test\": 79}, {\"Method\": 34, \"Test\": 79}, {\"Method\": 25, \"Test\": 34}, {\"Method\": 156, \"Test\": 62}, {\"Method\": 26, \"Test\": 25}, {\"Method\": 130, \"Test\": 35}, {\"Method\": 42, \"Test\": 22}, {\"Method\": 37, \"Test\": 108}, {\"Method\": 35, \"Test\": 106}, {\"Method\": 65, \"Test\": 96}, {\"Method\": 13, \"Test\": 37}, {\"Method\": 11, \"Test\": 153}, {\"Method\": 40, \"Test\": 49}, {\"Method\": 52, \"Test\": 49}, {\"Method\": 31, \"Test\": 123}, {\"Method\": 10, \"Test\": 38}, {\"Method\": 186, \"Test\": 60}, {\"Method\": 113, \"Test\": 62}, {\"Method\": 125, \"Test\": 23}, {\"Method\": 97, \"Test\": 421}, {\"Method\": 64, \"Test\": 84}, {\"Method\": 83, \"Test\": 46}, {\"Method\": 81, \"Test\": 33}, {\"Method\": 75, \"Test\": 70}, {\"Method\": 25, \"Test\": 58}, {\"Method\": 10, \"Test\": 40}, {\"Method\": 373, \"Test\": 45}, {\"Method\": 108, \"Test\": 16}, {\"Method\": 92, \"Test\": 214}, {\"Method\": 28, \"Test\": 26}, {\"Method\": 18, \"Test\": 33}, {\"Method\": 18, \"Test\": 36}, {\"Method\": 137, \"Test\": 435}, {\"Method\": 157, \"Test\": 20}, {\"Method\": 150, \"Test\": 278}, {\"Method\": 19, \"Test\": 116}, {\"Method\": 154, \"Test\": 122}, {\"Method\": 119, \"Test\": 36}, {\"Method\": 468, \"Test\": 191}, {\"Method\": 26, \"Test\": 202}]}}, {\"mode\": \"vega-lite\"});\n",
       "</script>"
      ],
      "text/plain": [
       "alt.Chart(...)"
      ]
     },
     "metadata": {},
     "output_type": "display_data"
    },
    {
     "data": {
      "text/html": [
       "\n",
       "<div id=\"altair-viz-b66d43a11f4a4712b5e420efd749b0bf\"></div>\n",
       "<script type=\"text/javascript\">\n",
       "  (function(spec, embedOpt){\n",
       "    let outputDiv = document.currentScript.previousElementSibling;\n",
       "    if (outputDiv.id !== \"altair-viz-b66d43a11f4a4712b5e420efd749b0bf\") {\n",
       "      outputDiv = document.getElementById(\"altair-viz-b66d43a11f4a4712b5e420efd749b0bf\");\n",
       "    }\n",
       "    const paths = {\n",
       "      \"vega\": \"https://cdn.jsdelivr.net/npm//vega@5?noext\",\n",
       "      \"vega-lib\": \"https://cdn.jsdelivr.net/npm//vega-lib?noext\",\n",
       "      \"vega-lite\": \"https://cdn.jsdelivr.net/npm//vega-lite@4.8.1?noext\",\n",
       "      \"vega-embed\": \"https://cdn.jsdelivr.net/npm//vega-embed@6?noext\",\n",
       "    };\n",
       "\n",
       "    function loadScript(lib) {\n",
       "      return new Promise(function(resolve, reject) {\n",
       "        var s = document.createElement('script');\n",
       "        s.src = paths[lib];\n",
       "        s.async = true;\n",
       "        s.onload = () => resolve(paths[lib]);\n",
       "        s.onerror = () => reject(`Error loading script: ${paths[lib]}`);\n",
       "        document.getElementsByTagName(\"head\")[0].appendChild(s);\n",
       "      });\n",
       "    }\n",
       "\n",
       "    function showError(err) {\n",
       "      outputDiv.innerHTML = `<div class=\"error\" style=\"color:red;\">${err}</div>`;\n",
       "      throw err;\n",
       "    }\n",
       "\n",
       "    function displayChart(vegaEmbed) {\n",
       "      vegaEmbed(outputDiv, spec, embedOpt)\n",
       "        .catch(err => showError(`Javascript Error: ${err.message}<br>This usually means there's a typo in your chart specification. See the javascript console for the full traceback.`));\n",
       "    }\n",
       "\n",
       "    if(typeof define === \"function\" && define.amd) {\n",
       "      requirejs.config({paths});\n",
       "      require([\"vega-embed\"], displayChart, err => showError(`Error loading script: ${err.message}`));\n",
       "    } else if (typeof vegaEmbed === \"function\") {\n",
       "      displayChart(vegaEmbed);\n",
       "    } else {\n",
       "      loadScript(\"vega\")\n",
       "        .then(() => loadScript(\"vega-lite\"))\n",
       "        .then(() => loadScript(\"vega-embed\"))\n",
       "        .catch(showError)\n",
       "        .then(() => displayChart(vegaEmbed));\n",
       "    }\n",
       "  })({\"config\": {\"view\": {\"continuousWidth\": 400, \"continuousHeight\": 300}}, \"data\": {\"name\": \"data-b68d2e939271e6ce57bfd79fd937574f\"}, \"mark\": \"bar\", \"encoding\": {\"x\": {\"type\": \"quantitative\", \"bin\": {\"maxbins\": 200, \"step\": 30}, \"field\": \"Test\"}, \"y\": {\"type\": \"quantitative\", \"aggregate\": \"count\", \"stack\": null}}, \"height\": 300, \"width\": 700, \"$schema\": \"https://vega.github.io/schema/vega-lite/v4.8.1.json\", \"datasets\": {\"data-b68d2e939271e6ce57bfd79fd937574f\": [{\"Method\": 102, \"Test\": 115}, {\"Method\": 1481, \"Test\": 108}, {\"Method\": 60, \"Test\": 150}, {\"Method\": 36, \"Test\": 83}, {\"Method\": 91, \"Test\": 28}, {\"Method\": 590, \"Test\": 131}, {\"Method\": 10, \"Test\": 46}, {\"Method\": 39, \"Test\": 62}, {\"Method\": 61, \"Test\": 70}, {\"Method\": 229, \"Test\": 66}, {\"Method\": 130, \"Test\": 35}, {\"Method\": 244, \"Test\": 106}, {\"Method\": 619, \"Test\": 65}, {\"Method\": 16, \"Test\": 116}, {\"Method\": 1363, \"Test\": 121}, {\"Method\": 59, \"Test\": 84}, {\"Method\": 166, \"Test\": 112}, {\"Method\": 30, \"Test\": 36}, {\"Method\": 14, \"Test\": 22}, {\"Method\": 640, \"Test\": 93}, {\"Method\": 10, \"Test\": 40}, {\"Method\": 162, \"Test\": 21}, {\"Method\": 204, \"Test\": 96}, {\"Method\": 66, \"Test\": 65}, {\"Method\": 390, \"Test\": 95}, {\"Method\": 72, \"Test\": 46}, {\"Method\": 28, \"Test\": 81}, {\"Method\": 85, \"Test\": 47}, {\"Method\": 84, \"Test\": 62}, {\"Method\": 32, \"Test\": 93}, {\"Method\": 166, \"Test\": 46}, {\"Method\": 64, \"Test\": 37}, {\"Method\": 48, \"Test\": 15}, {\"Method\": 124, \"Test\": 100}, {\"Method\": 61, \"Test\": 50}, {\"Method\": 398, \"Test\": 43}, {\"Method\": 60, \"Test\": 8}, {\"Method\": 10, \"Test\": 58}, {\"Method\": 9, \"Test\": 48}, {\"Method\": 222, \"Test\": 116}, {\"Method\": 43, \"Test\": 29}, {\"Method\": 64, \"Test\": 85}, {\"Method\": 91, \"Test\": 137}, {\"Method\": 478, \"Test\": 84}, {\"Method\": 41, \"Test\": 150}, {\"Method\": 44, \"Test\": 86}, {\"Method\": 12, \"Test\": 23}, {\"Method\": 16, \"Test\": 52}, {\"Method\": 42, \"Test\": 32}, {\"Method\": 136, \"Test\": 35}, {\"Method\": 15, \"Test\": 42}, {\"Method\": 240, \"Test\": 81}, {\"Method\": 62, \"Test\": 44}, {\"Method\": 9, \"Test\": 29}, {\"Method\": 17, \"Test\": 33}, {\"Method\": 27, \"Test\": 33}, {\"Method\": 45, \"Test\": 71}, {\"Method\": 123, \"Test\": 125}, {\"Method\": 102, \"Test\": 187}, {\"Method\": 38, \"Test\": 507}, {\"Method\": 27, \"Test\": 43}, {\"Method\": 16, \"Test\": 18}, {\"Method\": 191, \"Test\": 102}, {\"Method\": 79, \"Test\": 136}, {\"Method\": 49, \"Test\": 128}, {\"Method\": 16, \"Test\": 42}, {\"Method\": 154, \"Test\": 60}, {\"Method\": 491, \"Test\": 486}, {\"Method\": 21, \"Test\": 29}, {\"Method\": 33, \"Test\": 35}, {\"Method\": 104, \"Test\": 62}, {\"Method\": 77, \"Test\": 162}, {\"Method\": 86, \"Test\": 162}, {\"Method\": 54, \"Test\": 33}, {\"Method\": 27, \"Test\": 178}, {\"Method\": 87, \"Test\": 129}, {\"Method\": 16, \"Test\": 46}, {\"Method\": 46, \"Test\": 217}, {\"Method\": 109, \"Test\": 100}, {\"Method\": 201, \"Test\": 641}, {\"Method\": 19, \"Test\": 63}, {\"Method\": 25, \"Test\": 35}, {\"Method\": 497, \"Test\": 32}, {\"Method\": 30, \"Test\": 35}, {\"Method\": 14, \"Test\": 95}, {\"Method\": 53, \"Test\": 97}, {\"Method\": 37, \"Test\": 61}, {\"Method\": 68, \"Test\": 112}, {\"Method\": 12, \"Test\": 22}, {\"Method\": 16, \"Test\": 102}, {\"Method\": 16, \"Test\": 45}, {\"Method\": 86, \"Test\": 23}, {\"Method\": 493, \"Test\": 131}, {\"Method\": 244, \"Test\": 134}, {\"Method\": 246, \"Test\": 261}, {\"Method\": 85, \"Test\": 281}, {\"Method\": 12, \"Test\": 20}, {\"Method\": 387, \"Test\": 248}, {\"Method\": 83, \"Test\": 92}, {\"Method\": 251, \"Test\": 121}, {\"Method\": 35, \"Test\": 31}, {\"Method\": 149, \"Test\": 62}, {\"Method\": 12, \"Test\": 28}, {\"Method\": 10, \"Test\": 37}, {\"Method\": 18, \"Test\": 315}, {\"Method\": 453, \"Test\": 17}, {\"Method\": 32, \"Test\": 29}, {\"Method\": 18, \"Test\": 45}, {\"Method\": 23, \"Test\": 19}, {\"Method\": 37, \"Test\": 19}, {\"Method\": 43, \"Test\": 20}, {\"Method\": 19, \"Test\": 43}, {\"Method\": 69, \"Test\": 13}, {\"Method\": 31, \"Test\": 20}, {\"Method\": 14, \"Test\": 38}, {\"Method\": 136, \"Test\": 368}, {\"Method\": 60, \"Test\": 42}, {\"Method\": 26, \"Test\": 38}, {\"Method\": 579, \"Test\": 877}, {\"Method\": 47, \"Test\": 60}, {\"Method\": 17, \"Test\": 37}, {\"Method\": 196, \"Test\": 373}, {\"Method\": 20, \"Test\": 101}, {\"Method\": 137, \"Test\": 57}, {\"Method\": 121, \"Test\": 79}, {\"Method\": 255, \"Test\": 46}, {\"Method\": 51, \"Test\": 22}, {\"Method\": 22, \"Test\": 127}, {\"Method\": 62, \"Test\": 133}, {\"Method\": 186, \"Test\": 63}, {\"Method\": 57, \"Test\": 44}, {\"Method\": 241, \"Test\": 763}, {\"Method\": 34, \"Test\": 23}, {\"Method\": 168, \"Test\": 69}, {\"Method\": 22, \"Test\": 49}, {\"Method\": 159, \"Test\": 101}, {\"Method\": 67, \"Test\": 283}, {\"Method\": 13, \"Test\": 16}, {\"Method\": 25, \"Test\": 45}, {\"Method\": 102, \"Test\": 40}, {\"Method\": 14, \"Test\": 54}, {\"Method\": 57, \"Test\": 43}, {\"Method\": 136, \"Test\": 118}, {\"Method\": 77, \"Test\": 136}, {\"Method\": 179, \"Test\": 47}, {\"Method\": 12, \"Test\": 36}, {\"Method\": 22, \"Test\": 36}, {\"Method\": 29, \"Test\": 42}, {\"Method\": 50, \"Test\": 72}, {\"Method\": 14, \"Test\": 32}, {\"Method\": 25, \"Test\": 95}, {\"Method\": 151, \"Test\": 199}, {\"Method\": 112, \"Test\": 81}, {\"Method\": 185, \"Test\": 106}, {\"Method\": 107, \"Test\": 65}, {\"Method\": 94, \"Test\": 132}, {\"Method\": 31, \"Test\": 76}, {\"Method\": 123, \"Test\": 32}, {\"Method\": 86, \"Test\": 72}, {\"Method\": 101, \"Test\": 44}, {\"Method\": 43, \"Test\": 15}, {\"Method\": 102, \"Test\": 46}, {\"Method\": 14, \"Test\": 31}, {\"Method\": 98, \"Test\": 70}, {\"Method\": 61, \"Test\": 96}, {\"Method\": 15, \"Test\": 44}, {\"Method\": 32, \"Test\": 77}, {\"Method\": 98, \"Test\": 45}, {\"Method\": 20, \"Test\": 38}, {\"Method\": 10, \"Test\": 19}, {\"Method\": 67, \"Test\": 149}, {\"Method\": 120, \"Test\": 38}, {\"Method\": 525, \"Test\": 100}, {\"Method\": 269, \"Test\": 56}, {\"Method\": 40, \"Test\": 39}, {\"Method\": 87, \"Test\": 452}, {\"Method\": 137, \"Test\": 172}, {\"Method\": 66, \"Test\": 150}, {\"Method\": 115, \"Test\": 52}, {\"Method\": 140, \"Test\": 20}, {\"Method\": 112, \"Test\": 99}, {\"Method\": 49, \"Test\": 281}, {\"Method\": 124, \"Test\": 35}, {\"Method\": 25, \"Test\": 51}, {\"Method\": 215, \"Test\": 189}, {\"Method\": 61, \"Test\": 51}, {\"Method\": 76, \"Test\": 56}, {\"Method\": 71, \"Test\": 264}, {\"Method\": 85, \"Test\": 710}, {\"Method\": 17, \"Test\": 59}, {\"Method\": 290, \"Test\": 128}, {\"Method\": 28, \"Test\": 81}, {\"Method\": 555, \"Test\": 123}, {\"Method\": 45, \"Test\": 179}, {\"Method\": 53, \"Test\": 141}, {\"Method\": 205, \"Test\": 743}, {\"Method\": 73, \"Test\": 68}, {\"Method\": 39, \"Test\": 45}, {\"Method\": 143, \"Test\": 31}, {\"Method\": 65, \"Test\": 50}, {\"Method\": 58, \"Test\": 101}, {\"Method\": 88, \"Test\": 110}, {\"Method\": 59, \"Test\": 60}, {\"Method\": 24, \"Test\": 47}, {\"Method\": 755, \"Test\": 40}, {\"Method\": 10, \"Test\": 154}, {\"Method\": 36, \"Test\": 25}, {\"Method\": 46, \"Test\": 27}, {\"Method\": 12, \"Test\": 33}, {\"Method\": 140, \"Test\": 137}, {\"Method\": 67, \"Test\": 35}, {\"Method\": 141, \"Test\": 84}, {\"Method\": 129, \"Test\": 110}, {\"Method\": 26, \"Test\": 27}, {\"Method\": 285, \"Test\": 68}, {\"Method\": 205, \"Test\": 120}, {\"Method\": 101, \"Test\": 64}, {\"Method\": 28, \"Test\": 33}, {\"Method\": 48, \"Test\": 114}, {\"Method\": 68, \"Test\": 34}, {\"Method\": 61, \"Test\": 17}, {\"Method\": 17, \"Test\": 166}, {\"Method\": 266, \"Test\": 52}, {\"Method\": 221, \"Test\": 144}, {\"Method\": 228, \"Test\": 54}, {\"Method\": 87, \"Test\": 329}, {\"Method\": 17, \"Test\": 31}, {\"Method\": 10, \"Test\": 60}, {\"Method\": 16, \"Test\": 44}, {\"Method\": 92, \"Test\": 142}, {\"Method\": 68, \"Test\": 123}, {\"Method\": 151, \"Test\": 31}, {\"Method\": 118, \"Test\": 199}, {\"Method\": 21, \"Test\": 52}, {\"Method\": 111, \"Test\": 64}, {\"Method\": 46, \"Test\": 80}, {\"Method\": 66, \"Test\": 50}, {\"Method\": 172, \"Test\": 135}, {\"Method\": 147, \"Test\": 129}, {\"Method\": 59, \"Test\": 69}, {\"Method\": 21, \"Test\": 27}, {\"Method\": 49, \"Test\": 58}, {\"Method\": 25, \"Test\": 107}, {\"Method\": 290, \"Test\": 102}, {\"Method\": 114, \"Test\": 366}, {\"Method\": 71, \"Test\": 33}, {\"Method\": 29, \"Test\": 72}, {\"Method\": 10, \"Test\": 22}, {\"Method\": 10, \"Test\": 17}, {\"Method\": 35, \"Test\": 86}, {\"Method\": 243, \"Test\": 42}, {\"Method\": 287, \"Test\": 82}, {\"Method\": 114, \"Test\": 82}, {\"Method\": 17, \"Test\": 44}, {\"Method\": 17, \"Test\": 43}, {\"Method\": 149, \"Test\": 97}, {\"Method\": 497, \"Test\": 97}, {\"Method\": 21, \"Test\": 89}, {\"Method\": 244, \"Test\": 56}, {\"Method\": 26, \"Test\": 83}, {\"Method\": 159, \"Test\": 37}, {\"Method\": 15, \"Test\": 39}, {\"Method\": 23, \"Test\": 65}, {\"Method\": 31, \"Test\": 94}, {\"Method\": 150, \"Test\": 238}, {\"Method\": 142, \"Test\": 162}, {\"Method\": 114, \"Test\": 149}, {\"Method\": 57, \"Test\": 81}, {\"Method\": 39, \"Test\": 69}, {\"Method\": 14, \"Test\": 100}, {\"Method\": 32, \"Test\": 106}, {\"Method\": 194, \"Test\": 15}, {\"Method\": 25, \"Test\": 40}, {\"Method\": 17, \"Test\": 32}, {\"Method\": 39, \"Test\": 31}, {\"Method\": 145, \"Test\": 105}, {\"Method\": 181, \"Test\": 172}, {\"Method\": 318, \"Test\": 149}, {\"Method\": 163, \"Test\": 17}, {\"Method\": 59, \"Test\": 28}, {\"Method\": 112, \"Test\": 157}, {\"Method\": 41, \"Test\": 101}, {\"Method\": 71, \"Test\": 44}, {\"Method\": 110, \"Test\": 49}, {\"Method\": 18, \"Test\": 26}, {\"Method\": 49, \"Test\": 60}, {\"Method\": 85, \"Test\": 71}, {\"Method\": 49, \"Test\": 56}, {\"Method\": 263, \"Test\": 307}, {\"Method\": 204, \"Test\": 77}, {\"Method\": 18, \"Test\": 8}, {\"Method\": 255, \"Test\": 137}, {\"Method\": 183, \"Test\": 137}, {\"Method\": 25, \"Test\": 40}, {\"Method\": 22, \"Test\": 49}, {\"Method\": 17, \"Test\": 71}, {\"Method\": 60, \"Test\": 58}, {\"Method\": 11, \"Test\": 551}, {\"Method\": 21, \"Test\": 38}, {\"Method\": 60, \"Test\": 125}, {\"Method\": 17, \"Test\": 65}, {\"Method\": 36, \"Test\": 73}, {\"Method\": 337, \"Test\": 165}, {\"Method\": 73, \"Test\": 32}, {\"Method\": 58, \"Test\": 77}, {\"Method\": 16, \"Test\": 42}, {\"Method\": 10, \"Test\": 476}, {\"Method\": 102, \"Test\": 148}, {\"Method\": 18, \"Test\": 38}, {\"Method\": 200, \"Test\": 113}, {\"Method\": 50, \"Test\": 49}, {\"Method\": 391, \"Test\": 170}, {\"Method\": 43, \"Test\": 66}, {\"Method\": 113, \"Test\": 104}, {\"Method\": 149, \"Test\": 67}, {\"Method\": 17, \"Test\": 28}, {\"Method\": 11, \"Test\": 35}, {\"Method\": 52, \"Test\": 84}, {\"Method\": 14, \"Test\": 41}, {\"Method\": 64, \"Test\": 152}, {\"Method\": 150, \"Test\": 67}, {\"Method\": 242, \"Test\": 92}, {\"Method\": 82, \"Test\": 80}, {\"Method\": 76, \"Test\": 55}, {\"Method\": 399, \"Test\": 235}, {\"Method\": 34, \"Test\": 32}, {\"Method\": 121, \"Test\": 55}, {\"Method\": 339, \"Test\": 22}, {\"Method\": 313, \"Test\": 30}, {\"Method\": 60, \"Test\": 65}, {\"Method\": 219, \"Test\": 115}, {\"Method\": 90, \"Test\": 56}, {\"Method\": 177, \"Test\": 35}, {\"Method\": 85, \"Test\": 129}, {\"Method\": 27, \"Test\": 28}, {\"Method\": 378, \"Test\": 181}, {\"Method\": 58, \"Test\": 184}, {\"Method\": 87, \"Test\": 47}, {\"Method\": 24, \"Test\": 128}, {\"Method\": 15, \"Test\": 83}, {\"Method\": 19, \"Test\": 21}, {\"Method\": 104, \"Test\": 32}, {\"Method\": 37, \"Test\": 112}, {\"Method\": 79, \"Test\": 29}, {\"Method\": 43, \"Test\": 22}, {\"Method\": 53, \"Test\": 118}, {\"Method\": 41, \"Test\": 71}, {\"Method\": 18, \"Test\": 31}, {\"Method\": 34, \"Test\": 45}, {\"Method\": 82, \"Test\": 77}, {\"Method\": 22, \"Test\": 26}, {\"Method\": 118, \"Test\": 61}, {\"Method\": 68, \"Test\": 10}, {\"Method\": 34, \"Test\": 33}, {\"Method\": 24, \"Test\": 28}, {\"Method\": 29, \"Test\": 22}, {\"Method\": 68, \"Test\": 42}, {\"Method\": 18, \"Test\": 84}, {\"Method\": 250, \"Test\": 122}, {\"Method\": 160, \"Test\": 80}, {\"Method\": 199, \"Test\": 22}, {\"Method\": 185, \"Test\": 69}, {\"Method\": 92, \"Test\": 28}, {\"Method\": 10, \"Test\": 32}, {\"Method\": 10, \"Test\": 19}, {\"Method\": 33, \"Test\": 22}, {\"Method\": 83, \"Test\": 84}, {\"Method\": 536, \"Test\": 23}, {\"Method\": 18, \"Test\": 19}, {\"Method\": 21, \"Test\": 38}, {\"Method\": 70, \"Test\": 25}, {\"Method\": 69, \"Test\": 69}, {\"Method\": 76, \"Test\": 60}, {\"Method\": 159, \"Test\": 171}, {\"Method\": 19, \"Test\": 22}, {\"Method\": 21, \"Test\": 86}, {\"Method\": 290, \"Test\": 247}, {\"Method\": 91, \"Test\": 80}, {\"Method\": 32, \"Test\": 85}, {\"Method\": 169, \"Test\": 233}, {\"Method\": 10, \"Test\": 27}, {\"Method\": 76, \"Test\": 60}, {\"Method\": 88, \"Test\": 37}, {\"Method\": 174, \"Test\": 27}, {\"Method\": 173, \"Test\": 275}, {\"Method\": 10, \"Test\": 25}, {\"Method\": 63, \"Test\": 276}, {\"Method\": 27, \"Test\": 202}, {\"Method\": 169, \"Test\": 76}, {\"Method\": 26, \"Test\": 171}, {\"Method\": 117, \"Test\": 26}, {\"Method\": 127, \"Test\": 34}, {\"Method\": 14, \"Test\": 34}, {\"Method\": 94, \"Test\": 72}, {\"Method\": 46, \"Test\": 39}, {\"Method\": 101, \"Test\": 97}, {\"Method\": 30, \"Test\": 76}, {\"Method\": 230, \"Test\": 108}, {\"Method\": 40, \"Test\": 34}, {\"Method\": 125, \"Test\": 67}, {\"Method\": 28, \"Test\": 191}, {\"Method\": 10, \"Test\": 52}, {\"Method\": 30, \"Test\": 41}, {\"Method\": 139, \"Test\": 241}, {\"Method\": 86, \"Test\": 29}, {\"Method\": 75, \"Test\": 34}, {\"Method\": 101, \"Test\": 143}, {\"Method\": 37, \"Test\": 101}, {\"Method\": 124, \"Test\": 70}, {\"Method\": 123, \"Test\": 46}, {\"Method\": 10, \"Test\": 8}, {\"Method\": 191, \"Test\": 162}, {\"Method\": 771, \"Test\": 294}, {\"Method\": 22, \"Test\": 40}, {\"Method\": 34, \"Test\": 41}, {\"Method\": 16, \"Test\": 100}, {\"Method\": 57, \"Test\": 22}, {\"Method\": 25, \"Test\": 70}, {\"Method\": 43, \"Test\": 34}, {\"Method\": 584, \"Test\": 556}, {\"Method\": 35, \"Test\": 37}, {\"Method\": 252, \"Test\": 97}, {\"Method\": 368, \"Test\": 72}, {\"Method\": 56, \"Test\": 147}, {\"Method\": 46, \"Test\": 126}, {\"Method\": 84, \"Test\": 139}, {\"Method\": 81, \"Test\": 72}, {\"Method\": 81, \"Test\": 195}, {\"Method\": 93, \"Test\": 76}, {\"Method\": 135, \"Test\": 43}, {\"Method\": 96, \"Test\": 81}, {\"Method\": 56, \"Test\": 75}, {\"Method\": 15, \"Test\": 125}, {\"Method\": 20, \"Test\": 216}, {\"Method\": 26, \"Test\": 47}, {\"Method\": 26, \"Test\": 64}, {\"Method\": 164, \"Test\": 138}, {\"Method\": 128, \"Test\": 72}, {\"Method\": 76, \"Test\": 22}, {\"Method\": 28, \"Test\": 90}, {\"Method\": 20, \"Test\": 152}, {\"Method\": 23, \"Test\": 42}, {\"Method\": 52, \"Test\": 335}, {\"Method\": 300, \"Test\": 124}, {\"Method\": 140, \"Test\": 64}, {\"Method\": 44, \"Test\": 168}, {\"Method\": 107, \"Test\": 67}, {\"Method\": 135, \"Test\": 50}, {\"Method\": 406, \"Test\": 144}, {\"Method\": 93, \"Test\": 52}, {\"Method\": 16, \"Test\": 28}, {\"Method\": 17, \"Test\": 32}, {\"Method\": 81, \"Test\": 164}, {\"Method\": 119, \"Test\": 221}, {\"Method\": 14, \"Test\": 88}, {\"Method\": 188, \"Test\": 36}, {\"Method\": 15, \"Test\": 26}, {\"Method\": 186, \"Test\": 171}, {\"Method\": 36, \"Test\": 52}, {\"Method\": 18, \"Test\": 47}, {\"Method\": 27, \"Test\": 115}, {\"Method\": 188, \"Test\": 49}, {\"Method\": 360, \"Test\": 149}, {\"Method\": 25, \"Test\": 261}, {\"Method\": 48, \"Test\": 27}, {\"Method\": 31, \"Test\": 58}, {\"Method\": 156, \"Test\": 30}, {\"Method\": 182, \"Test\": 179}, {\"Method\": 19, \"Test\": 93}, {\"Method\": 36, \"Test\": 19}, {\"Method\": 272, \"Test\": 67}, {\"Method\": 34, \"Test\": 25}, {\"Method\": 18, \"Test\": 51}, {\"Method\": 23, \"Test\": 706}, {\"Method\": 14, \"Test\": 41}, {\"Method\": 42, \"Test\": 39}, {\"Method\": 75, \"Test\": 186}, {\"Method\": 44, \"Test\": 148}, {\"Method\": 26, \"Test\": 104}, {\"Method\": 54, \"Test\": 116}, {\"Method\": 16, \"Test\": 31}, {\"Method\": 565, \"Test\": 54}, {\"Method\": 25, \"Test\": 67}, {\"Method\": 199, \"Test\": 64}, {\"Method\": 66, \"Test\": 76}, {\"Method\": 48, \"Test\": 146}, {\"Method\": 81, \"Test\": 159}, {\"Method\": 46, \"Test\": 30}, {\"Method\": 16, \"Test\": 25}, {\"Method\": 59, \"Test\": 120}, {\"Method\": 290, \"Test\": 42}, {\"Method\": 26, \"Test\": 22}, {\"Method\": 15, \"Test\": 26}, {\"Method\": 23, \"Test\": 31}, {\"Method\": 23, \"Test\": 60}, {\"Method\": 67, \"Test\": 31}, {\"Method\": 115, \"Test\": 247}, {\"Method\": 56, \"Test\": 108}, {\"Method\": 45, \"Test\": 85}, {\"Method\": 32, \"Test\": 125}, {\"Method\": 12, \"Test\": 36}, {\"Method\": 17, \"Test\": 33}, {\"Method\": 17, \"Test\": 60}, {\"Method\": 36, \"Test\": 51}, {\"Method\": 34, \"Test\": 61}, {\"Method\": 29, \"Test\": 28}, {\"Method\": 353, \"Test\": 263}, {\"Method\": 23, \"Test\": 99}, {\"Method\": 10, \"Test\": 118}, {\"Method\": 154, \"Test\": 247}, {\"Method\": 35, \"Test\": 195}, {\"Method\": 76, \"Test\": 46}, {\"Method\": 38, \"Test\": 72}, {\"Method\": 271, \"Test\": 40}, {\"Method\": 83, \"Test\": 145}, {\"Method\": 83, \"Test\": 65}, {\"Method\": 34, \"Test\": 24}, {\"Method\": 34, \"Test\": 46}, {\"Method\": 36, \"Test\": 101}, {\"Method\": 103, \"Test\": 61}, {\"Method\": 16, \"Test\": 15}, {\"Method\": 29, \"Test\": 118}, {\"Method\": 19, \"Test\": 227}, {\"Method\": 350, \"Test\": 13}, {\"Method\": 20, \"Test\": 39}, {\"Method\": 31, \"Test\": 71}, {\"Method\": 10, \"Test\": 24}, {\"Method\": 93, \"Test\": 179}, {\"Method\": 35, \"Test\": 22}, {\"Method\": 235, \"Test\": 19}, {\"Method\": 227, \"Test\": 43}, {\"Method\": 21, \"Test\": 42}, {\"Method\": 24, \"Test\": 60}, {\"Method\": 106, \"Test\": 83}, {\"Method\": 12, \"Test\": 124}, {\"Method\": 177, \"Test\": 135}, {\"Method\": 29, \"Test\": 33}, {\"Method\": 39, \"Test\": 73}, {\"Method\": 39, \"Test\": 71}, {\"Method\": 18, \"Test\": 33}, {\"Method\": 71, \"Test\": 32}, {\"Method\": 16, \"Test\": 28}, {\"Method\": 52, \"Test\": 547}, {\"Method\": 27, \"Test\": 17}, {\"Method\": 25, \"Test\": 300}, {\"Method\": 92, \"Test\": 78}, {\"Method\": 26, \"Test\": 437}, {\"Method\": 61, \"Test\": 166}, {\"Method\": 35, \"Test\": 297}, {\"Method\": 259, \"Test\": 51}, {\"Method\": 100, \"Test\": 116}, {\"Method\": 102, \"Test\": 131}, {\"Method\": 47, \"Test\": 20}, {\"Method\": 14, \"Test\": 21}, {\"Method\": 136, \"Test\": 90}, {\"Method\": 32, \"Test\": 59}, {\"Method\": 86, \"Test\": 59}, {\"Method\": 93, \"Test\": 33}, {\"Method\": 1076, \"Test\": 74}, {\"Method\": 38, \"Test\": 72}, {\"Method\": 53, \"Test\": 99}, {\"Method\": 19, \"Test\": 47}, {\"Method\": 52, \"Test\": 51}, {\"Method\": 59, \"Test\": 93}, {\"Method\": 121, \"Test\": 78}, {\"Method\": 340, \"Test\": 57}, {\"Method\": 15, \"Test\": 24}, {\"Method\": 135, \"Test\": 338}, {\"Method\": 31, \"Test\": 44}, {\"Method\": 220, \"Test\": 88}, {\"Method\": 41, \"Test\": 70}, {\"Method\": 36, \"Test\": 140}, {\"Method\": 30, \"Test\": 85}, {\"Method\": 25, \"Test\": 46}, {\"Method\": 27, \"Test\": 51}, {\"Method\": 107, \"Test\": 54}, {\"Method\": 34, \"Test\": 43}, {\"Method\": 129, \"Test\": 44}, {\"Method\": 43, \"Test\": 74}, {\"Method\": 67, \"Test\": 78}, {\"Method\": 46, \"Test\": 30}, {\"Method\": 41, \"Test\": 44}, {\"Method\": 112, \"Test\": 66}, {\"Method\": 246, \"Test\": 29}, {\"Method\": 198, \"Test\": 36}, {\"Method\": 72, \"Test\": 153}, {\"Method\": 151, \"Test\": 40}, {\"Method\": 102, \"Test\": 138}, {\"Method\": 38, \"Test\": 60}, {\"Method\": 110, \"Test\": 143}, {\"Method\": 19, \"Test\": 44}, {\"Method\": 15, \"Test\": 45}, {\"Method\": 114, \"Test\": 24}, {\"Method\": 10, \"Test\": 30}, {\"Method\": 110, \"Test\": 62}, {\"Method\": 28, \"Test\": 43}, {\"Method\": 10, \"Test\": 19}, {\"Method\": 47, \"Test\": 79}, {\"Method\": 31, \"Test\": 52}, {\"Method\": 156, \"Test\": 66}, {\"Method\": 39, \"Test\": 66}, {\"Method\": 26, \"Test\": 63}, {\"Method\": 31, \"Test\": 56}, {\"Method\": 18, \"Test\": 23}, {\"Method\": 118, \"Test\": 73}, {\"Method\": 18, \"Test\": 48}, {\"Method\": 29, \"Test\": 86}, {\"Method\": 185, \"Test\": 53}, {\"Method\": 22, \"Test\": 71}, {\"Method\": 35, \"Test\": 73}, {\"Method\": 311, \"Test\": 361}, {\"Method\": 217, \"Test\": 64}, {\"Method\": 71, \"Test\": 73}, {\"Method\": 18, \"Test\": 35}, {\"Method\": 270, \"Test\": 225}, {\"Method\": 16, \"Test\": 26}, {\"Method\": 119, \"Test\": 72}, {\"Method\": 47, \"Test\": 22}, {\"Method\": 54, \"Test\": 74}, {\"Method\": 98, \"Test\": 103}, {\"Method\": 38, \"Test\": 363}, {\"Method\": 37, \"Test\": 71}, {\"Method\": 16, \"Test\": 25}, {\"Method\": 118, \"Test\": 365}, {\"Method\": 51, \"Test\": 301}, {\"Method\": 210, \"Test\": 156}, {\"Method\": 22, \"Test\": 35}, {\"Method\": 22, \"Test\": 133}, {\"Method\": 176, \"Test\": 51}, {\"Method\": 60, \"Test\": 43}, {\"Method\": 21, \"Test\": 47}, {\"Method\": 61, \"Test\": 188}, {\"Method\": 68, \"Test\": 94}, {\"Method\": 17, \"Test\": 242}, {\"Method\": 10, \"Test\": 19}, {\"Method\": 46, \"Test\": 168}, {\"Method\": 136, \"Test\": 61}, {\"Method\": 37, \"Test\": 163}, {\"Method\": 153, \"Test\": 94}, {\"Method\": 112, \"Test\": 174}, {\"Method\": 31, \"Test\": 299}, {\"Method\": 22, \"Test\": 57}, {\"Method\": 99, \"Test\": 78}, {\"Method\": 169, \"Test\": 26}, {\"Method\": 40, \"Test\": 59}, {\"Method\": 32, \"Test\": 32}, {\"Method\": 19, \"Test\": 68}, {\"Method\": 1108, \"Test\": 181}, {\"Method\": 170, \"Test\": 193}, {\"Method\": 47, \"Test\": 130}, {\"Method\": 51, \"Test\": 41}, {\"Method\": 90, \"Test\": 244}, {\"Method\": 53, \"Test\": 74}, {\"Method\": 127, \"Test\": 32}, {\"Method\": 76, \"Test\": 232}, {\"Method\": 116, \"Test\": 27}, {\"Method\": 306, \"Test\": 314}, {\"Method\": 18, \"Test\": 22}, {\"Method\": 20, \"Test\": 92}, {\"Method\": 72, \"Test\": 33}, {\"Method\": 68, \"Test\": 66}, {\"Method\": 29, \"Test\": 71}, {\"Method\": 28, \"Test\": 39}, {\"Method\": 297, \"Test\": 147}, {\"Method\": 26, \"Test\": 207}, {\"Method\": 38, \"Test\": 58}, {\"Method\": 23, \"Test\": 67}, {\"Method\": 20, \"Test\": 69}, {\"Method\": 92, \"Test\": 210}, {\"Method\": 775, \"Test\": 259}, {\"Method\": 446, \"Test\": 115}, {\"Method\": 40, \"Test\": 92}, {\"Method\": 30, \"Test\": 529}, {\"Method\": 51, \"Test\": 90}, {\"Method\": 141, \"Test\": 53}, {\"Method\": 21, \"Test\": 44}, {\"Method\": 28, \"Test\": 26}, {\"Method\": 105, \"Test\": 51}, {\"Method\": 21, \"Test\": 40}, {\"Method\": 37, \"Test\": 188}, {\"Method\": 51, \"Test\": 51}, {\"Method\": 29, \"Test\": 114}, {\"Method\": 46, \"Test\": 70}, {\"Method\": 216, \"Test\": 100}, {\"Method\": 214, \"Test\": 73}, {\"Method\": 62, \"Test\": 98}, {\"Method\": 17, \"Test\": 26}, {\"Method\": 58, \"Test\": 37}, {\"Method\": 27, \"Test\": 19}, {\"Method\": 101, \"Test\": 36}, {\"Method\": 34, \"Test\": 33}, {\"Method\": 31, \"Test\": 97}, {\"Method\": 148, \"Test\": 142}, {\"Method\": 56, \"Test\": 54}, {\"Method\": 69, \"Test\": 45}, {\"Method\": 86, \"Test\": 181}, {\"Method\": 18, \"Test\": 8}, {\"Method\": 36, \"Test\": 141}, {\"Method\": 22, \"Test\": 48}, {\"Method\": 30, \"Test\": 93}, {\"Method\": 64, \"Test\": 61}, {\"Method\": 285, \"Test\": 295}, {\"Method\": 63, \"Test\": 18}, {\"Method\": 62, \"Test\": 155}, {\"Method\": 19, \"Test\": 30}, {\"Method\": 96, \"Test\": 15}, {\"Method\": 30, \"Test\": 62}, {\"Method\": 58, \"Test\": 66}, {\"Method\": 39, \"Test\": 69}, {\"Method\": 249, \"Test\": 55}, {\"Method\": 128, \"Test\": 23}, {\"Method\": 147, \"Test\": 252}, {\"Method\": 264, \"Test\": 345}, {\"Method\": 79, \"Test\": 82}, {\"Method\": 104, \"Test\": 109}, {\"Method\": 17, \"Test\": 44}, {\"Method\": 83, \"Test\": 39}, {\"Method\": 46, \"Test\": 204}, {\"Method\": 20, \"Test\": 62}, {\"Method\": 30, \"Test\": 46}, {\"Method\": 25, \"Test\": 68}, {\"Method\": 26, \"Test\": 17}, {\"Method\": 14, \"Test\": 72}, {\"Method\": 126, \"Test\": 97}, {\"Method\": 41, \"Test\": 317}, {\"Method\": 149, \"Test\": 105}, {\"Method\": 318, \"Test\": 48}, {\"Method\": 27, \"Test\": 17}, {\"Method\": 25, \"Test\": 60}, {\"Method\": 16, \"Test\": 102}, {\"Method\": 83, \"Test\": 45}, {\"Method\": 61, \"Test\": 150}, {\"Method\": 13, \"Test\": 32}, {\"Method\": 258, \"Test\": 116}, {\"Method\": 23, \"Test\": 43}, {\"Method\": 33, \"Test\": 105}, {\"Method\": 24, \"Test\": 24}, {\"Method\": 17, \"Test\": 93}, {\"Method\": 434, \"Test\": 141}, {\"Method\": 13, \"Test\": 129}, {\"Method\": 127, \"Test\": 108}, {\"Method\": 13, \"Test\": 145}, {\"Method\": 209, \"Test\": 88}, {\"Method\": 750, \"Test\": 97}, {\"Method\": 67, \"Test\": 126}, {\"Method\": 317, \"Test\": 215}, {\"Method\": 66, \"Test\": 20}, {\"Method\": 248, \"Test\": 10}, {\"Method\": 94, \"Test\": 56}, {\"Method\": 863, \"Test\": 88}, {\"Method\": 14, \"Test\": 24}, {\"Method\": 20, \"Test\": 52}, {\"Method\": 55, \"Test\": 51}, {\"Method\": 200, \"Test\": 59}, {\"Method\": 74, \"Test\": 66}, {\"Method\": 22, \"Test\": 88}, {\"Method\": 32, \"Test\": 94}, {\"Method\": 29, \"Test\": 77}, {\"Method\": 43, \"Test\": 60}, {\"Method\": 193, \"Test\": 129}, {\"Method\": 10, \"Test\": 31}, {\"Method\": 119, \"Test\": 255}, {\"Method\": 17, \"Test\": 66}, {\"Method\": 250, \"Test\": 104}, {\"Method\": 93, \"Test\": 98}, {\"Method\": 149, \"Test\": 119}, {\"Method\": 128, \"Test\": 208}, {\"Method\": 60, \"Test\": 74}, {\"Method\": 15, \"Test\": 100}, {\"Method\": 36, \"Test\": 16}, {\"Method\": 332, \"Test\": 165}, {\"Method\": 16, \"Test\": 19}, {\"Method\": 42, \"Test\": 103}, {\"Method\": 23, \"Test\": 114}, {\"Method\": 104, \"Test\": 146}, {\"Method\": 28, \"Test\": 24}, {\"Method\": 31, \"Test\": 65}, {\"Method\": 19, \"Test\": 94}, {\"Method\": 13, \"Test\": 24}, {\"Method\": 57, \"Test\": 14}, {\"Method\": 24, \"Test\": 53}, {\"Method\": 6, \"Test\": 26}, {\"Method\": 51, \"Test\": 32}, {\"Method\": 78, \"Test\": 67}, {\"Method\": 60, \"Test\": 67}, {\"Method\": 240, \"Test\": 59}, {\"Method\": 72, \"Test\": 28}, {\"Method\": 18, \"Test\": 33}, {\"Method\": 289, \"Test\": 68}, {\"Method\": 13, \"Test\": 27}, {\"Method\": 17, \"Test\": 33}, {\"Method\": 26, \"Test\": 85}, {\"Method\": 52, \"Test\": 54}, {\"Method\": 43, \"Test\": 35}, {\"Method\": 60, \"Test\": 64}, {\"Method\": 36, \"Test\": 55}, {\"Method\": 149, \"Test\": 135}, {\"Method\": 1166, \"Test\": 154}, {\"Method\": 104, \"Test\": 28}, {\"Method\": 123, \"Test\": 25}, {\"Method\": 58, \"Test\": 27}, {\"Method\": 28, \"Test\": 244}, {\"Method\": 28, \"Test\": 41}, {\"Method\": 54, \"Test\": 110}, {\"Method\": 54, \"Test\": 72}, {\"Method\": 64, \"Test\": 40}, {\"Method\": 28, \"Test\": 80}, {\"Method\": 91, \"Test\": 274}, {\"Method\": 25, \"Test\": 144}, {\"Method\": 53, \"Test\": 72}, {\"Method\": 93, \"Test\": 92}, {\"Method\": 249, \"Test\": 168}, {\"Method\": 199, \"Test\": 53}, {\"Method\": 111, \"Test\": 20}, {\"Method\": 104, \"Test\": 282}, {\"Method\": 48, \"Test\": 31}, {\"Method\": 144, \"Test\": 96}, {\"Method\": 24, \"Test\": 35}, {\"Method\": 176, \"Test\": 26}, {\"Method\": 17, \"Test\": 40}, {\"Method\": 85, \"Test\": 153}, {\"Method\": 246, \"Test\": 138}, {\"Method\": 96, \"Test\": 150}, {\"Method\": 331, \"Test\": 34}, {\"Method\": 81, \"Test\": 67}, {\"Method\": 13, \"Test\": 43}, {\"Method\": 37, \"Test\": 24}, {\"Method\": 27, \"Test\": 112}, {\"Method\": 104, \"Test\": 85}, {\"Method\": 10, \"Test\": 56}, {\"Method\": 125, \"Test\": 47}, {\"Method\": 119, \"Test\": 35}, {\"Method\": 256, \"Test\": 73}, {\"Method\": 13, \"Test\": 104}, {\"Method\": 64, \"Test\": 59}, {\"Method\": 15, \"Test\": 75}, {\"Method\": 1162, \"Test\": 104}, {\"Method\": 46, \"Test\": 197}, {\"Method\": 68, \"Test\": 27}, {\"Method\": 34, \"Test\": 150}, {\"Method\": 89, \"Test\": 96}, {\"Method\": 39, \"Test\": 122}, {\"Method\": 408, \"Test\": 73}, {\"Method\": 10, \"Test\": 36}, {\"Method\": 152, \"Test\": 204}, {\"Method\": 10, \"Test\": 49}, {\"Method\": 320, \"Test\": 71}, {\"Method\": 27, \"Test\": 76}, {\"Method\": 57, \"Test\": 116}, {\"Method\": 29, \"Test\": 296}, {\"Method\": 106, \"Test\": 72}, {\"Method\": 98, \"Test\": 390}, {\"Method\": 50, \"Test\": 89}, {\"Method\": 23, \"Test\": 41}, {\"Method\": 72, \"Test\": 109}, {\"Method\": 67, \"Test\": 120}, {\"Method\": 15, \"Test\": 30}, {\"Method\": 15, \"Test\": 58}, {\"Method\": 126, \"Test\": 71}, {\"Method\": 128, \"Test\": 176}, {\"Method\": 568, \"Test\": 110}, {\"Method\": 30, \"Test\": 37}, {\"Method\": 72, \"Test\": 30}, {\"Method\": 144, \"Test\": 57}, {\"Method\": 10, \"Test\": 62}, {\"Method\": 45, \"Test\": 245}, {\"Method\": 57, \"Test\": 47}, {\"Method\": 198, \"Test\": 121}, {\"Method\": 107, \"Test\": 31}, {\"Method\": 22, \"Test\": 95}, {\"Method\": 17, \"Test\": 38}, {\"Method\": 190, \"Test\": 39}, {\"Method\": 21, \"Test\": 99}, {\"Method\": 23, \"Test\": 220}, {\"Method\": 72, \"Test\": 69}, {\"Method\": 409, \"Test\": 808}, {\"Method\": 48, \"Test\": 104}, {\"Method\": 9, \"Test\": 30}, {\"Method\": 145, \"Test\": 37}, {\"Method\": 54, \"Test\": 62}, {\"Method\": 72, \"Test\": 81}, {\"Method\": 44, \"Test\": 72}, {\"Method\": 64, \"Test\": 47}, {\"Method\": 19, \"Test\": 30}, {\"Method\": 30, \"Test\": 15}, {\"Method\": 24, \"Test\": 38}, {\"Method\": 68, \"Test\": 69}, {\"Method\": 117, \"Test\": 44}, {\"Method\": 101, \"Test\": 180}, {\"Method\": 22, \"Test\": 52}, {\"Method\": 382, \"Test\": 66}, {\"Method\": 101, \"Test\": 236}, {\"Method\": 109, \"Test\": 94}, {\"Method\": 375, \"Test\": 30}, {\"Method\": 403, \"Test\": 111}, {\"Method\": 184, \"Test\": 177}, {\"Method\": 144, \"Test\": 928}, {\"Method\": 123, \"Test\": 34}, {\"Method\": 107, \"Test\": 56}, {\"Method\": 109, \"Test\": 56}, {\"Method\": 421, \"Test\": 62}, {\"Method\": 88, \"Test\": 87}, {\"Method\": 12, \"Test\": 26}, {\"Method\": 16, \"Test\": 59}, {\"Method\": 18, \"Test\": 98}, {\"Method\": 168, \"Test\": 79}, {\"Method\": 69, \"Test\": 33}, {\"Method\": 293, \"Test\": 25}, {\"Method\": 113, \"Test\": 49}, {\"Method\": 31, \"Test\": 85}, {\"Method\": 18, \"Test\": 39}, {\"Method\": 130, \"Test\": 56}, {\"Method\": 51, \"Test\": 75}, {\"Method\": 145, \"Test\": 339}, {\"Method\": 389, \"Test\": 394}, {\"Method\": 782, \"Test\": 285}, {\"Method\": 10, \"Test\": 120}, {\"Method\": 34, \"Test\": 63}, {\"Method\": 18, \"Test\": 34}, {\"Method\": 18, \"Test\": 59}, {\"Method\": 71, \"Test\": 96}, {\"Method\": 29, \"Test\": 194}, {\"Method\": 59, \"Test\": 55}, {\"Method\": 30, \"Test\": 56}, {\"Method\": 95, \"Test\": 180}, {\"Method\": 355, \"Test\": 146}, {\"Method\": 106, \"Test\": 93}, {\"Method\": 31, \"Test\": 23}, {\"Method\": 19, \"Test\": 158}, {\"Method\": 17, \"Test\": 61}, {\"Method\": 124, \"Test\": 45}, {\"Method\": 93, \"Test\": 78}, {\"Method\": 164, \"Test\": 151}, {\"Method\": 65, \"Test\": 82}, {\"Method\": 185, \"Test\": 28}, {\"Method\": 90, \"Test\": 40}, {\"Method\": 103, \"Test\": 167}, {\"Method\": 54, \"Test\": 67}, {\"Method\": 54, \"Test\": 66}, {\"Method\": 390, \"Test\": 41}, {\"Method\": 91, \"Test\": 48}, {\"Method\": 57, \"Test\": 132}, {\"Method\": 152, \"Test\": 59}, {\"Method\": 41, \"Test\": 80}, {\"Method\": 18, \"Test\": 19}, {\"Method\": 19, \"Test\": 72}, {\"Method\": 19, \"Test\": 28}, {\"Method\": 65, \"Test\": 49}, {\"Method\": 54, \"Test\": 758}, {\"Method\": 140, \"Test\": 61}, {\"Method\": 22, \"Test\": 42}, {\"Method\": 14, \"Test\": 211}, {\"Method\": 118, \"Test\": 37}, {\"Method\": 17, \"Test\": 20}, {\"Method\": 14, \"Test\": 45}, {\"Method\": 309, \"Test\": 24}, {\"Method\": 28, \"Test\": 103}, {\"Method\": 29, \"Test\": 58}, {\"Method\": 20, \"Test\": 113}, {\"Method\": 10, \"Test\": 26}, {\"Method\": 142, \"Test\": 287}, {\"Method\": 105, \"Test\": 135}, {\"Method\": 14, \"Test\": 53}, {\"Method\": 25, \"Test\": 77}, {\"Method\": 606, \"Test\": 150}, {\"Method\": 192, \"Test\": 40}, {\"Method\": 22, \"Test\": 154}, {\"Method\": 575, \"Test\": 75}, {\"Method\": 108, \"Test\": 78}, {\"Method\": 99, \"Test\": 130}, {\"Method\": 16, \"Test\": 18}, {\"Method\": 28, \"Test\": 42}, {\"Method\": 213, \"Test\": 510}, {\"Method\": 59, \"Test\": 147}, {\"Method\": 57, \"Test\": 57}, {\"Method\": 133, \"Test\": 56}, {\"Method\": 292, \"Test\": 282}, {\"Method\": 32, \"Test\": 46}, {\"Method\": 129, \"Test\": 82}, {\"Method\": 32, \"Test\": 103}, {\"Method\": 126, \"Test\": 355}, {\"Method\": 237, \"Test\": 115}, {\"Method\": 44, \"Test\": 34}, {\"Method\": 154, \"Test\": 120}, {\"Method\": 46, \"Test\": 57}, {\"Method\": 10, \"Test\": 54}, {\"Method\": 10, \"Test\": 95}, {\"Method\": 31, \"Test\": 79}, {\"Method\": 289, \"Test\": 79}, {\"Method\": 15, \"Test\": 29}, {\"Method\": 22, \"Test\": 76}, {\"Method\": 11, \"Test\": 165}, {\"Method\": 10, \"Test\": 32}, {\"Method\": 183, \"Test\": 58}, {\"Method\": 18, \"Test\": 91}, {\"Method\": 144, \"Test\": 24}, {\"Method\": 52, \"Test\": 66}, {\"Method\": 325, \"Test\": 73}, {\"Method\": 290, \"Test\": 91}, {\"Method\": 40, \"Test\": 52}, {\"Method\": 98, \"Test\": 433}, {\"Method\": 19, \"Test\": 44}, {\"Method\": 23, \"Test\": 45}, {\"Method\": 18, \"Test\": 32}, {\"Method\": 28, \"Test\": 77}, {\"Method\": 10, \"Test\": 75}, {\"Method\": 20, \"Test\": 115}, {\"Method\": 54, \"Test\": 172}, {\"Method\": 126, \"Test\": 124}, {\"Method\": 45, \"Test\": 55}, {\"Method\": 57, \"Test\": 74}, {\"Method\": 50, \"Test\": 195}, {\"Method\": 27, \"Test\": 106}, {\"Method\": 177, \"Test\": 127}, {\"Method\": 26, \"Test\": 36}, {\"Method\": 17, \"Test\": 34}, {\"Method\": 169, \"Test\": 134}, {\"Method\": 45, \"Test\": 65}, {\"Method\": 16, \"Test\": 20}, {\"Method\": 19, \"Test\": 63}, {\"Method\": 20, \"Test\": 52}, {\"Method\": 87, \"Test\": 50}, {\"Method\": 132, \"Test\": 21}, {\"Method\": 254, \"Test\": 169}, {\"Method\": 171, \"Test\": 205}, {\"Method\": 13, \"Test\": 24}, {\"Method\": 27, \"Test\": 19}, {\"Method\": 113, \"Test\": 48}, {\"Method\": 22, \"Test\": 59}, {\"Method\": 410, \"Test\": 69}, {\"Method\": 97, \"Test\": 67}, {\"Method\": 135, \"Test\": 74}, {\"Method\": 49, \"Test\": 114}, {\"Method\": 210, \"Test\": 96}, {\"Method\": 19, \"Test\": 126}, {\"Method\": 257, \"Test\": 115}, {\"Method\": 925, \"Test\": 729}, {\"Method\": 117, \"Test\": 78}, {\"Method\": 199, \"Test\": 38}, {\"Method\": 10, \"Test\": 19}, {\"Method\": 21, \"Test\": 506}, {\"Method\": 20, \"Test\": 27}, {\"Method\": 12, \"Test\": 35}, {\"Method\": 82, \"Test\": 46}, {\"Method\": 378, \"Test\": 19}, {\"Method\": 24, \"Test\": 115}, {\"Method\": 125, \"Test\": 116}, {\"Method\": 47, \"Test\": 23}, {\"Method\": 74, \"Test\": 19}, {\"Method\": 50, \"Test\": 53}, {\"Method\": 25, \"Test\": 58}, {\"Method\": 50, \"Test\": 54}, {\"Method\": 328, \"Test\": 78}, {\"Method\": 146, \"Test\": 56}, {\"Method\": 108, \"Test\": 116}, {\"Method\": 33, \"Test\": 491}, {\"Method\": 15, \"Test\": 45}, {\"Method\": 70, \"Test\": 40}, {\"Method\": 51, \"Test\": 80}, {\"Method\": 273, \"Test\": 162}, {\"Method\": 23, \"Test\": 80}, {\"Method\": 34, \"Test\": 17}, {\"Method\": 188, \"Test\": 70}, {\"Method\": 370, \"Test\": 203}, {\"Method\": 110, \"Test\": 138}, {\"Method\": 51, \"Test\": 23}, {\"Method\": 279, \"Test\": 193}, {\"Method\": 30, \"Test\": 42}, {\"Method\": 18, \"Test\": 114}, {\"Method\": 63, \"Test\": 68}, {\"Method\": 145, \"Test\": 23}, {\"Method\": 90, \"Test\": 28}, {\"Method\": 17, \"Test\": 64}, {\"Method\": 144, \"Test\": 59}, {\"Method\": 206, \"Test\": 332}, {\"Method\": 83, \"Test\": 98}, {\"Method\": 24, \"Test\": 54}, {\"Method\": 218, \"Test\": 77}, {\"Method\": 14, \"Test\": 62}, {\"Method\": 15, \"Test\": 31}, {\"Method\": 34, \"Test\": 50}, {\"Method\": 43, \"Test\": 53}, {\"Method\": 27, \"Test\": 45}, {\"Method\": 42, \"Test\": 226}, {\"Method\": 23, \"Test\": 139}, {\"Method\": 26, \"Test\": 68}, {\"Method\": 21, \"Test\": 24}, {\"Method\": 448, \"Test\": 66}, {\"Method\": 342, \"Test\": 26}, {\"Method\": 104, \"Test\": 443}, {\"Method\": 79, \"Test\": 71}, {\"Method\": 57, \"Test\": 136}, {\"Method\": 432, \"Test\": 156}, {\"Method\": 179, \"Test\": 134}, {\"Method\": 39, \"Test\": 53}, {\"Method\": 16, \"Test\": 67}, {\"Method\": 129, \"Test\": 247}, {\"Method\": 9, \"Test\": 41}, {\"Method\": 66, \"Test\": 105}, {\"Method\": 93, \"Test\": 54}, {\"Method\": 161, \"Test\": 41}, {\"Method\": 18, \"Test\": 68}, {\"Method\": 30, \"Test\": 46}, {\"Method\": 85, \"Test\": 316}, {\"Method\": 51, \"Test\": 68}, {\"Method\": 251, \"Test\": 54}, {\"Method\": 73, \"Test\": 167}, {\"Method\": 56, \"Test\": 88}, {\"Method\": 49, \"Test\": 46}, {\"Method\": 114, \"Test\": 28}, {\"Method\": 1230, \"Test\": 103}, {\"Method\": 43, \"Test\": 142}, {\"Method\": 17, \"Test\": 55}, {\"Method\": 15, \"Test\": 52}, {\"Method\": 28, \"Test\": 57}, {\"Method\": 132, \"Test\": 197}, {\"Method\": 68, \"Test\": 56}, {\"Method\": 81, \"Test\": 108}, {\"Method\": 38, \"Test\": 185}, {\"Method\": 85, \"Test\": 64}, {\"Method\": 40, \"Test\": 103}, {\"Method\": 28, \"Test\": 23}, {\"Method\": 1669, \"Test\": 196}, {\"Method\": 55, \"Test\": 53}, {\"Method\": 17, \"Test\": 44}, {\"Method\": 13, \"Test\": 25}, {\"Method\": 136, \"Test\": 65}, {\"Method\": 130, \"Test\": 228}, {\"Method\": 25, \"Test\": 83}, {\"Method\": 10, \"Test\": 31}, {\"Method\": 76, \"Test\": 204}, {\"Method\": 233, \"Test\": 80}, {\"Method\": 114, \"Test\": 32}, {\"Method\": 37, \"Test\": 46}, {\"Method\": 23, \"Test\": 28}, {\"Method\": 51, \"Test\": 214}, {\"Method\": 18, \"Test\": 8}, {\"Method\": 27, \"Test\": 50}, {\"Method\": 28, \"Test\": 27}, {\"Method\": 159, \"Test\": 199}, {\"Method\": 49, \"Test\": 100}, {\"Method\": 18, \"Test\": 74}, {\"Method\": 110, \"Test\": 57}, {\"Method\": 17, \"Test\": 55}, {\"Method\": 129, \"Test\": 530}, {\"Method\": 616, \"Test\": 86}, {\"Method\": 46, \"Test\": 129}, {\"Method\": 103, \"Test\": 136}, {\"Method\": 59, \"Test\": 179}, {\"Method\": 213, \"Test\": 304}, {\"Method\": 393, \"Test\": 79}, {\"Method\": 13, \"Test\": 164}, {\"Method\": 20, \"Test\": 35}, {\"Method\": 89, \"Test\": 169}, {\"Method\": 70, \"Test\": 96}, {\"Method\": 155, \"Test\": 235}, {\"Method\": 281, \"Test\": 78}, {\"Method\": 14, \"Test\": 52}, {\"Method\": 77, \"Test\": 107}, {\"Method\": 31, \"Test\": 31}, {\"Method\": 61, \"Test\": 50}, {\"Method\": 117, \"Test\": 110}, {\"Method\": 240, \"Test\": 30}, {\"Method\": 40, \"Test\": 61}, {\"Method\": 102, \"Test\": 39}, {\"Method\": 224, \"Test\": 108}, {\"Method\": 30, \"Test\": 202}, {\"Method\": 145, \"Test\": 189}, {\"Method\": 14, \"Test\": 26}, {\"Method\": 51, \"Test\": 88}, {\"Method\": 27, \"Test\": 204}, {\"Method\": 19, \"Test\": 40}, {\"Method\": 62, \"Test\": 15}, {\"Method\": 138, \"Test\": 38}, {\"Method\": 56, \"Test\": 112}, {\"Method\": 70, \"Test\": 53}, {\"Method\": 13, \"Test\": 14}, {\"Method\": 28, \"Test\": 45}, {\"Method\": 21, \"Test\": 45}, {\"Method\": 15, \"Test\": 30}, {\"Method\": 148, \"Test\": 107}, {\"Method\": 50, \"Test\": 40}, {\"Method\": 7, \"Test\": 48}, {\"Method\": 121, \"Test\": 97}, {\"Method\": 38, \"Test\": 28}, {\"Method\": 20, \"Test\": 122}, {\"Method\": 19, \"Test\": 34}, {\"Method\": 69, \"Test\": 120}, {\"Method\": 19, \"Test\": 58}, {\"Method\": 17, \"Test\": 25}, {\"Method\": 17, \"Test\": 282}, {\"Method\": 17, \"Test\": 114}, {\"Method\": 45, \"Test\": 157}, {\"Method\": 14, \"Test\": 23}, {\"Method\": 23, \"Test\": 35}, {\"Method\": 11, \"Test\": 42}, {\"Method\": 17, \"Test\": 79}, {\"Method\": 34, \"Test\": 79}, {\"Method\": 25, \"Test\": 34}, {\"Method\": 156, \"Test\": 62}, {\"Method\": 26, \"Test\": 25}, {\"Method\": 130, \"Test\": 35}, {\"Method\": 42, \"Test\": 22}, {\"Method\": 37, \"Test\": 108}, {\"Method\": 35, \"Test\": 106}, {\"Method\": 65, \"Test\": 96}, {\"Method\": 13, \"Test\": 37}, {\"Method\": 11, \"Test\": 153}, {\"Method\": 40, \"Test\": 49}, {\"Method\": 52, \"Test\": 49}, {\"Method\": 31, \"Test\": 123}, {\"Method\": 10, \"Test\": 38}, {\"Method\": 186, \"Test\": 60}, {\"Method\": 113, \"Test\": 62}, {\"Method\": 125, \"Test\": 23}, {\"Method\": 97, \"Test\": 421}, {\"Method\": 64, \"Test\": 84}, {\"Method\": 83, \"Test\": 46}, {\"Method\": 81, \"Test\": 33}, {\"Method\": 75, \"Test\": 70}, {\"Method\": 25, \"Test\": 58}, {\"Method\": 10, \"Test\": 40}, {\"Method\": 373, \"Test\": 45}, {\"Method\": 108, \"Test\": 16}, {\"Method\": 92, \"Test\": 214}, {\"Method\": 28, \"Test\": 26}, {\"Method\": 18, \"Test\": 33}, {\"Method\": 18, \"Test\": 36}, {\"Method\": 137, \"Test\": 435}, {\"Method\": 157, \"Test\": 20}, {\"Method\": 150, \"Test\": 278}, {\"Method\": 19, \"Test\": 116}, {\"Method\": 154, \"Test\": 122}, {\"Method\": 119, \"Test\": 36}, {\"Method\": 468, \"Test\": 191}, {\"Method\": 26, \"Test\": 202}]}}, {\"mode\": \"vega-lite\"});\n",
       "</script>"
      ],
      "text/plain": [
       "alt.Chart(...)"
      ]
     },
     "metadata": {},
     "output_type": "display_data"
    }
   ],
   "source": [
    "# Histogram of the length of the methods and tests:\n",
    "\n",
    "import pandas as pd\n",
    "import altair as alt\n",
    "\n",
    "# Generating Data\n",
    "length_of_sentences = pd.DataFrame({\n",
    "    'Method': [len(sen) for sen in input_integer_seq ],\n",
    "    'Test'  : [len(sen) for sen in output_integer_seq],\n",
    "})\n",
    "\n",
    "\n",
    "alt.data_transformers.disable_max_rows()\n",
    "\n",
    "Method = alt.Chart(length_of_sentences).mark_bar().encode(\n",
    "    alt.X('Method:Q', bin=alt.Bin(maxbins=200, step=35)),\n",
    "    alt.Y('count()', stack=None),\n",
    ").properties(\n",
    "    width=700,\n",
    "    height=300\n",
    ")\n",
    "display(Method)\n",
    "\n",
    "Test = alt.Chart(length_of_sentences).mark_bar().encode(\n",
    "    alt.X('Test:Q', bin=alt.Bin(maxbins=200, step=30)),\n",
    "    alt.Y('count()', stack=None),\n",
    ").properties(\n",
    "    width=700,\n",
    "    height=300\n",
    ")\n",
    "display(Test)"
   ]
  },
  {
   "cell_type": "code",
   "execution_count": 32,
   "metadata": {},
   "outputs": [
    {
     "data": {
      "text/html": [
       "\n",
       "<div id=\"altair-viz-d3d1704b731a427591912b2e5d18a99f\"></div>\n",
       "<script type=\"text/javascript\">\n",
       "  (function(spec, embedOpt){\n",
       "    let outputDiv = document.currentScript.previousElementSibling;\n",
       "    if (outputDiv.id !== \"altair-viz-d3d1704b731a427591912b2e5d18a99f\") {\n",
       "      outputDiv = document.getElementById(\"altair-viz-d3d1704b731a427591912b2e5d18a99f\");\n",
       "    }\n",
       "    const paths = {\n",
       "      \"vega\": \"https://cdn.jsdelivr.net/npm//vega@5?noext\",\n",
       "      \"vega-lib\": \"https://cdn.jsdelivr.net/npm//vega-lib?noext\",\n",
       "      \"vega-lite\": \"https://cdn.jsdelivr.net/npm//vega-lite@4.8.1?noext\",\n",
       "      \"vega-embed\": \"https://cdn.jsdelivr.net/npm//vega-embed@6?noext\",\n",
       "    };\n",
       "\n",
       "    function loadScript(lib) {\n",
       "      return new Promise(function(resolve, reject) {\n",
       "        var s = document.createElement('script');\n",
       "        s.src = paths[lib];\n",
       "        s.async = true;\n",
       "        s.onload = () => resolve(paths[lib]);\n",
       "        s.onerror = () => reject(`Error loading script: ${paths[lib]}`);\n",
       "        document.getElementsByTagName(\"head\")[0].appendChild(s);\n",
       "      });\n",
       "    }\n",
       "\n",
       "    function showError(err) {\n",
       "      outputDiv.innerHTML = `<div class=\"error\" style=\"color:red;\">${err}</div>`;\n",
       "      throw err;\n",
       "    }\n",
       "\n",
       "    function displayChart(vegaEmbed) {\n",
       "      vegaEmbed(outputDiv, spec, embedOpt)\n",
       "        .catch(err => showError(`Javascript Error: ${err.message}<br>This usually means there's a typo in your chart specification. See the javascript console for the full traceback.`));\n",
       "    }\n",
       "\n",
       "    if(typeof define === \"function\" && define.amd) {\n",
       "      requirejs.config({paths});\n",
       "      require([\"vega-embed\"], displayChart, err => showError(`Error loading script: ${err.message}`));\n",
       "    } else if (typeof vegaEmbed === \"function\") {\n",
       "      displayChart(vegaEmbed);\n",
       "    } else {\n",
       "      loadScript(\"vega\")\n",
       "        .then(() => loadScript(\"vega-lite\"))\n",
       "        .then(() => loadScript(\"vega-embed\"))\n",
       "        .catch(showError)\n",
       "        .then(() => displayChart(vegaEmbed));\n",
       "    }\n",
       "  })({\"config\": {\"view\": {\"continuousWidth\": 400, \"continuousHeight\": 300}}, \"data\": {\"name\": \"data-b68d2e939271e6ce57bfd79fd937574f\"}, \"mark\": \"rect\", \"encoding\": {\"color\": {\"type\": \"quantitative\", \"aggregate\": \"count\"}, \"x\": {\"type\": \"quantitative\", \"bin\": {\"maxbins\": 200}, \"field\": \"Method\"}, \"y\": {\"type\": \"quantitative\", \"bin\": {\"maxbins\": 200}, \"field\": \"Test\"}}, \"height\": 400, \"selection\": {\"selector001\": {\"type\": \"interval\", \"bind\": \"scales\", \"encodings\": [\"x\", \"y\"]}}, \"width\": 400, \"$schema\": \"https://vega.github.io/schema/vega-lite/v4.8.1.json\", \"datasets\": {\"data-b68d2e939271e6ce57bfd79fd937574f\": [{\"Method\": 102, \"Test\": 115}, {\"Method\": 1481, \"Test\": 108}, {\"Method\": 60, \"Test\": 150}, {\"Method\": 36, \"Test\": 83}, {\"Method\": 91, \"Test\": 28}, {\"Method\": 590, \"Test\": 131}, {\"Method\": 10, \"Test\": 46}, {\"Method\": 39, \"Test\": 62}, {\"Method\": 61, \"Test\": 70}, {\"Method\": 229, \"Test\": 66}, {\"Method\": 130, \"Test\": 35}, {\"Method\": 244, \"Test\": 106}, {\"Method\": 619, \"Test\": 65}, {\"Method\": 16, \"Test\": 116}, {\"Method\": 1363, \"Test\": 121}, {\"Method\": 59, \"Test\": 84}, {\"Method\": 166, \"Test\": 112}, {\"Method\": 30, \"Test\": 36}, {\"Method\": 14, \"Test\": 22}, {\"Method\": 640, \"Test\": 93}, {\"Method\": 10, \"Test\": 40}, {\"Method\": 162, \"Test\": 21}, {\"Method\": 204, \"Test\": 96}, {\"Method\": 66, \"Test\": 65}, {\"Method\": 390, \"Test\": 95}, {\"Method\": 72, \"Test\": 46}, {\"Method\": 28, \"Test\": 81}, {\"Method\": 85, \"Test\": 47}, {\"Method\": 84, \"Test\": 62}, {\"Method\": 32, \"Test\": 93}, {\"Method\": 166, \"Test\": 46}, {\"Method\": 64, \"Test\": 37}, {\"Method\": 48, \"Test\": 15}, {\"Method\": 124, \"Test\": 100}, {\"Method\": 61, \"Test\": 50}, {\"Method\": 398, \"Test\": 43}, {\"Method\": 60, \"Test\": 8}, {\"Method\": 10, \"Test\": 58}, {\"Method\": 9, \"Test\": 48}, {\"Method\": 222, \"Test\": 116}, {\"Method\": 43, \"Test\": 29}, {\"Method\": 64, \"Test\": 85}, {\"Method\": 91, \"Test\": 137}, {\"Method\": 478, \"Test\": 84}, {\"Method\": 41, \"Test\": 150}, {\"Method\": 44, \"Test\": 86}, {\"Method\": 12, \"Test\": 23}, {\"Method\": 16, \"Test\": 52}, {\"Method\": 42, \"Test\": 32}, {\"Method\": 136, \"Test\": 35}, {\"Method\": 15, \"Test\": 42}, {\"Method\": 240, \"Test\": 81}, {\"Method\": 62, \"Test\": 44}, {\"Method\": 9, \"Test\": 29}, {\"Method\": 17, \"Test\": 33}, {\"Method\": 27, \"Test\": 33}, {\"Method\": 45, \"Test\": 71}, {\"Method\": 123, \"Test\": 125}, {\"Method\": 102, \"Test\": 187}, {\"Method\": 38, \"Test\": 507}, {\"Method\": 27, \"Test\": 43}, {\"Method\": 16, \"Test\": 18}, {\"Method\": 191, \"Test\": 102}, {\"Method\": 79, \"Test\": 136}, {\"Method\": 49, \"Test\": 128}, {\"Method\": 16, \"Test\": 42}, {\"Method\": 154, \"Test\": 60}, {\"Method\": 491, \"Test\": 486}, {\"Method\": 21, \"Test\": 29}, {\"Method\": 33, \"Test\": 35}, {\"Method\": 104, \"Test\": 62}, {\"Method\": 77, \"Test\": 162}, {\"Method\": 86, \"Test\": 162}, {\"Method\": 54, \"Test\": 33}, {\"Method\": 27, \"Test\": 178}, {\"Method\": 87, \"Test\": 129}, {\"Method\": 16, \"Test\": 46}, {\"Method\": 46, \"Test\": 217}, {\"Method\": 109, \"Test\": 100}, {\"Method\": 201, \"Test\": 641}, {\"Method\": 19, \"Test\": 63}, {\"Method\": 25, \"Test\": 35}, {\"Method\": 497, \"Test\": 32}, {\"Method\": 30, \"Test\": 35}, {\"Method\": 14, \"Test\": 95}, {\"Method\": 53, \"Test\": 97}, {\"Method\": 37, \"Test\": 61}, {\"Method\": 68, \"Test\": 112}, {\"Method\": 12, \"Test\": 22}, {\"Method\": 16, \"Test\": 102}, {\"Method\": 16, \"Test\": 45}, {\"Method\": 86, \"Test\": 23}, {\"Method\": 493, \"Test\": 131}, {\"Method\": 244, \"Test\": 134}, {\"Method\": 246, \"Test\": 261}, {\"Method\": 85, \"Test\": 281}, {\"Method\": 12, \"Test\": 20}, {\"Method\": 387, \"Test\": 248}, {\"Method\": 83, \"Test\": 92}, {\"Method\": 251, \"Test\": 121}, {\"Method\": 35, \"Test\": 31}, {\"Method\": 149, \"Test\": 62}, {\"Method\": 12, \"Test\": 28}, {\"Method\": 10, \"Test\": 37}, {\"Method\": 18, \"Test\": 315}, {\"Method\": 453, \"Test\": 17}, {\"Method\": 32, \"Test\": 29}, {\"Method\": 18, \"Test\": 45}, {\"Method\": 23, \"Test\": 19}, {\"Method\": 37, \"Test\": 19}, {\"Method\": 43, \"Test\": 20}, {\"Method\": 19, \"Test\": 43}, {\"Method\": 69, \"Test\": 13}, {\"Method\": 31, \"Test\": 20}, {\"Method\": 14, \"Test\": 38}, {\"Method\": 136, \"Test\": 368}, {\"Method\": 60, \"Test\": 42}, {\"Method\": 26, \"Test\": 38}, {\"Method\": 579, \"Test\": 877}, {\"Method\": 47, \"Test\": 60}, {\"Method\": 17, \"Test\": 37}, {\"Method\": 196, \"Test\": 373}, {\"Method\": 20, \"Test\": 101}, {\"Method\": 137, \"Test\": 57}, {\"Method\": 121, \"Test\": 79}, {\"Method\": 255, \"Test\": 46}, {\"Method\": 51, \"Test\": 22}, {\"Method\": 22, \"Test\": 127}, {\"Method\": 62, \"Test\": 133}, {\"Method\": 186, \"Test\": 63}, {\"Method\": 57, \"Test\": 44}, {\"Method\": 241, \"Test\": 763}, {\"Method\": 34, \"Test\": 23}, {\"Method\": 168, \"Test\": 69}, {\"Method\": 22, \"Test\": 49}, {\"Method\": 159, \"Test\": 101}, {\"Method\": 67, \"Test\": 283}, {\"Method\": 13, \"Test\": 16}, {\"Method\": 25, \"Test\": 45}, {\"Method\": 102, \"Test\": 40}, {\"Method\": 14, \"Test\": 54}, {\"Method\": 57, \"Test\": 43}, {\"Method\": 136, \"Test\": 118}, {\"Method\": 77, \"Test\": 136}, {\"Method\": 179, \"Test\": 47}, {\"Method\": 12, \"Test\": 36}, {\"Method\": 22, \"Test\": 36}, {\"Method\": 29, \"Test\": 42}, {\"Method\": 50, \"Test\": 72}, {\"Method\": 14, \"Test\": 32}, {\"Method\": 25, \"Test\": 95}, {\"Method\": 151, \"Test\": 199}, {\"Method\": 112, \"Test\": 81}, {\"Method\": 185, \"Test\": 106}, {\"Method\": 107, \"Test\": 65}, {\"Method\": 94, \"Test\": 132}, {\"Method\": 31, \"Test\": 76}, {\"Method\": 123, \"Test\": 32}, {\"Method\": 86, \"Test\": 72}, {\"Method\": 101, \"Test\": 44}, {\"Method\": 43, \"Test\": 15}, {\"Method\": 102, \"Test\": 46}, {\"Method\": 14, \"Test\": 31}, {\"Method\": 98, \"Test\": 70}, {\"Method\": 61, \"Test\": 96}, {\"Method\": 15, \"Test\": 44}, {\"Method\": 32, \"Test\": 77}, {\"Method\": 98, \"Test\": 45}, {\"Method\": 20, \"Test\": 38}, {\"Method\": 10, \"Test\": 19}, {\"Method\": 67, \"Test\": 149}, {\"Method\": 120, \"Test\": 38}, {\"Method\": 525, \"Test\": 100}, {\"Method\": 269, \"Test\": 56}, {\"Method\": 40, \"Test\": 39}, {\"Method\": 87, \"Test\": 452}, {\"Method\": 137, \"Test\": 172}, {\"Method\": 66, \"Test\": 150}, {\"Method\": 115, \"Test\": 52}, {\"Method\": 140, \"Test\": 20}, {\"Method\": 112, \"Test\": 99}, {\"Method\": 49, \"Test\": 281}, {\"Method\": 124, \"Test\": 35}, {\"Method\": 25, \"Test\": 51}, {\"Method\": 215, \"Test\": 189}, {\"Method\": 61, \"Test\": 51}, {\"Method\": 76, \"Test\": 56}, {\"Method\": 71, \"Test\": 264}, {\"Method\": 85, \"Test\": 710}, {\"Method\": 17, \"Test\": 59}, {\"Method\": 290, \"Test\": 128}, {\"Method\": 28, \"Test\": 81}, {\"Method\": 555, \"Test\": 123}, {\"Method\": 45, \"Test\": 179}, {\"Method\": 53, \"Test\": 141}, {\"Method\": 205, \"Test\": 743}, {\"Method\": 73, \"Test\": 68}, {\"Method\": 39, \"Test\": 45}, {\"Method\": 143, \"Test\": 31}, {\"Method\": 65, \"Test\": 50}, {\"Method\": 58, \"Test\": 101}, {\"Method\": 88, \"Test\": 110}, {\"Method\": 59, \"Test\": 60}, {\"Method\": 24, \"Test\": 47}, {\"Method\": 755, \"Test\": 40}, {\"Method\": 10, \"Test\": 154}, {\"Method\": 36, \"Test\": 25}, {\"Method\": 46, \"Test\": 27}, {\"Method\": 12, \"Test\": 33}, {\"Method\": 140, \"Test\": 137}, {\"Method\": 67, \"Test\": 35}, {\"Method\": 141, \"Test\": 84}, {\"Method\": 129, \"Test\": 110}, {\"Method\": 26, \"Test\": 27}, {\"Method\": 285, \"Test\": 68}, {\"Method\": 205, \"Test\": 120}, {\"Method\": 101, \"Test\": 64}, {\"Method\": 28, \"Test\": 33}, {\"Method\": 48, \"Test\": 114}, {\"Method\": 68, \"Test\": 34}, {\"Method\": 61, \"Test\": 17}, {\"Method\": 17, \"Test\": 166}, {\"Method\": 266, \"Test\": 52}, {\"Method\": 221, \"Test\": 144}, {\"Method\": 228, \"Test\": 54}, {\"Method\": 87, \"Test\": 329}, {\"Method\": 17, \"Test\": 31}, {\"Method\": 10, \"Test\": 60}, {\"Method\": 16, \"Test\": 44}, {\"Method\": 92, \"Test\": 142}, {\"Method\": 68, \"Test\": 123}, {\"Method\": 151, \"Test\": 31}, {\"Method\": 118, \"Test\": 199}, {\"Method\": 21, \"Test\": 52}, {\"Method\": 111, \"Test\": 64}, {\"Method\": 46, \"Test\": 80}, {\"Method\": 66, \"Test\": 50}, {\"Method\": 172, \"Test\": 135}, {\"Method\": 147, \"Test\": 129}, {\"Method\": 59, \"Test\": 69}, {\"Method\": 21, \"Test\": 27}, {\"Method\": 49, \"Test\": 58}, {\"Method\": 25, \"Test\": 107}, {\"Method\": 290, \"Test\": 102}, {\"Method\": 114, \"Test\": 366}, {\"Method\": 71, \"Test\": 33}, {\"Method\": 29, \"Test\": 72}, {\"Method\": 10, \"Test\": 22}, {\"Method\": 10, \"Test\": 17}, {\"Method\": 35, \"Test\": 86}, {\"Method\": 243, \"Test\": 42}, {\"Method\": 287, \"Test\": 82}, {\"Method\": 114, \"Test\": 82}, {\"Method\": 17, \"Test\": 44}, {\"Method\": 17, \"Test\": 43}, {\"Method\": 149, \"Test\": 97}, {\"Method\": 497, \"Test\": 97}, {\"Method\": 21, \"Test\": 89}, {\"Method\": 244, \"Test\": 56}, {\"Method\": 26, \"Test\": 83}, {\"Method\": 159, \"Test\": 37}, {\"Method\": 15, \"Test\": 39}, {\"Method\": 23, \"Test\": 65}, {\"Method\": 31, \"Test\": 94}, {\"Method\": 150, \"Test\": 238}, {\"Method\": 142, \"Test\": 162}, {\"Method\": 114, \"Test\": 149}, {\"Method\": 57, \"Test\": 81}, {\"Method\": 39, \"Test\": 69}, {\"Method\": 14, \"Test\": 100}, {\"Method\": 32, \"Test\": 106}, {\"Method\": 194, \"Test\": 15}, {\"Method\": 25, \"Test\": 40}, {\"Method\": 17, \"Test\": 32}, {\"Method\": 39, \"Test\": 31}, {\"Method\": 145, \"Test\": 105}, {\"Method\": 181, \"Test\": 172}, {\"Method\": 318, \"Test\": 149}, {\"Method\": 163, \"Test\": 17}, {\"Method\": 59, \"Test\": 28}, {\"Method\": 112, \"Test\": 157}, {\"Method\": 41, \"Test\": 101}, {\"Method\": 71, \"Test\": 44}, {\"Method\": 110, \"Test\": 49}, {\"Method\": 18, \"Test\": 26}, {\"Method\": 49, \"Test\": 60}, {\"Method\": 85, \"Test\": 71}, {\"Method\": 49, \"Test\": 56}, {\"Method\": 263, \"Test\": 307}, {\"Method\": 204, \"Test\": 77}, {\"Method\": 18, \"Test\": 8}, {\"Method\": 255, \"Test\": 137}, {\"Method\": 183, \"Test\": 137}, {\"Method\": 25, \"Test\": 40}, {\"Method\": 22, \"Test\": 49}, {\"Method\": 17, \"Test\": 71}, {\"Method\": 60, \"Test\": 58}, {\"Method\": 11, \"Test\": 551}, {\"Method\": 21, \"Test\": 38}, {\"Method\": 60, \"Test\": 125}, {\"Method\": 17, \"Test\": 65}, {\"Method\": 36, \"Test\": 73}, {\"Method\": 337, \"Test\": 165}, {\"Method\": 73, \"Test\": 32}, {\"Method\": 58, \"Test\": 77}, {\"Method\": 16, \"Test\": 42}, {\"Method\": 10, \"Test\": 476}, {\"Method\": 102, \"Test\": 148}, {\"Method\": 18, \"Test\": 38}, {\"Method\": 200, \"Test\": 113}, {\"Method\": 50, \"Test\": 49}, {\"Method\": 391, \"Test\": 170}, {\"Method\": 43, \"Test\": 66}, {\"Method\": 113, \"Test\": 104}, {\"Method\": 149, \"Test\": 67}, {\"Method\": 17, \"Test\": 28}, {\"Method\": 11, \"Test\": 35}, {\"Method\": 52, \"Test\": 84}, {\"Method\": 14, \"Test\": 41}, {\"Method\": 64, \"Test\": 152}, {\"Method\": 150, \"Test\": 67}, {\"Method\": 242, \"Test\": 92}, {\"Method\": 82, \"Test\": 80}, {\"Method\": 76, \"Test\": 55}, {\"Method\": 399, \"Test\": 235}, {\"Method\": 34, \"Test\": 32}, {\"Method\": 121, \"Test\": 55}, {\"Method\": 339, \"Test\": 22}, {\"Method\": 313, \"Test\": 30}, {\"Method\": 60, \"Test\": 65}, {\"Method\": 219, \"Test\": 115}, {\"Method\": 90, \"Test\": 56}, {\"Method\": 177, \"Test\": 35}, {\"Method\": 85, \"Test\": 129}, {\"Method\": 27, \"Test\": 28}, {\"Method\": 378, \"Test\": 181}, {\"Method\": 58, \"Test\": 184}, {\"Method\": 87, \"Test\": 47}, {\"Method\": 24, \"Test\": 128}, {\"Method\": 15, \"Test\": 83}, {\"Method\": 19, \"Test\": 21}, {\"Method\": 104, \"Test\": 32}, {\"Method\": 37, \"Test\": 112}, {\"Method\": 79, \"Test\": 29}, {\"Method\": 43, \"Test\": 22}, {\"Method\": 53, \"Test\": 118}, {\"Method\": 41, \"Test\": 71}, {\"Method\": 18, \"Test\": 31}, {\"Method\": 34, \"Test\": 45}, {\"Method\": 82, \"Test\": 77}, {\"Method\": 22, \"Test\": 26}, {\"Method\": 118, \"Test\": 61}, {\"Method\": 68, \"Test\": 10}, {\"Method\": 34, \"Test\": 33}, {\"Method\": 24, \"Test\": 28}, {\"Method\": 29, \"Test\": 22}, {\"Method\": 68, \"Test\": 42}, {\"Method\": 18, \"Test\": 84}, {\"Method\": 250, \"Test\": 122}, {\"Method\": 160, \"Test\": 80}, {\"Method\": 199, \"Test\": 22}, {\"Method\": 185, \"Test\": 69}, {\"Method\": 92, \"Test\": 28}, {\"Method\": 10, \"Test\": 32}, {\"Method\": 10, \"Test\": 19}, {\"Method\": 33, \"Test\": 22}, {\"Method\": 83, \"Test\": 84}, {\"Method\": 536, \"Test\": 23}, {\"Method\": 18, \"Test\": 19}, {\"Method\": 21, \"Test\": 38}, {\"Method\": 70, \"Test\": 25}, {\"Method\": 69, \"Test\": 69}, {\"Method\": 76, \"Test\": 60}, {\"Method\": 159, \"Test\": 171}, {\"Method\": 19, \"Test\": 22}, {\"Method\": 21, \"Test\": 86}, {\"Method\": 290, \"Test\": 247}, {\"Method\": 91, \"Test\": 80}, {\"Method\": 32, \"Test\": 85}, {\"Method\": 169, \"Test\": 233}, {\"Method\": 10, \"Test\": 27}, {\"Method\": 76, \"Test\": 60}, {\"Method\": 88, \"Test\": 37}, {\"Method\": 174, \"Test\": 27}, {\"Method\": 173, \"Test\": 275}, {\"Method\": 10, \"Test\": 25}, {\"Method\": 63, \"Test\": 276}, {\"Method\": 27, \"Test\": 202}, {\"Method\": 169, \"Test\": 76}, {\"Method\": 26, \"Test\": 171}, {\"Method\": 117, \"Test\": 26}, {\"Method\": 127, \"Test\": 34}, {\"Method\": 14, \"Test\": 34}, {\"Method\": 94, \"Test\": 72}, {\"Method\": 46, \"Test\": 39}, {\"Method\": 101, \"Test\": 97}, {\"Method\": 30, \"Test\": 76}, {\"Method\": 230, \"Test\": 108}, {\"Method\": 40, \"Test\": 34}, {\"Method\": 125, \"Test\": 67}, {\"Method\": 28, \"Test\": 191}, {\"Method\": 10, \"Test\": 52}, {\"Method\": 30, \"Test\": 41}, {\"Method\": 139, \"Test\": 241}, {\"Method\": 86, \"Test\": 29}, {\"Method\": 75, \"Test\": 34}, {\"Method\": 101, \"Test\": 143}, {\"Method\": 37, \"Test\": 101}, {\"Method\": 124, \"Test\": 70}, {\"Method\": 123, \"Test\": 46}, {\"Method\": 10, \"Test\": 8}, {\"Method\": 191, \"Test\": 162}, {\"Method\": 771, \"Test\": 294}, {\"Method\": 22, \"Test\": 40}, {\"Method\": 34, \"Test\": 41}, {\"Method\": 16, \"Test\": 100}, {\"Method\": 57, \"Test\": 22}, {\"Method\": 25, \"Test\": 70}, {\"Method\": 43, \"Test\": 34}, {\"Method\": 584, \"Test\": 556}, {\"Method\": 35, \"Test\": 37}, {\"Method\": 252, \"Test\": 97}, {\"Method\": 368, \"Test\": 72}, {\"Method\": 56, \"Test\": 147}, {\"Method\": 46, \"Test\": 126}, {\"Method\": 84, \"Test\": 139}, {\"Method\": 81, \"Test\": 72}, {\"Method\": 81, \"Test\": 195}, {\"Method\": 93, \"Test\": 76}, {\"Method\": 135, \"Test\": 43}, {\"Method\": 96, \"Test\": 81}, {\"Method\": 56, \"Test\": 75}, {\"Method\": 15, \"Test\": 125}, {\"Method\": 20, \"Test\": 216}, {\"Method\": 26, \"Test\": 47}, {\"Method\": 26, \"Test\": 64}, {\"Method\": 164, \"Test\": 138}, {\"Method\": 128, \"Test\": 72}, {\"Method\": 76, \"Test\": 22}, {\"Method\": 28, \"Test\": 90}, {\"Method\": 20, \"Test\": 152}, {\"Method\": 23, \"Test\": 42}, {\"Method\": 52, \"Test\": 335}, {\"Method\": 300, \"Test\": 124}, {\"Method\": 140, \"Test\": 64}, {\"Method\": 44, \"Test\": 168}, {\"Method\": 107, \"Test\": 67}, {\"Method\": 135, \"Test\": 50}, {\"Method\": 406, \"Test\": 144}, {\"Method\": 93, \"Test\": 52}, {\"Method\": 16, \"Test\": 28}, {\"Method\": 17, \"Test\": 32}, {\"Method\": 81, \"Test\": 164}, {\"Method\": 119, \"Test\": 221}, {\"Method\": 14, \"Test\": 88}, {\"Method\": 188, \"Test\": 36}, {\"Method\": 15, \"Test\": 26}, {\"Method\": 186, \"Test\": 171}, {\"Method\": 36, \"Test\": 52}, {\"Method\": 18, \"Test\": 47}, {\"Method\": 27, \"Test\": 115}, {\"Method\": 188, \"Test\": 49}, {\"Method\": 360, \"Test\": 149}, {\"Method\": 25, \"Test\": 261}, {\"Method\": 48, \"Test\": 27}, {\"Method\": 31, \"Test\": 58}, {\"Method\": 156, \"Test\": 30}, {\"Method\": 182, \"Test\": 179}, {\"Method\": 19, \"Test\": 93}, {\"Method\": 36, \"Test\": 19}, {\"Method\": 272, \"Test\": 67}, {\"Method\": 34, \"Test\": 25}, {\"Method\": 18, \"Test\": 51}, {\"Method\": 23, \"Test\": 706}, {\"Method\": 14, \"Test\": 41}, {\"Method\": 42, \"Test\": 39}, {\"Method\": 75, \"Test\": 186}, {\"Method\": 44, \"Test\": 148}, {\"Method\": 26, \"Test\": 104}, {\"Method\": 54, \"Test\": 116}, {\"Method\": 16, \"Test\": 31}, {\"Method\": 565, \"Test\": 54}, {\"Method\": 25, \"Test\": 67}, {\"Method\": 199, \"Test\": 64}, {\"Method\": 66, \"Test\": 76}, {\"Method\": 48, \"Test\": 146}, {\"Method\": 81, \"Test\": 159}, {\"Method\": 46, \"Test\": 30}, {\"Method\": 16, \"Test\": 25}, {\"Method\": 59, \"Test\": 120}, {\"Method\": 290, \"Test\": 42}, {\"Method\": 26, \"Test\": 22}, {\"Method\": 15, \"Test\": 26}, {\"Method\": 23, \"Test\": 31}, {\"Method\": 23, \"Test\": 60}, {\"Method\": 67, \"Test\": 31}, {\"Method\": 115, \"Test\": 247}, {\"Method\": 56, \"Test\": 108}, {\"Method\": 45, \"Test\": 85}, {\"Method\": 32, \"Test\": 125}, {\"Method\": 12, \"Test\": 36}, {\"Method\": 17, \"Test\": 33}, {\"Method\": 17, \"Test\": 60}, {\"Method\": 36, \"Test\": 51}, {\"Method\": 34, \"Test\": 61}, {\"Method\": 29, \"Test\": 28}, {\"Method\": 353, \"Test\": 263}, {\"Method\": 23, \"Test\": 99}, {\"Method\": 10, \"Test\": 118}, {\"Method\": 154, \"Test\": 247}, {\"Method\": 35, \"Test\": 195}, {\"Method\": 76, \"Test\": 46}, {\"Method\": 38, \"Test\": 72}, {\"Method\": 271, \"Test\": 40}, {\"Method\": 83, \"Test\": 145}, {\"Method\": 83, \"Test\": 65}, {\"Method\": 34, \"Test\": 24}, {\"Method\": 34, \"Test\": 46}, {\"Method\": 36, \"Test\": 101}, {\"Method\": 103, \"Test\": 61}, {\"Method\": 16, \"Test\": 15}, {\"Method\": 29, \"Test\": 118}, {\"Method\": 19, \"Test\": 227}, {\"Method\": 350, \"Test\": 13}, {\"Method\": 20, \"Test\": 39}, {\"Method\": 31, \"Test\": 71}, {\"Method\": 10, \"Test\": 24}, {\"Method\": 93, \"Test\": 179}, {\"Method\": 35, \"Test\": 22}, {\"Method\": 235, \"Test\": 19}, {\"Method\": 227, \"Test\": 43}, {\"Method\": 21, \"Test\": 42}, {\"Method\": 24, \"Test\": 60}, {\"Method\": 106, \"Test\": 83}, {\"Method\": 12, \"Test\": 124}, {\"Method\": 177, \"Test\": 135}, {\"Method\": 29, \"Test\": 33}, {\"Method\": 39, \"Test\": 73}, {\"Method\": 39, \"Test\": 71}, {\"Method\": 18, \"Test\": 33}, {\"Method\": 71, \"Test\": 32}, {\"Method\": 16, \"Test\": 28}, {\"Method\": 52, \"Test\": 547}, {\"Method\": 27, \"Test\": 17}, {\"Method\": 25, \"Test\": 300}, {\"Method\": 92, \"Test\": 78}, {\"Method\": 26, \"Test\": 437}, {\"Method\": 61, \"Test\": 166}, {\"Method\": 35, \"Test\": 297}, {\"Method\": 259, \"Test\": 51}, {\"Method\": 100, \"Test\": 116}, {\"Method\": 102, \"Test\": 131}, {\"Method\": 47, \"Test\": 20}, {\"Method\": 14, \"Test\": 21}, {\"Method\": 136, \"Test\": 90}, {\"Method\": 32, \"Test\": 59}, {\"Method\": 86, \"Test\": 59}, {\"Method\": 93, \"Test\": 33}, {\"Method\": 1076, \"Test\": 74}, {\"Method\": 38, \"Test\": 72}, {\"Method\": 53, \"Test\": 99}, {\"Method\": 19, \"Test\": 47}, {\"Method\": 52, \"Test\": 51}, {\"Method\": 59, \"Test\": 93}, {\"Method\": 121, \"Test\": 78}, {\"Method\": 340, \"Test\": 57}, {\"Method\": 15, \"Test\": 24}, {\"Method\": 135, \"Test\": 338}, {\"Method\": 31, \"Test\": 44}, {\"Method\": 220, \"Test\": 88}, {\"Method\": 41, \"Test\": 70}, {\"Method\": 36, \"Test\": 140}, {\"Method\": 30, \"Test\": 85}, {\"Method\": 25, \"Test\": 46}, {\"Method\": 27, \"Test\": 51}, {\"Method\": 107, \"Test\": 54}, {\"Method\": 34, \"Test\": 43}, {\"Method\": 129, \"Test\": 44}, {\"Method\": 43, \"Test\": 74}, {\"Method\": 67, \"Test\": 78}, {\"Method\": 46, \"Test\": 30}, {\"Method\": 41, \"Test\": 44}, {\"Method\": 112, \"Test\": 66}, {\"Method\": 246, \"Test\": 29}, {\"Method\": 198, \"Test\": 36}, {\"Method\": 72, \"Test\": 153}, {\"Method\": 151, \"Test\": 40}, {\"Method\": 102, \"Test\": 138}, {\"Method\": 38, \"Test\": 60}, {\"Method\": 110, \"Test\": 143}, {\"Method\": 19, \"Test\": 44}, {\"Method\": 15, \"Test\": 45}, {\"Method\": 114, \"Test\": 24}, {\"Method\": 10, \"Test\": 30}, {\"Method\": 110, \"Test\": 62}, {\"Method\": 28, \"Test\": 43}, {\"Method\": 10, \"Test\": 19}, {\"Method\": 47, \"Test\": 79}, {\"Method\": 31, \"Test\": 52}, {\"Method\": 156, \"Test\": 66}, {\"Method\": 39, \"Test\": 66}, {\"Method\": 26, \"Test\": 63}, {\"Method\": 31, \"Test\": 56}, {\"Method\": 18, \"Test\": 23}, {\"Method\": 118, \"Test\": 73}, {\"Method\": 18, \"Test\": 48}, {\"Method\": 29, \"Test\": 86}, {\"Method\": 185, \"Test\": 53}, {\"Method\": 22, \"Test\": 71}, {\"Method\": 35, \"Test\": 73}, {\"Method\": 311, \"Test\": 361}, {\"Method\": 217, \"Test\": 64}, {\"Method\": 71, \"Test\": 73}, {\"Method\": 18, \"Test\": 35}, {\"Method\": 270, \"Test\": 225}, {\"Method\": 16, \"Test\": 26}, {\"Method\": 119, \"Test\": 72}, {\"Method\": 47, \"Test\": 22}, {\"Method\": 54, \"Test\": 74}, {\"Method\": 98, \"Test\": 103}, {\"Method\": 38, \"Test\": 363}, {\"Method\": 37, \"Test\": 71}, {\"Method\": 16, \"Test\": 25}, {\"Method\": 118, \"Test\": 365}, {\"Method\": 51, \"Test\": 301}, {\"Method\": 210, \"Test\": 156}, {\"Method\": 22, \"Test\": 35}, {\"Method\": 22, \"Test\": 133}, {\"Method\": 176, \"Test\": 51}, {\"Method\": 60, \"Test\": 43}, {\"Method\": 21, \"Test\": 47}, {\"Method\": 61, \"Test\": 188}, {\"Method\": 68, \"Test\": 94}, {\"Method\": 17, \"Test\": 242}, {\"Method\": 10, \"Test\": 19}, {\"Method\": 46, \"Test\": 168}, {\"Method\": 136, \"Test\": 61}, {\"Method\": 37, \"Test\": 163}, {\"Method\": 153, \"Test\": 94}, {\"Method\": 112, \"Test\": 174}, {\"Method\": 31, \"Test\": 299}, {\"Method\": 22, \"Test\": 57}, {\"Method\": 99, \"Test\": 78}, {\"Method\": 169, \"Test\": 26}, {\"Method\": 40, \"Test\": 59}, {\"Method\": 32, \"Test\": 32}, {\"Method\": 19, \"Test\": 68}, {\"Method\": 1108, \"Test\": 181}, {\"Method\": 170, \"Test\": 193}, {\"Method\": 47, \"Test\": 130}, {\"Method\": 51, \"Test\": 41}, {\"Method\": 90, \"Test\": 244}, {\"Method\": 53, \"Test\": 74}, {\"Method\": 127, \"Test\": 32}, {\"Method\": 76, \"Test\": 232}, {\"Method\": 116, \"Test\": 27}, {\"Method\": 306, \"Test\": 314}, {\"Method\": 18, \"Test\": 22}, {\"Method\": 20, \"Test\": 92}, {\"Method\": 72, \"Test\": 33}, {\"Method\": 68, \"Test\": 66}, {\"Method\": 29, \"Test\": 71}, {\"Method\": 28, \"Test\": 39}, {\"Method\": 297, \"Test\": 147}, {\"Method\": 26, \"Test\": 207}, {\"Method\": 38, \"Test\": 58}, {\"Method\": 23, \"Test\": 67}, {\"Method\": 20, \"Test\": 69}, {\"Method\": 92, \"Test\": 210}, {\"Method\": 775, \"Test\": 259}, {\"Method\": 446, \"Test\": 115}, {\"Method\": 40, \"Test\": 92}, {\"Method\": 30, \"Test\": 529}, {\"Method\": 51, \"Test\": 90}, {\"Method\": 141, \"Test\": 53}, {\"Method\": 21, \"Test\": 44}, {\"Method\": 28, \"Test\": 26}, {\"Method\": 105, \"Test\": 51}, {\"Method\": 21, \"Test\": 40}, {\"Method\": 37, \"Test\": 188}, {\"Method\": 51, \"Test\": 51}, {\"Method\": 29, \"Test\": 114}, {\"Method\": 46, \"Test\": 70}, {\"Method\": 216, \"Test\": 100}, {\"Method\": 214, \"Test\": 73}, {\"Method\": 62, \"Test\": 98}, {\"Method\": 17, \"Test\": 26}, {\"Method\": 58, \"Test\": 37}, {\"Method\": 27, \"Test\": 19}, {\"Method\": 101, \"Test\": 36}, {\"Method\": 34, \"Test\": 33}, {\"Method\": 31, \"Test\": 97}, {\"Method\": 148, \"Test\": 142}, {\"Method\": 56, \"Test\": 54}, {\"Method\": 69, \"Test\": 45}, {\"Method\": 86, \"Test\": 181}, {\"Method\": 18, \"Test\": 8}, {\"Method\": 36, \"Test\": 141}, {\"Method\": 22, \"Test\": 48}, {\"Method\": 30, \"Test\": 93}, {\"Method\": 64, \"Test\": 61}, {\"Method\": 285, \"Test\": 295}, {\"Method\": 63, \"Test\": 18}, {\"Method\": 62, \"Test\": 155}, {\"Method\": 19, \"Test\": 30}, {\"Method\": 96, \"Test\": 15}, {\"Method\": 30, \"Test\": 62}, {\"Method\": 58, \"Test\": 66}, {\"Method\": 39, \"Test\": 69}, {\"Method\": 249, \"Test\": 55}, {\"Method\": 128, \"Test\": 23}, {\"Method\": 147, \"Test\": 252}, {\"Method\": 264, \"Test\": 345}, {\"Method\": 79, \"Test\": 82}, {\"Method\": 104, \"Test\": 109}, {\"Method\": 17, \"Test\": 44}, {\"Method\": 83, \"Test\": 39}, {\"Method\": 46, \"Test\": 204}, {\"Method\": 20, \"Test\": 62}, {\"Method\": 30, \"Test\": 46}, {\"Method\": 25, \"Test\": 68}, {\"Method\": 26, \"Test\": 17}, {\"Method\": 14, \"Test\": 72}, {\"Method\": 126, \"Test\": 97}, {\"Method\": 41, \"Test\": 317}, {\"Method\": 149, \"Test\": 105}, {\"Method\": 318, \"Test\": 48}, {\"Method\": 27, \"Test\": 17}, {\"Method\": 25, \"Test\": 60}, {\"Method\": 16, \"Test\": 102}, {\"Method\": 83, \"Test\": 45}, {\"Method\": 61, \"Test\": 150}, {\"Method\": 13, \"Test\": 32}, {\"Method\": 258, \"Test\": 116}, {\"Method\": 23, \"Test\": 43}, {\"Method\": 33, \"Test\": 105}, {\"Method\": 24, \"Test\": 24}, {\"Method\": 17, \"Test\": 93}, {\"Method\": 434, \"Test\": 141}, {\"Method\": 13, \"Test\": 129}, {\"Method\": 127, \"Test\": 108}, {\"Method\": 13, \"Test\": 145}, {\"Method\": 209, \"Test\": 88}, {\"Method\": 750, \"Test\": 97}, {\"Method\": 67, \"Test\": 126}, {\"Method\": 317, \"Test\": 215}, {\"Method\": 66, \"Test\": 20}, {\"Method\": 248, \"Test\": 10}, {\"Method\": 94, \"Test\": 56}, {\"Method\": 863, \"Test\": 88}, {\"Method\": 14, \"Test\": 24}, {\"Method\": 20, \"Test\": 52}, {\"Method\": 55, \"Test\": 51}, {\"Method\": 200, \"Test\": 59}, {\"Method\": 74, \"Test\": 66}, {\"Method\": 22, \"Test\": 88}, {\"Method\": 32, \"Test\": 94}, {\"Method\": 29, \"Test\": 77}, {\"Method\": 43, \"Test\": 60}, {\"Method\": 193, \"Test\": 129}, {\"Method\": 10, \"Test\": 31}, {\"Method\": 119, \"Test\": 255}, {\"Method\": 17, \"Test\": 66}, {\"Method\": 250, \"Test\": 104}, {\"Method\": 93, \"Test\": 98}, {\"Method\": 149, \"Test\": 119}, {\"Method\": 128, \"Test\": 208}, {\"Method\": 60, \"Test\": 74}, {\"Method\": 15, \"Test\": 100}, {\"Method\": 36, \"Test\": 16}, {\"Method\": 332, \"Test\": 165}, {\"Method\": 16, \"Test\": 19}, {\"Method\": 42, \"Test\": 103}, {\"Method\": 23, \"Test\": 114}, {\"Method\": 104, \"Test\": 146}, {\"Method\": 28, \"Test\": 24}, {\"Method\": 31, \"Test\": 65}, {\"Method\": 19, \"Test\": 94}, {\"Method\": 13, \"Test\": 24}, {\"Method\": 57, \"Test\": 14}, {\"Method\": 24, \"Test\": 53}, {\"Method\": 6, \"Test\": 26}, {\"Method\": 51, \"Test\": 32}, {\"Method\": 78, \"Test\": 67}, {\"Method\": 60, \"Test\": 67}, {\"Method\": 240, \"Test\": 59}, {\"Method\": 72, \"Test\": 28}, {\"Method\": 18, \"Test\": 33}, {\"Method\": 289, \"Test\": 68}, {\"Method\": 13, \"Test\": 27}, {\"Method\": 17, \"Test\": 33}, {\"Method\": 26, \"Test\": 85}, {\"Method\": 52, \"Test\": 54}, {\"Method\": 43, \"Test\": 35}, {\"Method\": 60, \"Test\": 64}, {\"Method\": 36, \"Test\": 55}, {\"Method\": 149, \"Test\": 135}, {\"Method\": 1166, \"Test\": 154}, {\"Method\": 104, \"Test\": 28}, {\"Method\": 123, \"Test\": 25}, {\"Method\": 58, \"Test\": 27}, {\"Method\": 28, \"Test\": 244}, {\"Method\": 28, \"Test\": 41}, {\"Method\": 54, \"Test\": 110}, {\"Method\": 54, \"Test\": 72}, {\"Method\": 64, \"Test\": 40}, {\"Method\": 28, \"Test\": 80}, {\"Method\": 91, \"Test\": 274}, {\"Method\": 25, \"Test\": 144}, {\"Method\": 53, \"Test\": 72}, {\"Method\": 93, \"Test\": 92}, {\"Method\": 249, \"Test\": 168}, {\"Method\": 199, \"Test\": 53}, {\"Method\": 111, \"Test\": 20}, {\"Method\": 104, \"Test\": 282}, {\"Method\": 48, \"Test\": 31}, {\"Method\": 144, \"Test\": 96}, {\"Method\": 24, \"Test\": 35}, {\"Method\": 176, \"Test\": 26}, {\"Method\": 17, \"Test\": 40}, {\"Method\": 85, \"Test\": 153}, {\"Method\": 246, \"Test\": 138}, {\"Method\": 96, \"Test\": 150}, {\"Method\": 331, \"Test\": 34}, {\"Method\": 81, \"Test\": 67}, {\"Method\": 13, \"Test\": 43}, {\"Method\": 37, \"Test\": 24}, {\"Method\": 27, \"Test\": 112}, {\"Method\": 104, \"Test\": 85}, {\"Method\": 10, \"Test\": 56}, {\"Method\": 125, \"Test\": 47}, {\"Method\": 119, \"Test\": 35}, {\"Method\": 256, \"Test\": 73}, {\"Method\": 13, \"Test\": 104}, {\"Method\": 64, \"Test\": 59}, {\"Method\": 15, \"Test\": 75}, {\"Method\": 1162, \"Test\": 104}, {\"Method\": 46, \"Test\": 197}, {\"Method\": 68, \"Test\": 27}, {\"Method\": 34, \"Test\": 150}, {\"Method\": 89, \"Test\": 96}, {\"Method\": 39, \"Test\": 122}, {\"Method\": 408, \"Test\": 73}, {\"Method\": 10, \"Test\": 36}, {\"Method\": 152, \"Test\": 204}, {\"Method\": 10, \"Test\": 49}, {\"Method\": 320, \"Test\": 71}, {\"Method\": 27, \"Test\": 76}, {\"Method\": 57, \"Test\": 116}, {\"Method\": 29, \"Test\": 296}, {\"Method\": 106, \"Test\": 72}, {\"Method\": 98, \"Test\": 390}, {\"Method\": 50, \"Test\": 89}, {\"Method\": 23, \"Test\": 41}, {\"Method\": 72, \"Test\": 109}, {\"Method\": 67, \"Test\": 120}, {\"Method\": 15, \"Test\": 30}, {\"Method\": 15, \"Test\": 58}, {\"Method\": 126, \"Test\": 71}, {\"Method\": 128, \"Test\": 176}, {\"Method\": 568, \"Test\": 110}, {\"Method\": 30, \"Test\": 37}, {\"Method\": 72, \"Test\": 30}, {\"Method\": 144, \"Test\": 57}, {\"Method\": 10, \"Test\": 62}, {\"Method\": 45, \"Test\": 245}, {\"Method\": 57, \"Test\": 47}, {\"Method\": 198, \"Test\": 121}, {\"Method\": 107, \"Test\": 31}, {\"Method\": 22, \"Test\": 95}, {\"Method\": 17, \"Test\": 38}, {\"Method\": 190, \"Test\": 39}, {\"Method\": 21, \"Test\": 99}, {\"Method\": 23, \"Test\": 220}, {\"Method\": 72, \"Test\": 69}, {\"Method\": 409, \"Test\": 808}, {\"Method\": 48, \"Test\": 104}, {\"Method\": 9, \"Test\": 30}, {\"Method\": 145, \"Test\": 37}, {\"Method\": 54, \"Test\": 62}, {\"Method\": 72, \"Test\": 81}, {\"Method\": 44, \"Test\": 72}, {\"Method\": 64, \"Test\": 47}, {\"Method\": 19, \"Test\": 30}, {\"Method\": 30, \"Test\": 15}, {\"Method\": 24, \"Test\": 38}, {\"Method\": 68, \"Test\": 69}, {\"Method\": 117, \"Test\": 44}, {\"Method\": 101, \"Test\": 180}, {\"Method\": 22, \"Test\": 52}, {\"Method\": 382, \"Test\": 66}, {\"Method\": 101, \"Test\": 236}, {\"Method\": 109, \"Test\": 94}, {\"Method\": 375, \"Test\": 30}, {\"Method\": 403, \"Test\": 111}, {\"Method\": 184, \"Test\": 177}, {\"Method\": 144, \"Test\": 928}, {\"Method\": 123, \"Test\": 34}, {\"Method\": 107, \"Test\": 56}, {\"Method\": 109, \"Test\": 56}, {\"Method\": 421, \"Test\": 62}, {\"Method\": 88, \"Test\": 87}, {\"Method\": 12, \"Test\": 26}, {\"Method\": 16, \"Test\": 59}, {\"Method\": 18, \"Test\": 98}, {\"Method\": 168, \"Test\": 79}, {\"Method\": 69, \"Test\": 33}, {\"Method\": 293, \"Test\": 25}, {\"Method\": 113, \"Test\": 49}, {\"Method\": 31, \"Test\": 85}, {\"Method\": 18, \"Test\": 39}, {\"Method\": 130, \"Test\": 56}, {\"Method\": 51, \"Test\": 75}, {\"Method\": 145, \"Test\": 339}, {\"Method\": 389, \"Test\": 394}, {\"Method\": 782, \"Test\": 285}, {\"Method\": 10, \"Test\": 120}, {\"Method\": 34, \"Test\": 63}, {\"Method\": 18, \"Test\": 34}, {\"Method\": 18, \"Test\": 59}, {\"Method\": 71, \"Test\": 96}, {\"Method\": 29, \"Test\": 194}, {\"Method\": 59, \"Test\": 55}, {\"Method\": 30, \"Test\": 56}, {\"Method\": 95, \"Test\": 180}, {\"Method\": 355, \"Test\": 146}, {\"Method\": 106, \"Test\": 93}, {\"Method\": 31, \"Test\": 23}, {\"Method\": 19, \"Test\": 158}, {\"Method\": 17, \"Test\": 61}, {\"Method\": 124, \"Test\": 45}, {\"Method\": 93, \"Test\": 78}, {\"Method\": 164, \"Test\": 151}, {\"Method\": 65, \"Test\": 82}, {\"Method\": 185, \"Test\": 28}, {\"Method\": 90, \"Test\": 40}, {\"Method\": 103, \"Test\": 167}, {\"Method\": 54, \"Test\": 67}, {\"Method\": 54, \"Test\": 66}, {\"Method\": 390, \"Test\": 41}, {\"Method\": 91, \"Test\": 48}, {\"Method\": 57, \"Test\": 132}, {\"Method\": 152, \"Test\": 59}, {\"Method\": 41, \"Test\": 80}, {\"Method\": 18, \"Test\": 19}, {\"Method\": 19, \"Test\": 72}, {\"Method\": 19, \"Test\": 28}, {\"Method\": 65, \"Test\": 49}, {\"Method\": 54, \"Test\": 758}, {\"Method\": 140, \"Test\": 61}, {\"Method\": 22, \"Test\": 42}, {\"Method\": 14, \"Test\": 211}, {\"Method\": 118, \"Test\": 37}, {\"Method\": 17, \"Test\": 20}, {\"Method\": 14, \"Test\": 45}, {\"Method\": 309, \"Test\": 24}, {\"Method\": 28, \"Test\": 103}, {\"Method\": 29, \"Test\": 58}, {\"Method\": 20, \"Test\": 113}, {\"Method\": 10, \"Test\": 26}, {\"Method\": 142, \"Test\": 287}, {\"Method\": 105, \"Test\": 135}, {\"Method\": 14, \"Test\": 53}, {\"Method\": 25, \"Test\": 77}, {\"Method\": 606, \"Test\": 150}, {\"Method\": 192, \"Test\": 40}, {\"Method\": 22, \"Test\": 154}, {\"Method\": 575, \"Test\": 75}, {\"Method\": 108, \"Test\": 78}, {\"Method\": 99, \"Test\": 130}, {\"Method\": 16, \"Test\": 18}, {\"Method\": 28, \"Test\": 42}, {\"Method\": 213, \"Test\": 510}, {\"Method\": 59, \"Test\": 147}, {\"Method\": 57, \"Test\": 57}, {\"Method\": 133, \"Test\": 56}, {\"Method\": 292, \"Test\": 282}, {\"Method\": 32, \"Test\": 46}, {\"Method\": 129, \"Test\": 82}, {\"Method\": 32, \"Test\": 103}, {\"Method\": 126, \"Test\": 355}, {\"Method\": 237, \"Test\": 115}, {\"Method\": 44, \"Test\": 34}, {\"Method\": 154, \"Test\": 120}, {\"Method\": 46, \"Test\": 57}, {\"Method\": 10, \"Test\": 54}, {\"Method\": 10, \"Test\": 95}, {\"Method\": 31, \"Test\": 79}, {\"Method\": 289, \"Test\": 79}, {\"Method\": 15, \"Test\": 29}, {\"Method\": 22, \"Test\": 76}, {\"Method\": 11, \"Test\": 165}, {\"Method\": 10, \"Test\": 32}, {\"Method\": 183, \"Test\": 58}, {\"Method\": 18, \"Test\": 91}, {\"Method\": 144, \"Test\": 24}, {\"Method\": 52, \"Test\": 66}, {\"Method\": 325, \"Test\": 73}, {\"Method\": 290, \"Test\": 91}, {\"Method\": 40, \"Test\": 52}, {\"Method\": 98, \"Test\": 433}, {\"Method\": 19, \"Test\": 44}, {\"Method\": 23, \"Test\": 45}, {\"Method\": 18, \"Test\": 32}, {\"Method\": 28, \"Test\": 77}, {\"Method\": 10, \"Test\": 75}, {\"Method\": 20, \"Test\": 115}, {\"Method\": 54, \"Test\": 172}, {\"Method\": 126, \"Test\": 124}, {\"Method\": 45, \"Test\": 55}, {\"Method\": 57, \"Test\": 74}, {\"Method\": 50, \"Test\": 195}, {\"Method\": 27, \"Test\": 106}, {\"Method\": 177, \"Test\": 127}, {\"Method\": 26, \"Test\": 36}, {\"Method\": 17, \"Test\": 34}, {\"Method\": 169, \"Test\": 134}, {\"Method\": 45, \"Test\": 65}, {\"Method\": 16, \"Test\": 20}, {\"Method\": 19, \"Test\": 63}, {\"Method\": 20, \"Test\": 52}, {\"Method\": 87, \"Test\": 50}, {\"Method\": 132, \"Test\": 21}, {\"Method\": 254, \"Test\": 169}, {\"Method\": 171, \"Test\": 205}, {\"Method\": 13, \"Test\": 24}, {\"Method\": 27, \"Test\": 19}, {\"Method\": 113, \"Test\": 48}, {\"Method\": 22, \"Test\": 59}, {\"Method\": 410, \"Test\": 69}, {\"Method\": 97, \"Test\": 67}, {\"Method\": 135, \"Test\": 74}, {\"Method\": 49, \"Test\": 114}, {\"Method\": 210, \"Test\": 96}, {\"Method\": 19, \"Test\": 126}, {\"Method\": 257, \"Test\": 115}, {\"Method\": 925, \"Test\": 729}, {\"Method\": 117, \"Test\": 78}, {\"Method\": 199, \"Test\": 38}, {\"Method\": 10, \"Test\": 19}, {\"Method\": 21, \"Test\": 506}, {\"Method\": 20, \"Test\": 27}, {\"Method\": 12, \"Test\": 35}, {\"Method\": 82, \"Test\": 46}, {\"Method\": 378, \"Test\": 19}, {\"Method\": 24, \"Test\": 115}, {\"Method\": 125, \"Test\": 116}, {\"Method\": 47, \"Test\": 23}, {\"Method\": 74, \"Test\": 19}, {\"Method\": 50, \"Test\": 53}, {\"Method\": 25, \"Test\": 58}, {\"Method\": 50, \"Test\": 54}, {\"Method\": 328, \"Test\": 78}, {\"Method\": 146, \"Test\": 56}, {\"Method\": 108, \"Test\": 116}, {\"Method\": 33, \"Test\": 491}, {\"Method\": 15, \"Test\": 45}, {\"Method\": 70, \"Test\": 40}, {\"Method\": 51, \"Test\": 80}, {\"Method\": 273, \"Test\": 162}, {\"Method\": 23, \"Test\": 80}, {\"Method\": 34, \"Test\": 17}, {\"Method\": 188, \"Test\": 70}, {\"Method\": 370, \"Test\": 203}, {\"Method\": 110, \"Test\": 138}, {\"Method\": 51, \"Test\": 23}, {\"Method\": 279, \"Test\": 193}, {\"Method\": 30, \"Test\": 42}, {\"Method\": 18, \"Test\": 114}, {\"Method\": 63, \"Test\": 68}, {\"Method\": 145, \"Test\": 23}, {\"Method\": 90, \"Test\": 28}, {\"Method\": 17, \"Test\": 64}, {\"Method\": 144, \"Test\": 59}, {\"Method\": 206, \"Test\": 332}, {\"Method\": 83, \"Test\": 98}, {\"Method\": 24, \"Test\": 54}, {\"Method\": 218, \"Test\": 77}, {\"Method\": 14, \"Test\": 62}, {\"Method\": 15, \"Test\": 31}, {\"Method\": 34, \"Test\": 50}, {\"Method\": 43, \"Test\": 53}, {\"Method\": 27, \"Test\": 45}, {\"Method\": 42, \"Test\": 226}, {\"Method\": 23, \"Test\": 139}, {\"Method\": 26, \"Test\": 68}, {\"Method\": 21, \"Test\": 24}, {\"Method\": 448, \"Test\": 66}, {\"Method\": 342, \"Test\": 26}, {\"Method\": 104, \"Test\": 443}, {\"Method\": 79, \"Test\": 71}, {\"Method\": 57, \"Test\": 136}, {\"Method\": 432, \"Test\": 156}, {\"Method\": 179, \"Test\": 134}, {\"Method\": 39, \"Test\": 53}, {\"Method\": 16, \"Test\": 67}, {\"Method\": 129, \"Test\": 247}, {\"Method\": 9, \"Test\": 41}, {\"Method\": 66, \"Test\": 105}, {\"Method\": 93, \"Test\": 54}, {\"Method\": 161, \"Test\": 41}, {\"Method\": 18, \"Test\": 68}, {\"Method\": 30, \"Test\": 46}, {\"Method\": 85, \"Test\": 316}, {\"Method\": 51, \"Test\": 68}, {\"Method\": 251, \"Test\": 54}, {\"Method\": 73, \"Test\": 167}, {\"Method\": 56, \"Test\": 88}, {\"Method\": 49, \"Test\": 46}, {\"Method\": 114, \"Test\": 28}, {\"Method\": 1230, \"Test\": 103}, {\"Method\": 43, \"Test\": 142}, {\"Method\": 17, \"Test\": 55}, {\"Method\": 15, \"Test\": 52}, {\"Method\": 28, \"Test\": 57}, {\"Method\": 132, \"Test\": 197}, {\"Method\": 68, \"Test\": 56}, {\"Method\": 81, \"Test\": 108}, {\"Method\": 38, \"Test\": 185}, {\"Method\": 85, \"Test\": 64}, {\"Method\": 40, \"Test\": 103}, {\"Method\": 28, \"Test\": 23}, {\"Method\": 1669, \"Test\": 196}, {\"Method\": 55, \"Test\": 53}, {\"Method\": 17, \"Test\": 44}, {\"Method\": 13, \"Test\": 25}, {\"Method\": 136, \"Test\": 65}, {\"Method\": 130, \"Test\": 228}, {\"Method\": 25, \"Test\": 83}, {\"Method\": 10, \"Test\": 31}, {\"Method\": 76, \"Test\": 204}, {\"Method\": 233, \"Test\": 80}, {\"Method\": 114, \"Test\": 32}, {\"Method\": 37, \"Test\": 46}, {\"Method\": 23, \"Test\": 28}, {\"Method\": 51, \"Test\": 214}, {\"Method\": 18, \"Test\": 8}, {\"Method\": 27, \"Test\": 50}, {\"Method\": 28, \"Test\": 27}, {\"Method\": 159, \"Test\": 199}, {\"Method\": 49, \"Test\": 100}, {\"Method\": 18, \"Test\": 74}, {\"Method\": 110, \"Test\": 57}, {\"Method\": 17, \"Test\": 55}, {\"Method\": 129, \"Test\": 530}, {\"Method\": 616, \"Test\": 86}, {\"Method\": 46, \"Test\": 129}, {\"Method\": 103, \"Test\": 136}, {\"Method\": 59, \"Test\": 179}, {\"Method\": 213, \"Test\": 304}, {\"Method\": 393, \"Test\": 79}, {\"Method\": 13, \"Test\": 164}, {\"Method\": 20, \"Test\": 35}, {\"Method\": 89, \"Test\": 169}, {\"Method\": 70, \"Test\": 96}, {\"Method\": 155, \"Test\": 235}, {\"Method\": 281, \"Test\": 78}, {\"Method\": 14, \"Test\": 52}, {\"Method\": 77, \"Test\": 107}, {\"Method\": 31, \"Test\": 31}, {\"Method\": 61, \"Test\": 50}, {\"Method\": 117, \"Test\": 110}, {\"Method\": 240, \"Test\": 30}, {\"Method\": 40, \"Test\": 61}, {\"Method\": 102, \"Test\": 39}, {\"Method\": 224, \"Test\": 108}, {\"Method\": 30, \"Test\": 202}, {\"Method\": 145, \"Test\": 189}, {\"Method\": 14, \"Test\": 26}, {\"Method\": 51, \"Test\": 88}, {\"Method\": 27, \"Test\": 204}, {\"Method\": 19, \"Test\": 40}, {\"Method\": 62, \"Test\": 15}, {\"Method\": 138, \"Test\": 38}, {\"Method\": 56, \"Test\": 112}, {\"Method\": 70, \"Test\": 53}, {\"Method\": 13, \"Test\": 14}, {\"Method\": 28, \"Test\": 45}, {\"Method\": 21, \"Test\": 45}, {\"Method\": 15, \"Test\": 30}, {\"Method\": 148, \"Test\": 107}, {\"Method\": 50, \"Test\": 40}, {\"Method\": 7, \"Test\": 48}, {\"Method\": 121, \"Test\": 97}, {\"Method\": 38, \"Test\": 28}, {\"Method\": 20, \"Test\": 122}, {\"Method\": 19, \"Test\": 34}, {\"Method\": 69, \"Test\": 120}, {\"Method\": 19, \"Test\": 58}, {\"Method\": 17, \"Test\": 25}, {\"Method\": 17, \"Test\": 282}, {\"Method\": 17, \"Test\": 114}, {\"Method\": 45, \"Test\": 157}, {\"Method\": 14, \"Test\": 23}, {\"Method\": 23, \"Test\": 35}, {\"Method\": 11, \"Test\": 42}, {\"Method\": 17, \"Test\": 79}, {\"Method\": 34, \"Test\": 79}, {\"Method\": 25, \"Test\": 34}, {\"Method\": 156, \"Test\": 62}, {\"Method\": 26, \"Test\": 25}, {\"Method\": 130, \"Test\": 35}, {\"Method\": 42, \"Test\": 22}, {\"Method\": 37, \"Test\": 108}, {\"Method\": 35, \"Test\": 106}, {\"Method\": 65, \"Test\": 96}, {\"Method\": 13, \"Test\": 37}, {\"Method\": 11, \"Test\": 153}, {\"Method\": 40, \"Test\": 49}, {\"Method\": 52, \"Test\": 49}, {\"Method\": 31, \"Test\": 123}, {\"Method\": 10, \"Test\": 38}, {\"Method\": 186, \"Test\": 60}, {\"Method\": 113, \"Test\": 62}, {\"Method\": 125, \"Test\": 23}, {\"Method\": 97, \"Test\": 421}, {\"Method\": 64, \"Test\": 84}, {\"Method\": 83, \"Test\": 46}, {\"Method\": 81, \"Test\": 33}, {\"Method\": 75, \"Test\": 70}, {\"Method\": 25, \"Test\": 58}, {\"Method\": 10, \"Test\": 40}, {\"Method\": 373, \"Test\": 45}, {\"Method\": 108, \"Test\": 16}, {\"Method\": 92, \"Test\": 214}, {\"Method\": 28, \"Test\": 26}, {\"Method\": 18, \"Test\": 33}, {\"Method\": 18, \"Test\": 36}, {\"Method\": 137, \"Test\": 435}, {\"Method\": 157, \"Test\": 20}, {\"Method\": 150, \"Test\": 278}, {\"Method\": 19, \"Test\": 116}, {\"Method\": 154, \"Test\": 122}, {\"Method\": 119, \"Test\": 36}, {\"Method\": 468, \"Test\": 191}, {\"Method\": 26, \"Test\": 202}]}}, {\"mode\": \"vega-lite\"});\n",
       "</script>"
      ],
      "text/plain": [
       "alt.Chart(...)"
      ]
     },
     "execution_count": 32,
     "metadata": {},
     "output_type": "execute_result"
    }
   ],
   "source": [
    "# chart of the correlation between the length of the methods and tests:\n",
    "\n",
    "alt.Chart(length_of_sentences).mark_rect().encode(\n",
    "    alt.X('Method', bin=alt.Bin(maxbins=200)),\n",
    "    alt.Y('Test', bin=alt.Bin(maxbins=200)),\n",
    "    alt.Color('count()')\n",
    ").interactive().properties(\n",
    "    width=400,\n",
    "    height=400\n",
    ")"
   ]
  },
  {
   "cell_type": "code",
   "execution_count": null,
   "metadata": {},
   "outputs": [],
   "source": [
    "# results:\n",
    "\n",
    "length_of_sentences"
   ]
  },
  {
   "cell_type": "code",
   "execution_count": null,
   "metadata": {},
   "outputs": [],
   "source": [
    "# selecting short samples:\n",
    "\n",
    "small_sentences = length_of_sentences[length_of_sentences['Method']<210]\n",
    "small_sentences = small_sentences[small_sentences['Test']<280]\n",
    "small_sentences"
   ]
  },
  {
   "cell_type": "code",
   "execution_count": 36,
   "metadata": {},
   "outputs": [],
   "source": [
    "# saving the index of the selected samples (short samples):\n",
    "\n",
    "small_sentences_index = small_sentences.index.values\n",
    "\n",
    "with open(\"small_sentences_index.txt\", \"w\") as output:\n",
    "    for row in small_sentences_index:\n",
    "        output.write(str(row) + '\\n')"
   ]
  },
  {
   "cell_type": "markdown",
   "metadata": {},
   "source": [
    "### Removing long sentences: "
   ]
  },
  {
   "cell_type": "code",
   "execution_count": 37,
   "metadata": {},
   "outputs": [],
   "source": [
    "# reading the dataset:\n",
    "\n",
    "with open('input_abs_final.txt', 'r', encoding='utf-8') as f:\n",
    "    input_sentences = f.read().split('\\n')\n",
    "del input_sentences[-1]  # last element is ''\n",
    "\n",
    "\n",
    "with open('output_abs_final.txt', 'r', encoding='utf-8') as f:\n",
    "    target_sentences = f.read().split('\\n')\n",
    "del target_sentences[-1]  # last element is ''\n"
   ]
  },
  {
   "cell_type": "code",
   "execution_count": 38,
   "metadata": {},
   "outputs": [],
   "source": [
    "# Uploads the file of the indexes of short samples:\n",
    "\n",
    "small_sentences_index = []\n",
    "\n",
    "with open(\"small_sentences_index.txt\", \"r\", encoding='utf-8') as f:\n",
    "    small_sentences_index = f.read().split('\\n')\n",
    "del small_sentences_index[-1]  # last element is ''"
   ]
  },
  {
   "cell_type": "code",
   "execution_count": 39,
   "metadata": {},
   "outputs": [
    {
     "name": "stdout",
     "output_type": "stream",
     "text": [
      "num samples input: 1038\n",
      "num samples output: 1038\n"
     ]
    }
   ],
   "source": [
    "# Removing long sentences:\n",
    "\n",
    "temp_input_sentences = []\n",
    "temp_target_sentences = []\n",
    "\n",
    "for i in small_sentences_index:\n",
    "    temp_input_sentences.append(input_sentences[int(i)])\n",
    "    temp_target_sentences.append(target_sentences[int(i)])\n",
    "\n",
    "input_sentences = temp_input_sentences\n",
    "target_sentences = temp_target_sentences\n",
    "\n",
    "del temp_input_sentences\n",
    "del temp_target_sentences\n",
    "\n",
    "print(\"num samples input:\", len(input_sentences))\n",
    "print(\"num samples output:\", len(target_sentences))\n"
   ]
  },
  {
   "cell_type": "code",
   "execution_count": 40,
   "metadata": {},
   "outputs": [],
   "source": [
    "# Finally saveing the last version of the methods and test samples:\n",
    "\n",
    "with open(\"input_sentences_final.txt\", \"w\", encoding='utf-8') as f_input_sentences:\n",
    "    for row in input_sentences:\n",
    "        f_input_sentences.write(str(row) + '\\n')   \n",
    "f_input_sentences.close()        \n",
    "        \n",
    "with open(\"target_sentences_final.txt\", \"w\", encoding='utf-8') as f_target_sentences:\n",
    "    for row in target_sentences:\n",
    "        f_target_sentences.write(str(row) + '\\n')\n",
    "f_target_sentences.close()"
   ]
  },
  {
   "cell_type": "code",
   "execution_count": null,
   "metadata": {},
   "outputs": [],
   "source": [
    "# Final version of input samples: (input_sentences_final.txt)\n",
    "\n",
    "print(\"Number of input samples (methods):\\n\", len(input_sentences), \"\\n\")\n",
    "for i in range(10):\n",
    "    print(input_sentences[i])"
   ]
  },
  {
   "cell_type": "code",
   "execution_count": null,
   "metadata": {},
   "outputs": [],
   "source": [
    "# Final version of output samples: (target_sentences_final.txt)\n",
    "\n",
    "print(\"Number of output samples (test cases):\\n\", len(target_sentences), \"\\n\")\n",
    "for i in range(10):\n",
    "    print(target_sentences[i])"
   ]
  },
  {
   "cell_type": "code",
   "execution_count": null,
   "metadata": {},
   "outputs": [],
   "source": []
  },
  {
   "cell_type": "markdown",
   "metadata": {},
   "source": [
    "## Now you can train your model (^_^)"
   ]
  },
  {
   "cell_type": "code",
   "execution_count": null,
   "metadata": {},
   "outputs": [],
   "source": []
  }
 ],
 "metadata": {
  "kernelspec": {
   "display_name": "Python 3",
   "language": "python",
   "name": "python3"
  },
  "language_info": {
   "codemirror_mode": {
    "name": "ipython",
    "version": 3
   },
   "file_extension": ".py",
   "mimetype": "text/x-python",
   "name": "python",
   "nbconvert_exporter": "python",
   "pygments_lexer": "ipython3",
   "version": "3.8.2"
  }
 },
 "nbformat": 4,
 "nbformat_minor": 4
}
